{
 "cells": [
  {
   "cell_type": "markdown",
   "metadata": {},
   "source": [
    "# COVID-19 Drug Design using Generative RNN-LSTM\n",
    "\n",
    "By Ho Jia Min\n",
    "\n",
    "![coronavirus-structure.jpg](images/coronavirus-structure.jpg)"
   ]
  },
  {
   "cell_type": "markdown",
   "metadata": {},
   "source": [
    "# 1. Introduction - Overview of problem and approach\n",
    "\n",
    "\n",
    "\n",
    "COVID-19 is an infectious disease caused by a newly discovered strain of coronavirus (SARS-CoV-2), a type of virus known to cause respiratory infections in humans. This new strain was unknown before December 2019, when an outbreak of a pneumonia of unidentified cause emerged in Wuhan, China. The first case of COVID-19 in Malaysia was detected on 24 January 2020. \n",
    "\n",
    "Basic Local Alignment Search Tool (BLAST) results show close homology to the bat Coronavirus. A crystal structure of the main protease of the virus was obtained by Liu et al., found at https://www.rcsb.org/structure/6LU7\n",
    "\n",
    "Since the outbreak, researchers have been collaborating and working closely to stop the spread of the disease and to propose possible treatment plans. New advances in machine intelligence have introduced algorithms that can learn important patterns from vast amounts of data, approaching expert-level of ability in some tasks. This means that anyone with these models can contribute to the global research effort. \n",
    "\n",
    "My project uses many ideas and implementations developed by others, and bring them together towards a common task. \n",
    "\n",
    "The aim of this project is to find drug candidates (ligand) with a high binding affinity with the COVID-19 main protease using deep learning.\n",
    "\n",
    "1. Outline of the problem and introduction\n",
    "\n",
    "2. Dataset preparation\n",
    "\n",
    "3. Train LSTM-based RNN model\n",
    "\n",
    "4. Generate SMILES strings\n",
    "\n",
    "5. Use transfer learning to fine-tune model, generating molecules that are structurally similar to potential protease inhibitors of COVID-19\n",
    "\n",
    "6. Use PyRx to get binding scores of molecules with SARS-CoV-2 main protease\n",
    "\n",
    "7. Highest scoring candidates are reported\n"
   ]
  },
  {
   "cell_type": "markdown",
   "metadata": {},
   "source": [
    "\n",
    "## References\n",
    "\n",
    "Generative Recurrent Network for De Novo Drug Design https://www.ncbi.nlm.nih.gov/pmc/articles/PMC5836943/ https://github.com/topazape/LSTM_Chem\n",
    "\n",
    "Binding site analysis of potential protease inhibitors of COVID-19 using AutoDock https://link.springer.com/article/10.1007/s13337-020-00585-z\n",
    "\n",
    "PubChem data related to COVID-19 https://pubchemdocs.ncbi.nlm.nih.gov/covid-19\n",
    "\n",
    "Refer here for COVID-19 drugs in clinical trials https://pubchem.ncbi.nlm.nih.gov/#tab=compound&query=covid-19%20clinicaltrials\n",
    "\n",
    "\n",
    "## Related Work\n",
    "\n",
    "https://github.com/topazape/LSTM_Chem\n",
    "\n",
    "https://github.com/forkwell-io/fch-drug-discovery\n",
    "\n",
    "https://github.com/mattroconnor/deep_learning_coronavirus_cure\n",
    "\n",
    "https://github.com/tmacdou4/2019-nCov\n",
    "\n",
    "\n",
    "# Inhibitor TARGET: SARS-CoV-2 Main Protease\n",
    "\n",
    "<img src='images/protease-inhibitor.png'/>\n",
    "\n",
    "https://www.sciencedirect.com/science/article/pii/S2090123220300540"
   ]
  },
  {
   "cell_type": "markdown",
   "metadata": {},
   "source": [
    "## Requirements\n",
    "\n",
    "This model is built using Python 3.7, and utilizes the following packages;\n",
    "\n",
    "- numpy\n",
    "- pandas\n",
    "- tensorflow\n",
    "- tqdm\n",
    "- Bunch\n",
    "- matplotlib \n",
    "- RDKit \n",
    "- scikit-learn\n",
    "\n",
    "RDKit is a collection of cheminformatics and machine-learning software.\n",
    "\n",
    "RDKit and matplotlib are used for SMILES cleanup, validation, and visualization of molecules and their properties.\n",
    "\n",
    "Scikit-learn is used for PCA."
   ]
  },
  {
   "cell_type": "code",
   "execution_count": null,
   "metadata": {},
   "outputs": [],
   "source": [
    "# conda install -c conda-forge rdkit\n",
    "# conda install -c conda-forge bunch\n",
    "# conda install -c conda-forge matplotlib\n",
    "# conda install -c anaconda pandas\n",
    "# conda install -c anaconda scikit-learn\n",
    "# pip install tensorflow\n",
    "# pip install keras"
   ]
  },
  {
   "cell_type": "markdown",
   "metadata": {},
   "source": [
    "## Dataset Description\n",
    "\n",
    "#### ZINC Database\n",
    "https://zinc.docking.org \\\n",
    "https://github.com/molecularsets/moses\n",
    "\n",
    "The set is based on the ZINC Clean Leads collection. It contains 4,591,276 molecules in total, filtered by molecular weight in the range from 250 to 350 Daltons, a number of rotatable bonds not greater than 7, and XlogP less than or equal to 3.5. Molecules containing charged atoms or atoms besides C, N, S, O, F, Cl, Br, H or cycles longer than 8 atoms have been removed. The molecules were filtered via medicinal chemistry filters (MCFs) and PAINS filters. The dataset contains 1,936,962 molecular structures. \n",
    "\n",
    "#### ChEMBL\n",
    "https://www.ebi.ac.uk/chembl/ \\\n",
    "https://github.com/topazape/LSTM_Chem/blob/master/datasets/dataset.smi\n",
    "\n",
    "ChEMBL is a manually curated database of bioactive molecules with drug-like properties. It brings together chemical, bioactivity and genomic data to aid the translation of genomic information into effective new drugs."
   ]
  },
  {
   "cell_type": "markdown",
   "metadata": {},
   "source": [
    "# 2. Dataset Preparation\n",
    "\n",
    "\n",
    "Combine datasets from two sources: i) ZINC database and ii) ChEMBL. Together these two data sets represent about 2.5 million smiles."
   ]
  },
  {
   "cell_type": "code",
   "execution_count": 2,
   "metadata": {},
   "outputs": [],
   "source": [
    "import pandas as pd"
   ]
  },
  {
   "cell_type": "code",
   "execution_count": 2,
   "metadata": {},
   "outputs": [
    {
     "name": "stdout",
     "output_type": "stream",
     "text": [
      "(1936962, 2)\n",
      "(1936962, 2)\n"
     ]
    },
    {
     "data": {
      "text/html": [
       "<div>\n",
       "<style scoped>\n",
       "    .dataframe tbody tr th:only-of-type {\n",
       "        vertical-align: middle;\n",
       "    }\n",
       "\n",
       "    .dataframe tbody tr th {\n",
       "        vertical-align: top;\n",
       "    }\n",
       "\n",
       "    .dataframe thead th {\n",
       "        text-align: right;\n",
       "    }\n",
       "</style>\n",
       "<table border=\"1\" class=\"dataframe\">\n",
       "  <thead>\n",
       "    <tr style=\"text-align: right;\">\n",
       "      <th></th>\n",
       "      <th>SMILES</th>\n",
       "      <th>SPLIT</th>\n",
       "      <th>smiles</th>\n",
       "      <th>length</th>\n",
       "    </tr>\n",
       "  </thead>\n",
       "  <tbody>\n",
       "    <tr>\n",
       "      <th>0</th>\n",
       "      <td>CCCS(=O)c1ccc2[nH]c(=NC(=O)OC)[nH]c2c1</td>\n",
       "      <td>train</td>\n",
       "      <td>CCCS(=O)c1ccc2[nH]c(=NC(=O)OC)[nH]c2c1</td>\n",
       "      <td>38</td>\n",
       "    </tr>\n",
       "    <tr>\n",
       "      <th>1</th>\n",
       "      <td>CC(C)(C)C(=O)C(Oc1ccc(Cl)cc1)n1ccnc1</td>\n",
       "      <td>train</td>\n",
       "      <td>CC(C)(C)C(=O)C(Oc1ccc(Cl)cc1)n1ccnc1</td>\n",
       "      <td>36</td>\n",
       "    </tr>\n",
       "    <tr>\n",
       "      <th>2</th>\n",
       "      <td>CC1C2CCC(C2)C1CN(CCO)C(=O)c1ccc(Cl)cc1</td>\n",
       "      <td>test</td>\n",
       "      <td>CC1C2CCC(C2)C1CN(CCO)C(=O)c1ccc(Cl)cc1</td>\n",
       "      <td>38</td>\n",
       "    </tr>\n",
       "    <tr>\n",
       "      <th>3</th>\n",
       "      <td>Cc1c(Cl)cccc1Nc1ncccc1C(=O)OCC(O)CO</td>\n",
       "      <td>train</td>\n",
       "      <td>Cc1c(Cl)cccc1Nc1ncccc1C(=O)OCC(O)CO</td>\n",
       "      <td>35</td>\n",
       "    </tr>\n",
       "    <tr>\n",
       "      <th>4</th>\n",
       "      <td>Cn1cnc2c1c(=O)n(CC(O)CO)c(=O)n2C</td>\n",
       "      <td>train</td>\n",
       "      <td>Cn1cnc2c1c(=O)n(CC(O)CO)c(=O)n2C</td>\n",
       "      <td>32</td>\n",
       "    </tr>\n",
       "  </tbody>\n",
       "</table>\n",
       "</div>"
      ],
      "text/plain": [
       "                                   SMILES  SPLIT  \\\n",
       "0  CCCS(=O)c1ccc2[nH]c(=NC(=O)OC)[nH]c2c1  train   \n",
       "1    CC(C)(C)C(=O)C(Oc1ccc(Cl)cc1)n1ccnc1  train   \n",
       "2  CC1C2CCC(C2)C1CN(CCO)C(=O)c1ccc(Cl)cc1   test   \n",
       "3     Cc1c(Cl)cccc1Nc1ncccc1C(=O)OCC(O)CO  train   \n",
       "4        Cn1cnc2c1c(=O)n(CC(O)CO)c(=O)n2C  train   \n",
       "\n",
       "                                   smiles  length  \n",
       "0  CCCS(=O)c1ccc2[nH]c(=NC(=O)OC)[nH]c2c1      38  \n",
       "1    CC(C)(C)C(=O)C(Oc1ccc(Cl)cc1)n1ccnc1      36  \n",
       "2  CC1C2CCC(C2)C1CN(CCO)C(=O)c1ccc(Cl)cc1      38  \n",
       "3     Cc1c(Cl)cccc1Nc1ncccc1C(=O)OCC(O)CO      35  \n",
       "4        Cn1cnc2c1c(=O)n(CC(O)CO)c(=O)n2C      32  "
      ]
     },
     "execution_count": 2,
     "metadata": {},
     "output_type": "execute_result"
    }
   ],
   "source": [
    "# Load ZINC data\n",
    "\n",
    "moses_smiles = pd.read_csv('./datasets/moses_dataset_v1.txt',sep=',')\n",
    "print(moses_smiles.shape)\n",
    "moses_smiles = moses_smiles[moses_smiles['SMILES'].notnull()]\n",
    "print(moses_smiles.shape)\n",
    "moses_smiles['smiles'] = moses_smiles[\"SMILES\"]\n",
    "moses_smiles['length'] = moses_smiles[\"smiles\"].str.len()\n",
    "moses_smiles.head()"
   ]
  },
  {
   "cell_type": "code",
   "execution_count": 3,
   "metadata": {},
   "outputs": [
    {
     "name": "stdout",
     "output_type": "stream",
     "text": [
      "(556134, 2)\n"
     ]
    },
    {
     "data": {
      "text/html": [
       "<div>\n",
       "<style scoped>\n",
       "    .dataframe tbody tr th:only-of-type {\n",
       "        vertical-align: middle;\n",
       "    }\n",
       "\n",
       "    .dataframe tbody tr th {\n",
       "        vertical-align: top;\n",
       "    }\n",
       "\n",
       "    .dataframe thead th {\n",
       "        text-align: right;\n",
       "    }\n",
       "</style>\n",
       "<table border=\"1\" class=\"dataframe\">\n",
       "  <thead>\n",
       "    <tr style=\"text-align: right;\">\n",
       "      <th></th>\n",
       "      <th>smiles</th>\n",
       "      <th>length</th>\n",
       "    </tr>\n",
       "  </thead>\n",
       "  <tbody>\n",
       "    <tr>\n",
       "      <th>0</th>\n",
       "      <td>C1CCCCCNc2cc[n+](Cc3cccc(c3)c4cccc(C[n+]5ccc(N...</td>\n",
       "      <td>74</td>\n",
       "    </tr>\n",
       "    <tr>\n",
       "      <th>1</th>\n",
       "      <td>Br\\C=C\\1/CCC(C(=O)O1)c2cccc3ccccc23</td>\n",
       "      <td>35</td>\n",
       "    </tr>\n",
       "    <tr>\n",
       "      <th>2</th>\n",
       "      <td>I\\C=C\\1/CCC(C(=O)O1)c2cccc3ccccc23</td>\n",
       "      <td>34</td>\n",
       "    </tr>\n",
       "    <tr>\n",
       "      <th>3</th>\n",
       "      <td>O=C1O\\C(=C\\C#C)\\CCC1c2cccc3ccccc23</td>\n",
       "      <td>34</td>\n",
       "    </tr>\n",
       "    <tr>\n",
       "      <th>4</th>\n",
       "      <td>I\\C=C/1\\CCC(C(=O)O1)c2cccc3ccccc23</td>\n",
       "      <td>34</td>\n",
       "    </tr>\n",
       "  </tbody>\n",
       "</table>\n",
       "</div>"
      ],
      "text/plain": [
       "                                              smiles  length\n",
       "0  C1CCCCCNc2cc[n+](Cc3cccc(c3)c4cccc(C[n+]5ccc(N...      74\n",
       "1                Br\\C=C\\1/CCC(C(=O)O1)c2cccc3ccccc23      35\n",
       "2                 I\\C=C\\1/CCC(C(=O)O1)c2cccc3ccccc23      34\n",
       "3                 O=C1O\\C(=C\\C#C)\\CCC1c2cccc3ccccc23      34\n",
       "4                 I\\C=C/1\\CCC(C(=O)O1)c2cccc3ccccc23      34"
      ]
     },
     "execution_count": 3,
     "metadata": {},
     "output_type": "execute_result"
    }
   ],
   "source": [
    "# Load ChEMBL data\n",
    "\n",
    "chembl_smiles = pd.read_csv('./datasets/chembl_dataset.txt', names=[\"smiles\"])\n",
    "chembl_smiles['length'] = chembl_smiles[\"smiles\"].str.len() \n",
    "print(chembl_smiles.shape)\n",
    "chembl_smiles.head()"
   ]
  },
  {
   "cell_type": "code",
   "execution_count": 4,
   "metadata": {},
   "outputs": [
    {
     "name": "stdout",
     "output_type": "stream",
     "text": [
      "(1936962,)\n",
      "(1936962,)\n"
     ]
    }
   ],
   "source": [
    "# Drop duplicates and append both dataset\n",
    "\n",
    "moses_smiles = moses_smiles['smiles']\n",
    "print(moses_smiles.shape)\n",
    "moses_smiles = moses_smiles.drop_duplicates()\n",
    "print(moses_smiles.shape)"
   ]
  },
  {
   "cell_type": "code",
   "execution_count": 5,
   "metadata": {},
   "outputs": [
    {
     "name": "stdout",
     "output_type": "stream",
     "text": [
      "(556134,)\n",
      "(556134,)\n"
     ]
    }
   ],
   "source": [
    "chembl_smiles = chembl_smiles['smiles']\n",
    "print(chembl_smiles.shape)\n",
    "chembl_smiles = chembl_smiles.drop_duplicates()\n",
    "print(chembl_smiles.shape)"
   ]
  },
  {
   "cell_type": "code",
   "execution_count": 10,
   "metadata": {},
   "outputs": [
    {
     "name": "stdout",
     "output_type": "stream",
     "text": [
      "(2493096,)\n",
      "(2492860,)\n"
     ]
    }
   ],
   "source": [
    "smiles = moses_smiles.append(chembl_smiles)\n",
    "print(smiles.shape)\n",
    "smiles = smiles.drop_duplicates()\n",
    "print(smiles.shape)"
   ]
  },
  {
   "cell_type": "code",
   "execution_count": 11,
   "metadata": {},
   "outputs": [],
   "source": [
    "# Total SMILES ~2.5 million\n",
    "# Included this step to randomly sample 250000 smiles for model testing (run it in cloud GPU later for whole dataset)\n",
    "smiles = smiles.sample(250000)"
   ]
  },
  {
   "cell_type": "code",
   "execution_count": 12,
   "metadata": {},
   "outputs": [],
   "source": [
    "# save to csv\n",
    "smiles.to_csv(r'./datasets/all_smiles.txt', header=None, index=None, sep='\\t', mode='a')"
   ]
  },
  {
   "cell_type": "code",
   "execution_count": 13,
   "metadata": {},
   "outputs": [
    {
     "name": "stdout",
     "output_type": "stream",
     "text": [
      "(250000, 1)\n"
     ]
    },
    {
     "data": {
      "text/html": [
       "<div>\n",
       "<style scoped>\n",
       "    .dataframe tbody tr th:only-of-type {\n",
       "        vertical-align: middle;\n",
       "    }\n",
       "\n",
       "    .dataframe tbody tr th {\n",
       "        vertical-align: top;\n",
       "    }\n",
       "\n",
       "    .dataframe thead th {\n",
       "        text-align: right;\n",
       "    }\n",
       "</style>\n",
       "<table border=\"1\" class=\"dataframe\">\n",
       "  <thead>\n",
       "    <tr style=\"text-align: right;\">\n",
       "      <th></th>\n",
       "      <th>0</th>\n",
       "    </tr>\n",
       "  </thead>\n",
       "  <tbody>\n",
       "    <tr>\n",
       "      <th>0</th>\n",
       "      <td>CCCCN(CC)C(=O)c1n[nH]c(=O)c2ccccc12</td>\n",
       "    </tr>\n",
       "    <tr>\n",
       "      <th>1</th>\n",
       "      <td>NC[C@@H]1C[C@@]1(C(=O)N(CC#C)CC#C)c2ccc3OCCOc3c2</td>\n",
       "    </tr>\n",
       "    <tr>\n",
       "      <th>2</th>\n",
       "      <td>NC(=O)c1nn(CC(=O)N2[C@@H]3C[C@@H]3C[C@H]2C(=O)...</td>\n",
       "    </tr>\n",
       "    <tr>\n",
       "      <th>3</th>\n",
       "      <td>CC(=O)c1c(C)[nH]c(C(=O)Nc2ccncc2)c1C</td>\n",
       "    </tr>\n",
       "    <tr>\n",
       "      <th>4</th>\n",
       "      <td>COc1ccc(C(=O)CCCC(=O)N(C)C)cc1F</td>\n",
       "    </tr>\n",
       "  </tbody>\n",
       "</table>\n",
       "</div>"
      ],
      "text/plain": [
       "                                                   0\n",
       "0                CCCCN(CC)C(=O)c1n[nH]c(=O)c2ccccc12\n",
       "1   NC[C@@H]1C[C@@]1(C(=O)N(CC#C)CC#C)c2ccc3OCCOc3c2\n",
       "2  NC(=O)c1nn(CC(=O)N2[C@@H]3C[C@@H]3C[C@H]2C(=O)...\n",
       "3               CC(=O)c1c(C)[nH]c(C(=O)Nc2ccncc2)c1C\n",
       "4                    COc1ccc(C(=O)CCCC(=O)N(C)C)cc1F"
      ]
     },
     "execution_count": 13,
     "metadata": {},
     "output_type": "execute_result"
    }
   ],
   "source": [
    "all_smiles_test = pd.read_csv('./datasets/all_smiles.txt',sep='\\t', header=None)\n",
    "print(all_smiles_test.shape)\n",
    "all_smiles_test.head()"
   ]
  },
  {
   "cell_type": "markdown",
   "metadata": {},
   "source": [
    "### Potential COVID-19 protease inhibitors for model fine-tuning\n",
    "\n",
    "According to this paper - Binding site analysis of potential protease inhibitors of COVID-19 using AutoDock https://link.springer.com/article/10.1007/s13337-020-00585-z\n",
    "\n",
    "SMILES obtained from https://pubchem.ncbi.nlm.nih.gov/\n",
    "\n",
    "1. Remdesivir- CCC(CC)COC(=O)C(C)NP(=O)(OCC1C(C(C(O1)(C#N)C2=CC=C3N2N=CN=C3N)O)O)OC4=CC=CC=C4\n",
    "\n",
    "2. Nelfinavir- CC1=C(C=CC=C1O)C(=O)NC(CSC2=CC=CC=C2)C(CN3CC4CCCCC4CC3C(=O)NC(C)(C)C)O \n",
    "\n",
    "3. Lopinavir- CC1=C(C(=CC=C1)C)OCC(=O)NC(CC2=CC=CC=C2)C(CC(CC3=CC=CC=C3)NC(=O)C(C(C)C)N4CCCNC4=O)O\n",
    "\n",
    "4. Ritonavir- CC(C)C1=NC(=CS1)CN(C)C(=O)NC(C(C)C)C(=O)NC(CC2=CC=CC=C2)CC(C(CC3=CC=CC=C3)NC(=O)OCC4=CN=CS4)O\n",
    "\n",
    "Other protease inhibitors as potential treatments \n",
    "\n",
    "5. Darunavir- CC(C)CN(CC(C(CC1=CC=CC=C1)NC(=O)OC2COC3C2CCO3)O)S(=O)(=O)C4=CC=C(C=C4)N\n",
    "\n",
    "6. Atazanavir- CC(C)(C)C(C(=O)NC(CC1=CC=CC=C1)C(CN(CC2=CC=C(C=C2)C3=CC=CC=N3)NC(=O)C(C(C)(C)C)NC(=O)OC)O)NC(=O)OC\n",
    "\n",
    "These protease inhibitors SMILES are added into datasets/protease_inhibitors_for_fine-tune.txt"
   ]
  },
  {
   "cell_type": "code",
   "execution_count": 14,
   "metadata": {},
   "outputs": [
    {
     "name": "stdout",
     "output_type": "stream",
     "text": [
      "(6, 1)\n"
     ]
    },
    {
     "data": {
      "text/html": [
       "<div>\n",
       "<style scoped>\n",
       "    .dataframe tbody tr th:only-of-type {\n",
       "        vertical-align: middle;\n",
       "    }\n",
       "\n",
       "    .dataframe tbody tr th {\n",
       "        vertical-align: top;\n",
       "    }\n",
       "\n",
       "    .dataframe thead th {\n",
       "        text-align: right;\n",
       "    }\n",
       "</style>\n",
       "<table border=\"1\" class=\"dataframe\">\n",
       "  <thead>\n",
       "    <tr style=\"text-align: right;\">\n",
       "      <th></th>\n",
       "      <th>0</th>\n",
       "    </tr>\n",
       "  </thead>\n",
       "  <tbody>\n",
       "    <tr>\n",
       "      <th>0</th>\n",
       "      <td>CCC(CC)COC(=O)C(C)NP(=O)(OCC1C(C(C(O1)(C#N)C2=...</td>\n",
       "    </tr>\n",
       "    <tr>\n",
       "      <th>1</th>\n",
       "      <td>CC1=C(C=CC=C1O)C(=O)NC(CSC2=CC=CC=C2)C(CN3CC4C...</td>\n",
       "    </tr>\n",
       "    <tr>\n",
       "      <th>2</th>\n",
       "      <td>CC1=C(C(=CC=C1)C)OCC(=O)NC(CC2=CC=CC=C2)C(CC(C...</td>\n",
       "    </tr>\n",
       "    <tr>\n",
       "      <th>3</th>\n",
       "      <td>CC(C)C1=NC(=CS1)CN(C)C(=O)NC(C(C)C)C(=O)NC(CC2...</td>\n",
       "    </tr>\n",
       "    <tr>\n",
       "      <th>4</th>\n",
       "      <td>CC(C)CN(CC(C(CC1=CC=CC=C1)NC(=O)OC2COC3C2CCO3)...</td>\n",
       "    </tr>\n",
       "    <tr>\n",
       "      <th>5</th>\n",
       "      <td>CC(C)(C)C(C(=O)NC(CC1=CC=CC=C1)C(CN(CC2=CC=C(C...</td>\n",
       "    </tr>\n",
       "  </tbody>\n",
       "</table>\n",
       "</div>"
      ],
      "text/plain": [
       "                                                   0\n",
       "0  CCC(CC)COC(=O)C(C)NP(=O)(OCC1C(C(C(O1)(C#N)C2=...\n",
       "1  CC1=C(C=CC=C1O)C(=O)NC(CSC2=CC=CC=C2)C(CN3CC4C...\n",
       "2  CC1=C(C(=CC=C1)C)OCC(=O)NC(CC2=CC=CC=C2)C(CC(C...\n",
       "3  CC(C)C1=NC(=CS1)CN(C)C(=O)NC(C(C)C)C(=O)NC(CC2...\n",
       "4  CC(C)CN(CC(C(CC1=CC=CC=C1)NC(=O)OC2COC3C2CCO3)...\n",
       "5  CC(C)(C)C(C(=O)NC(CC1=CC=CC=C1)C(CN(CC2=CC=C(C..."
      ]
     },
     "execution_count": 14,
     "metadata": {},
     "output_type": "execute_result"
    }
   ],
   "source": [
    "protease_smiles_test = pd.read_csv('./datasets/protease_inhibitors_for_fine-tune.txt',sep='\\t', header=None)\n",
    "print(protease_smiles_test.shape)\n",
    "protease_smiles_test"
   ]
  },
  {
   "cell_type": "markdown",
   "metadata": {},
   "source": [
    "## Pre-processing"
   ]
  },
  {
   "cell_type": "markdown",
   "metadata": {},
   "source": [
    "Preprocess dataset to remove duplicates, salts, stereochemical information, nucleic acids and long peptides. https://github.com/topazape/LSTM_Chem\n",
    "\n",
    "In anaconda prompt, cd to the file and run **python cleanup_smiles.py datasets/all_smiles.txt datasets/all_smiles_clean.txt**\n",
    "\n",
    "After cleaning the smiles using the cleanup_smiles.py script and only retaining smiles between 34 to 128 characters in length, './datasets/all_smiles_clean.txt' contains the final list of 180793 smiles on which the model was trained."
   ]
  },
  {
   "cell_type": "code",
   "execution_count": 15,
   "metadata": {
    "scrolled": true
   },
   "outputs": [
    {
     "name": "stdout",
     "output_type": "stream",
     "text": [
      "(180793, 1)\n"
     ]
    },
    {
     "data": {
      "text/html": [
       "<div>\n",
       "<style scoped>\n",
       "    .dataframe tbody tr th:only-of-type {\n",
       "        vertical-align: middle;\n",
       "    }\n",
       "\n",
       "    .dataframe tbody tr th {\n",
       "        vertical-align: top;\n",
       "    }\n",
       "\n",
       "    .dataframe thead th {\n",
       "        text-align: right;\n",
       "    }\n",
       "</style>\n",
       "<table border=\"1\" class=\"dataframe\">\n",
       "  <thead>\n",
       "    <tr style=\"text-align: right;\">\n",
       "      <th></th>\n",
       "      <th>0</th>\n",
       "    </tr>\n",
       "  </thead>\n",
       "  <tbody>\n",
       "    <tr>\n",
       "      <th>0</th>\n",
       "      <td>NC(=O)c1cnn2cc(-c3cccnc3)cc2c1NC1CCOCC1</td>\n",
       "    </tr>\n",
       "    <tr>\n",
       "      <th>1</th>\n",
       "      <td>COC(=O)C(NC1CCc2c(F)cccc21)c1cccc(C#N)c1</td>\n",
       "    </tr>\n",
       "    <tr>\n",
       "      <th>2</th>\n",
       "      <td>CC1CCCC(CNC(=O)CNC(=O)c2ccc(F)c(F)c2)C1</td>\n",
       "    </tr>\n",
       "    <tr>\n",
       "      <th>3</th>\n",
       "      <td>CC1CN(CC2CCN(C(=O)C(C)(C)C)CC2)CC(C)O1</td>\n",
       "    </tr>\n",
       "    <tr>\n",
       "      <th>4</th>\n",
       "      <td>NC(=O)C1Cc2ccccc2N1C(=O)c1ccc2ccccc2n1</td>\n",
       "    </tr>\n",
       "  </tbody>\n",
       "</table>\n",
       "</div>"
      ],
      "text/plain": [
       "                                          0\n",
       "0   NC(=O)c1cnn2cc(-c3cccnc3)cc2c1NC1CCOCC1\n",
       "1  COC(=O)C(NC1CCc2c(F)cccc21)c1cccc(C#N)c1\n",
       "2   CC1CCCC(CNC(=O)CNC(=O)c2ccc(F)c(F)c2)C1\n",
       "3    CC1CN(CC2CCN(C(=O)C(C)(C)C)CC2)CC(C)O1\n",
       "4    NC(=O)C1Cc2ccccc2N1C(=O)c1ccc2ccccc2n1"
      ]
     },
     "execution_count": 15,
     "metadata": {},
     "output_type": "execute_result"
    }
   ],
   "source": [
    "all_smiles_clean = pd.read_csv('./datasets/all_smiles_clean.txt',sep='\\t', header=None)\n",
    "print(all_smiles_clean.shape)\n",
    "all_smiles_clean.head()"
   ]
  },
  {
   "cell_type": "markdown",
   "metadata": {},
   "source": [
    "# 3. Train LSTM-based RNN model to generate SMILES"
   ]
  },
  {
   "cell_type": "markdown",
   "metadata": {},
   "source": [
    "<img src='images/figure1.png' style='width:500px;height:250px'/>\n",
    "\n",
    "The structure of this model consists of **two LSTM layers**, each with a **hidden state vector of size 256**, regularized with **dropout**. These two layers are followed by a **dense output layer** and a neuron unit with a **softmax activation function**. The input to the LSTM is a one-hot-encoded sequence of a molecules's SMILES string.\n",
    "\n",
    "<img src='images/figure2.png' style='width:500px;height:500px'/>\n",
    "<img src='images/figure3.png' style='width:500px;height:500px'/>\n",
    "\n",
    "Images obtained from this paper - Generative Recurrent Networks for De Novo Drug Design https://www.ncbi.nlm.nih.gov/pmc/articles/PMC5836943/"
   ]
  },
  {
   "cell_type": "markdown",
   "metadata": {},
   "source": [
    "### Extra Information\n",
    "\n",
    "\n",
    "**Recurrent Neural Network (RNN)** \n",
    "\n",
    "Generalization of feedforward neural network that has an internal memory. RNN is recurrent in nature as it performs the same function for every input of data while the output of the current input depends on the past one computation. After producing the output, it is copied and sent back into the recurrent network. For making a decision, it considers the current input and the output that it has learned from the previous input.\n",
    "Unlike feedforward neural networks, RNNs can use their internal state (memory) to process sequences of inputs. This makes them applicable to tasks such as unsegmented, connected handwriting recognition or speech recognition. In other neural networks, all the inputs are independent of each other. But in RNN, all the inputs are related to each other.\n",
    "https://towardsdatascience.com/understanding-rnn-and-lstm-f7cdf6dfc14e\n",
    "\n",
    "**Long Short-Term Memory (LSTM)** \n",
    "\n",
    "Modified version of recurrent neural networks, which makes it easier to remember past data in memory. The vanishing gradient problem of RNN is resolved here. LSTM is well-suited to classify, process and predict time series given time lags of unknown duration. It trains the model by using back-propagation. In an LSTM network, three gates are present: input gate, forget gate and output gate. \\\n",
    "https://colah.github.io/posts/2015-08-Understanding-LSTMs/\n",
    "\n",
    "![lstm.jpg](images/lstm.jpg)"
   ]
  },
  {
   "cell_type": "code",
   "execution_count": 16,
   "metadata": {
    "scrolled": true
   },
   "outputs": [
    {
     "name": "stderr",
     "output_type": "stream",
     "text": [
      "  0%|          | 218/180793 [00:00<01:22, 2177.45it/s]"
     ]
    },
    {
     "name": "stdout",
     "output_type": "stream",
     "text": [
      "Create the data generator.\n",
      "loading SMILES...\n",
      "done.\n",
      "tokenizing SMILES...\n"
     ]
    },
    {
     "name": "stderr",
     "output_type": "stream",
     "text": [
      "100%|██████████| 180793/180793 [01:15<00:00, 2405.30it/s]\n"
     ]
    },
    {
     "name": "stdout",
     "output_type": "stream",
     "text": [
      "done.\n",
      "Create the model.\n",
      "Create the trainer\n",
      "Start training the model.\n",
      "WARNING:tensorflow:From /Users/admin/Desktop/Final Project/8th test/lstm_chem/trainer.py:35: Model.fit_generator (from tensorflow.python.keras.engine.training) is deprecated and will be removed in a future version.\n",
      "Instructions for updating:\n",
      "Please use Model.fit, which supports generators.\n",
      "Epoch 1/42\n",
      "WARNING:tensorflow:multiprocessing can interact badly with TensorFlow, causing nondeterministic deadlocks. For high performance data pipelines tf.data is recommended.\n",
      "317/318 [============================>.] - ETA: 5s - loss: 0.8769 WARNING:tensorflow:multiprocessing can interact badly with TensorFlow, causing nondeterministic deadlocks. For high performance data pipelines tf.data is recommended.\n",
      "318/318 [==============================] - ETA: 0s - loss: 0.8762WARNING:tensorflow:multiprocessing can interact badly with TensorFlow, causing nondeterministic deadlocks. For high performance data pipelines tf.data is recommended.\n",
      "WARNING:tensorflow:multiprocessing can interact badly with TensorFlow, causing nondeterministic deadlocks. For high performance data pipelines tf.data is recommended.\n",
      "\n",
      "Epoch 00001: saving model to experiments/2020-07-13/LSTM_Chem/checkpoints/LSTM_Chem-01-0.58.hdf5\n",
      "318/318 [==============================] - 1856s 6s/step - loss: 0.8762 - val_loss: 0.5840\n",
      "Epoch 2/42\n",
      "WARNING:tensorflow:multiprocessing can interact badly with TensorFlow, causing nondeterministic deadlocks. For high performance data pipelines tf.data is recommended.\n",
      "317/318 [============================>.] - ETA: 5s - loss: 0.5659 WARNING:tensorflow:multiprocessing can interact badly with TensorFlow, causing nondeterministic deadlocks. For high performance data pipelines tf.data is recommended.\n",
      "318/318 [==============================] - ETA: 0s - loss: 0.5657WARNING:tensorflow:multiprocessing can interact badly with TensorFlow, causing nondeterministic deadlocks. For high performance data pipelines tf.data is recommended.\n",
      "WARNING:tensorflow:multiprocessing can interact badly with TensorFlow, causing nondeterministic deadlocks. For high performance data pipelines tf.data is recommended.\n",
      "\n",
      "Epoch 00002: saving model to experiments/2020-07-13/LSTM_Chem/checkpoints/LSTM_Chem-02-0.43.hdf5\n",
      "318/318 [==============================] - 1755s 6s/step - loss: 0.5657 - val_loss: 0.4307\n",
      "Epoch 3/42\n",
      "WARNING:tensorflow:multiprocessing can interact badly with TensorFlow, causing nondeterministic deadlocks. For high performance data pipelines tf.data is recommended.\n",
      "317/318 [============================>.] - ETA: 5s - loss: 0.4964 WARNING:tensorflow:multiprocessing can interact badly with TensorFlow, causing nondeterministic deadlocks. For high performance data pipelines tf.data is recommended.\n",
      "318/318 [==============================] - ETA: 0s - loss: 0.4964WARNING:tensorflow:multiprocessing can interact badly with TensorFlow, causing nondeterministic deadlocks. For high performance data pipelines tf.data is recommended.\n",
      "WARNING:tensorflow:multiprocessing can interact badly with TensorFlow, causing nondeterministic deadlocks. For high performance data pipelines tf.data is recommended.\n",
      "\n",
      "Epoch 00003: saving model to experiments/2020-07-13/LSTM_Chem/checkpoints/LSTM_Chem-03-0.38.hdf5\n",
      "318/318 [==============================] - 1681s 5s/step - loss: 0.4964 - val_loss: 0.3806\n",
      "Epoch 4/42\n",
      "WARNING:tensorflow:multiprocessing can interact badly with TensorFlow, causing nondeterministic deadlocks. For high performance data pipelines tf.data is recommended.\n",
      "317/318 [============================>.] - ETA: 5s - loss: 0.4615 WARNING:tensorflow:multiprocessing can interact badly with TensorFlow, causing nondeterministic deadlocks. For high performance data pipelines tf.data is recommended.\n",
      "318/318 [==============================] - ETA: 0s - loss: 0.4615WARNING:tensorflow:multiprocessing can interact badly with TensorFlow, causing nondeterministic deadlocks. For high performance data pipelines tf.data is recommended.\n",
      "WARNING:tensorflow:multiprocessing can interact badly with TensorFlow, causing nondeterministic deadlocks. For high performance data pipelines tf.data is recommended.\n",
      "\n",
      "Epoch 00004: saving model to experiments/2020-07-13/LSTM_Chem/checkpoints/LSTM_Chem-04-0.35.hdf5\n",
      "318/318 [==============================] - 1686s 5s/step - loss: 0.4615 - val_loss: 0.3515\n",
      "Epoch 5/42\n",
      "WARNING:tensorflow:multiprocessing can interact badly with TensorFlow, causing nondeterministic deadlocks. For high performance data pipelines tf.data is recommended.\n",
      "317/318 [============================>.] - ETA: 5s - loss: 0.4382 WARNING:tensorflow:multiprocessing can interact badly with TensorFlow, causing nondeterministic deadlocks. For high performance data pipelines tf.data is recommended.\n",
      "318/318 [==============================] - ETA: 0s - loss: 0.4382WARNING:tensorflow:multiprocessing can interact badly with TensorFlow, causing nondeterministic deadlocks. For high performance data pipelines tf.data is recommended.\n",
      "WARNING:tensorflow:multiprocessing can interact badly with TensorFlow, causing nondeterministic deadlocks. For high performance data pipelines tf.data is recommended.\n",
      "\n",
      "Epoch 00005: saving model to experiments/2020-07-13/LSTM_Chem/checkpoints/LSTM_Chem-05-0.33.hdf5\n",
      "318/318 [==============================] - 1715s 5s/step - loss: 0.4382 - val_loss: 0.3321\n",
      "Epoch 6/42\n",
      "WARNING:tensorflow:multiprocessing can interact badly with TensorFlow, causing nondeterministic deadlocks. For high performance data pipelines tf.data is recommended.\n",
      "317/318 [============================>.] - ETA: 5s - loss: 0.4220 WARNING:tensorflow:multiprocessing can interact badly with TensorFlow, causing nondeterministic deadlocks. For high performance data pipelines tf.data is recommended.\n",
      "318/318 [==============================] - ETA: 0s - loss: 0.4220WARNING:tensorflow:multiprocessing can interact badly with TensorFlow, causing nondeterministic deadlocks. For high performance data pipelines tf.data is recommended.\n",
      "WARNING:tensorflow:multiprocessing can interact badly with TensorFlow, causing nondeterministic deadlocks. For high performance data pipelines tf.data is recommended.\n",
      "\n",
      "Epoch 00006: saving model to experiments/2020-07-13/LSTM_Chem/checkpoints/LSTM_Chem-06-0.32.hdf5\n",
      "318/318 [==============================] - 1671s 5s/step - loss: 0.4220 - val_loss: 0.3187\n",
      "Epoch 7/42\n",
      "WARNING:tensorflow:multiprocessing can interact badly with TensorFlow, causing nondeterministic deadlocks. For high performance data pipelines tf.data is recommended.\n",
      "317/318 [============================>.] - ETA: 5s - loss: 0.4098 WARNING:tensorflow:multiprocessing can interact badly with TensorFlow, causing nondeterministic deadlocks. For high performance data pipelines tf.data is recommended.\n",
      "318/318 [==============================] - ETA: 0s - loss: 0.4098WARNING:tensorflow:multiprocessing can interact badly with TensorFlow, causing nondeterministic deadlocks. For high performance data pipelines tf.data is recommended.\n",
      "WARNING:tensorflow:multiprocessing can interact badly with TensorFlow, causing nondeterministic deadlocks. For high performance data pipelines tf.data is recommended.\n",
      "\n",
      "Epoch 00007: saving model to experiments/2020-07-13/LSTM_Chem/checkpoints/LSTM_Chem-07-0.31.hdf5\n",
      "318/318 [==============================] - 1732s 5s/step - loss: 0.4098 - val_loss: 0.3083\n",
      "Epoch 8/42\n",
      "WARNING:tensorflow:multiprocessing can interact badly with TensorFlow, causing nondeterministic deadlocks. For high performance data pipelines tf.data is recommended.\n",
      "317/318 [============================>.] - ETA: 5s - loss: 0.3998 WARNING:tensorflow:multiprocessing can interact badly with TensorFlow, causing nondeterministic deadlocks. For high performance data pipelines tf.data is recommended.\n",
      "318/318 [==============================] - ETA: 0s - loss: 0.3998WARNING:tensorflow:multiprocessing can interact badly with TensorFlow, causing nondeterministic deadlocks. For high performance data pipelines tf.data is recommended.\n",
      "WARNING:tensorflow:multiprocessing can interact badly with TensorFlow, causing nondeterministic deadlocks. For high performance data pipelines tf.data is recommended.\n",
      "\n",
      "Epoch 00008: saving model to experiments/2020-07-13/LSTM_Chem/checkpoints/LSTM_Chem-08-0.30.hdf5\n",
      "318/318 [==============================] - 1734s 5s/step - loss: 0.3998 - val_loss: 0.2997\n"
     ]
    },
    {
     "name": "stdout",
     "output_type": "stream",
     "text": [
      "Epoch 9/42\n",
      "WARNING:tensorflow:multiprocessing can interact badly with TensorFlow, causing nondeterministic deadlocks. For high performance data pipelines tf.data is recommended.\n",
      "317/318 [============================>.] - ETA: 4s - loss: 0.3918WARNING:tensorflow:multiprocessing can interact badly with TensorFlow, causing nondeterministic deadlocks. For high performance data pipelines tf.data is recommended.\n",
      "318/318 [==============================] - ETA: 0s - loss: 0.3918WARNING:tensorflow:multiprocessing can interact badly with TensorFlow, causing nondeterministic deadlocks. For high performance data pipelines tf.data is recommended.\n",
      "WARNING:tensorflow:multiprocessing can interact badly with TensorFlow, causing nondeterministic deadlocks. For high performance data pipelines tf.data is recommended.\n",
      "\n",
      "Epoch 00009: saving model to experiments/2020-07-13/LSTM_Chem/checkpoints/LSTM_Chem-09-0.29.hdf5\n",
      "318/318 [==============================] - 1659s 5s/step - loss: 0.3918 - val_loss: 0.2932\n",
      "Epoch 10/42\n",
      "WARNING:tensorflow:multiprocessing can interact badly with TensorFlow, causing nondeterministic deadlocks. For high performance data pipelines tf.data is recommended.\n",
      "317/318 [============================>.] - ETA: 5s - loss: 0.3850 WARNING:tensorflow:multiprocessing can interact badly with TensorFlow, causing nondeterministic deadlocks. For high performance data pipelines tf.data is recommended.\n",
      "318/318 [==============================] - ETA: 0s - loss: 0.3849WARNING:tensorflow:multiprocessing can interact badly with TensorFlow, causing nondeterministic deadlocks. For high performance data pipelines tf.data is recommended.\n",
      "WARNING:tensorflow:multiprocessing can interact badly with TensorFlow, causing nondeterministic deadlocks. For high performance data pipelines tf.data is recommended.\n",
      "\n",
      "Epoch 00010: saving model to experiments/2020-07-13/LSTM_Chem/checkpoints/LSTM_Chem-10-0.29.hdf5\n",
      "318/318 [==============================] - 1704s 5s/step - loss: 0.3849 - val_loss: 0.2881\n",
      "Epoch 11/42\n",
      "WARNING:tensorflow:multiprocessing can interact badly with TensorFlow, causing nondeterministic deadlocks. For high performance data pipelines tf.data is recommended.\n",
      "317/318 [============================>.] - ETA: 5s - loss: 0.3797 WARNING:tensorflow:multiprocessing can interact badly with TensorFlow, causing nondeterministic deadlocks. For high performance data pipelines tf.data is recommended.\n",
      "318/318 [==============================] - ETA: 0s - loss: 0.3797WARNING:tensorflow:multiprocessing can interact badly with TensorFlow, causing nondeterministic deadlocks. For high performance data pipelines tf.data is recommended.\n",
      "WARNING:tensorflow:multiprocessing can interact badly with TensorFlow, causing nondeterministic deadlocks. For high performance data pipelines tf.data is recommended.\n",
      "\n",
      "Epoch 00011: saving model to experiments/2020-07-13/LSTM_Chem/checkpoints/LSTM_Chem-11-0.28.hdf5\n",
      "318/318 [==============================] - 1706s 5s/step - loss: 0.3797 - val_loss: 0.2825\n",
      "Epoch 12/42\n",
      "WARNING:tensorflow:multiprocessing can interact badly with TensorFlow, causing nondeterministic deadlocks. For high performance data pipelines tf.data is recommended.\n",
      "317/318 [============================>.] - ETA: 5s - loss: 0.3745 WARNING:tensorflow:multiprocessing can interact badly with TensorFlow, causing nondeterministic deadlocks. For high performance data pipelines tf.data is recommended.\n",
      "318/318 [==============================] - ETA: 0s - loss: 0.3745WARNING:tensorflow:multiprocessing can interact badly with TensorFlow, causing nondeterministic deadlocks. For high performance data pipelines tf.data is recommended.\n",
      "WARNING:tensorflow:multiprocessing can interact badly with TensorFlow, causing nondeterministic deadlocks. For high performance data pipelines tf.data is recommended.\n",
      "\n",
      "Epoch 00012: saving model to experiments/2020-07-13/LSTM_Chem/checkpoints/LSTM_Chem-12-0.28.hdf5\n",
      "318/318 [==============================] - 1715s 5s/step - loss: 0.3745 - val_loss: 0.2772\n",
      "Epoch 13/42\n",
      "WARNING:tensorflow:multiprocessing can interact badly with TensorFlow, causing nondeterministic deadlocks. For high performance data pipelines tf.data is recommended.\n",
      "317/318 [============================>.] - ETA: 5s - loss: 0.3702 WARNING:tensorflow:multiprocessing can interact badly with TensorFlow, causing nondeterministic deadlocks. For high performance data pipelines tf.data is recommended.\n",
      "318/318 [==============================] - ETA: 0s - loss: 0.3702WARNING:tensorflow:multiprocessing can interact badly with TensorFlow, causing nondeterministic deadlocks. For high performance data pipelines tf.data is recommended.\n",
      "WARNING:tensorflow:multiprocessing can interact badly with TensorFlow, causing nondeterministic deadlocks. For high performance data pipelines tf.data is recommended.\n",
      "\n",
      "Epoch 00013: saving model to experiments/2020-07-13/LSTM_Chem/checkpoints/LSTM_Chem-13-0.28.hdf5\n",
      "318/318 [==============================] - 1680s 5s/step - loss: 0.3702 - val_loss: 0.2757\n",
      "Epoch 14/42\n",
      "WARNING:tensorflow:multiprocessing can interact badly with TensorFlow, causing nondeterministic deadlocks. For high performance data pipelines tf.data is recommended.\n",
      "317/318 [============================>.] - ETA: 5s - loss: 0.3665 WARNING:tensorflow:multiprocessing can interact badly with TensorFlow, causing nondeterministic deadlocks. For high performance data pipelines tf.data is recommended.\n",
      "318/318 [==============================] - ETA: 0s - loss: 0.3665WARNING:tensorflow:multiprocessing can interact badly with TensorFlow, causing nondeterministic deadlocks. For high performance data pipelines tf.data is recommended.\n",
      "WARNING:tensorflow:multiprocessing can interact badly with TensorFlow, causing nondeterministic deadlocks. For high performance data pipelines tf.data is recommended.\n",
      "\n",
      "Epoch 00014: saving model to experiments/2020-07-13/LSTM_Chem/checkpoints/LSTM_Chem-14-0.27.hdf5\n",
      "318/318 [==============================] - 1668s 5s/step - loss: 0.3665 - val_loss: 0.2704\n",
      "Epoch 15/42\n",
      "WARNING:tensorflow:multiprocessing can interact badly with TensorFlow, causing nondeterministic deadlocks. For high performance data pipelines tf.data is recommended.\n",
      "317/318 [============================>.] - ETA: 5s - loss: 0.3631 WARNING:tensorflow:multiprocessing can interact badly with TensorFlow, causing nondeterministic deadlocks. For high performance data pipelines tf.data is recommended.\n",
      "318/318 [==============================] - ETA: 0s - loss: 0.3631WARNING:tensorflow:multiprocessing can interact badly with TensorFlow, causing nondeterministic deadlocks. For high performance data pipelines tf.data is recommended.\n",
      "WARNING:tensorflow:multiprocessing can interact badly with TensorFlow, causing nondeterministic deadlocks. For high performance data pipelines tf.data is recommended.\n",
      "\n",
      "Epoch 00015: saving model to experiments/2020-07-13/LSTM_Chem/checkpoints/LSTM_Chem-15-0.27.hdf5\n",
      "318/318 [==============================] - 1672s 5s/step - loss: 0.3631 - val_loss: 0.2678\n",
      "Epoch 16/42\n",
      "WARNING:tensorflow:multiprocessing can interact badly with TensorFlow, causing nondeterministic deadlocks. For high performance data pipelines tf.data is recommended.\n",
      "317/318 [============================>.] - ETA: 5s - loss: 0.3598 WARNING:tensorflow:multiprocessing can interact badly with TensorFlow, causing nondeterministic deadlocks. For high performance data pipelines tf.data is recommended.\n",
      "318/318 [==============================] - ETA: 0s - loss: 0.3597WARNING:tensorflow:multiprocessing can interact badly with TensorFlow, causing nondeterministic deadlocks. For high performance data pipelines tf.data is recommended.\n",
      "WARNING:tensorflow:multiprocessing can interact badly with TensorFlow, causing nondeterministic deadlocks. For high performance data pipelines tf.data is recommended.\n",
      "\n",
      "Epoch 00016: saving model to experiments/2020-07-13/LSTM_Chem/checkpoints/LSTM_Chem-16-0.26.hdf5\n",
      "318/318 [==============================] - 1670s 5s/step - loss: 0.3597 - val_loss: 0.2641\n",
      "Epoch 17/42\n",
      "WARNING:tensorflow:multiprocessing can interact badly with TensorFlow, causing nondeterministic deadlocks. For high performance data pipelines tf.data is recommended.\n",
      "317/318 [============================>.] - ETA: 5s - loss: 0.3571 WARNING:tensorflow:multiprocessing can interact badly with TensorFlow, causing nondeterministic deadlocks. For high performance data pipelines tf.data is recommended.\n",
      "318/318 [==============================] - ETA: 0s - loss: 0.3571WARNING:tensorflow:multiprocessing can interact badly with TensorFlow, causing nondeterministic deadlocks. For high performance data pipelines tf.data is recommended.\n",
      "WARNING:tensorflow:multiprocessing can interact badly with TensorFlow, causing nondeterministic deadlocks. For high performance data pipelines tf.data is recommended.\n",
      "\n",
      "Epoch 00017: saving model to experiments/2020-07-13/LSTM_Chem/checkpoints/LSTM_Chem-17-0.26.hdf5\n",
      "318/318 [==============================] - 1683s 5s/step - loss: 0.3571 - val_loss: 0.2625\n",
      "Epoch 18/42\n",
      "WARNING:tensorflow:multiprocessing can interact badly with TensorFlow, causing nondeterministic deadlocks. For high performance data pipelines tf.data is recommended.\n",
      "317/318 [============================>.] - ETA: 4s - loss: 0.3545WARNING:tensorflow:multiprocessing can interact badly with TensorFlow, causing nondeterministic deadlocks. For high performance data pipelines tf.data is recommended.\n",
      "318/318 [==============================] - ETA: 0s - loss: 0.3545WARNING:tensorflow:multiprocessing can interact badly with TensorFlow, causing nondeterministic deadlocks. For high performance data pipelines tf.data is recommended.\n",
      "WARNING:tensorflow:multiprocessing can interact badly with TensorFlow, causing nondeterministic deadlocks. For high performance data pipelines tf.data is recommended.\n",
      "\n",
      "Epoch 00018: saving model to experiments/2020-07-13/LSTM_Chem/checkpoints/LSTM_Chem-18-0.26.hdf5\n",
      "318/318 [==============================] - 1650s 5s/step - loss: 0.3545 - val_loss: 0.2595\n",
      "Epoch 19/42\n",
      "WARNING:tensorflow:multiprocessing can interact badly with TensorFlow, causing nondeterministic deadlocks. For high performance data pipelines tf.data is recommended.\n",
      "317/318 [============================>.] - ETA: 4s - loss: 0.3521WARNING:tensorflow:multiprocessing can interact badly with TensorFlow, causing nondeterministic deadlocks. For high performance data pipelines tf.data is recommended.\n",
      "318/318 [==============================] - ETA: 0s - loss: 0.3521WARNING:tensorflow:multiprocessing can interact badly with TensorFlow, causing nondeterministic deadlocks. For high performance data pipelines tf.data is recommended.\n",
      "WARNING:tensorflow:multiprocessing can interact badly with TensorFlow, causing nondeterministic deadlocks. For high performance data pipelines tf.data is recommended.\n",
      "\n",
      "Epoch 00019: saving model to experiments/2020-07-13/LSTM_Chem/checkpoints/LSTM_Chem-19-0.26.hdf5\n",
      "318/318 [==============================] - 1650s 5s/step - loss: 0.3521 - val_loss: 0.2570\n",
      "Epoch 20/42\n",
      "WARNING:tensorflow:multiprocessing can interact badly with TensorFlow, causing nondeterministic deadlocks. For high performance data pipelines tf.data is recommended.\n",
      "317/318 [============================>.] - ETA: 4s - loss: 0.3500WARNING:tensorflow:multiprocessing can interact badly with TensorFlow, causing nondeterministic deadlocks. For high performance data pipelines tf.data is recommended.\n",
      "318/318 [==============================] - ETA: 0s - loss: 0.3499WARNING:tensorflow:multiprocessing can interact badly with TensorFlow, causing nondeterministic deadlocks. For high performance data pipelines tf.data is recommended.\n",
      "WARNING:tensorflow:multiprocessing can interact badly with TensorFlow, causing nondeterministic deadlocks. For high performance data pipelines tf.data is recommended.\n",
      "\n",
      "Epoch 00020: saving model to experiments/2020-07-13/LSTM_Chem/checkpoints/LSTM_Chem-20-0.26.hdf5\n",
      "318/318 [==============================] - 1654s 5s/step - loss: 0.3499 - val_loss: 0.2556\n",
      "Epoch 21/42\n",
      "WARNING:tensorflow:multiprocessing can interact badly with TensorFlow, causing nondeterministic deadlocks. For high performance data pipelines tf.data is recommended.\n",
      "317/318 [============================>.] - ETA: 5s - loss: 0.3479 WARNING:tensorflow:multiprocessing can interact badly with TensorFlow, causing nondeterministic deadlocks. For high performance data pipelines tf.data is recommended.\n",
      "318/318 [==============================] - ETA: 0s - loss: 0.3479WARNING:tensorflow:multiprocessing can interact badly with TensorFlow, causing nondeterministic deadlocks. For high performance data pipelines tf.data is recommended.\n",
      "WARNING:tensorflow:multiprocessing can interact badly with TensorFlow, causing nondeterministic deadlocks. For high performance data pipelines tf.data is recommended.\n",
      "\n",
      "Epoch 00021: saving model to experiments/2020-07-13/LSTM_Chem/checkpoints/LSTM_Chem-21-0.25.hdf5\n",
      "318/318 [==============================] - 1684s 5s/step - loss: 0.3479 - val_loss: 0.2536\n",
      "Epoch 22/42\n",
      "WARNING:tensorflow:multiprocessing can interact badly with TensorFlow, causing nondeterministic deadlocks. For high performance data pipelines tf.data is recommended.\n",
      "317/318 [============================>.] - ETA: 5s - loss: 0.3459 WARNING:tensorflow:multiprocessing can interact badly with TensorFlow, causing nondeterministic deadlocks. For high performance data pipelines tf.data is recommended.\n",
      "318/318 [==============================] - ETA: 0s - loss: 0.3459WARNING:tensorflow:multiprocessing can interact badly with TensorFlow, causing nondeterministic deadlocks. For high performance data pipelines tf.data is recommended.\n",
      "WARNING:tensorflow:multiprocessing can interact badly with TensorFlow, causing nondeterministic deadlocks. For high performance data pipelines tf.data is recommended.\n",
      "\n",
      "Epoch 00022: saving model to experiments/2020-07-13/LSTM_Chem/checkpoints/LSTM_Chem-22-0.25.hdf5\n",
      "318/318 [==============================] - 1707s 5s/step - loss: 0.3459 - val_loss: 0.2521\n",
      "Epoch 23/42\n",
      "WARNING:tensorflow:multiprocessing can interact badly with TensorFlow, causing nondeterministic deadlocks. For high performance data pipelines tf.data is recommended.\n",
      "317/318 [============================>.] - ETA: 5s - loss: 0.3439 WARNING:tensorflow:multiprocessing can interact badly with TensorFlow, causing nondeterministic deadlocks. For high performance data pipelines tf.data is recommended.\n",
      "318/318 [==============================] - ETA: 0s - loss: 0.3440WARNING:tensorflow:multiprocessing can interact badly with TensorFlow, causing nondeterministic deadlocks. For high performance data pipelines tf.data is recommended.\n",
      "WARNING:tensorflow:multiprocessing can interact badly with TensorFlow, causing nondeterministic deadlocks. For high performance data pipelines tf.data is recommended.\n",
      "\n",
      "Epoch 00023: saving model to experiments/2020-07-13/LSTM_Chem/checkpoints/LSTM_Chem-23-0.25.hdf5\n",
      "318/318 [==============================] - 1710s 5s/step - loss: 0.3440 - val_loss: 0.2510\n",
      "Epoch 24/42\n",
      "WARNING:tensorflow:multiprocessing can interact badly with TensorFlow, causing nondeterministic deadlocks. For high performance data pipelines tf.data is recommended.\n",
      "317/318 [============================>.] - ETA: 5s - loss: 0.3427 WARNING:tensorflow:multiprocessing can interact badly with TensorFlow, causing nondeterministic deadlocks. For high performance data pipelines tf.data is recommended.\n",
      "318/318 [==============================] - ETA: 0s - loss: 0.3427WARNING:tensorflow:multiprocessing can interact badly with TensorFlow, causing nondeterministic deadlocks. For high performance data pipelines tf.data is recommended.\n",
      "WARNING:tensorflow:multiprocessing can interact badly with TensorFlow, causing nondeterministic deadlocks. For high performance data pipelines tf.data is recommended.\n",
      "\n",
      "Epoch 00024: saving model to experiments/2020-07-13/LSTM_Chem/checkpoints/LSTM_Chem-24-0.25.hdf5\n",
      "318/318 [==============================] - 1695s 5s/step - loss: 0.3427 - val_loss: 0.2485\n",
      "Epoch 25/42\n",
      "WARNING:tensorflow:multiprocessing can interact badly with TensorFlow, causing nondeterministic deadlocks. For high performance data pipelines tf.data is recommended.\n",
      "317/318 [============================>.] - ETA: 5s - loss: 0.3407 WARNING:tensorflow:multiprocessing can interact badly with TensorFlow, causing nondeterministic deadlocks. For high performance data pipelines tf.data is recommended.\n"
     ]
    },
    {
     "name": "stdout",
     "output_type": "stream",
     "text": [
      "318/318 [==============================] - ETA: 0s - loss: 0.3407WARNING:tensorflow:multiprocessing can interact badly with TensorFlow, causing nondeterministic deadlocks. For high performance data pipelines tf.data is recommended.\n",
      "WARNING:tensorflow:multiprocessing can interact badly with TensorFlow, causing nondeterministic deadlocks. For high performance data pipelines tf.data is recommended.\n",
      "\n",
      "Epoch 00025: saving model to experiments/2020-07-13/LSTM_Chem/checkpoints/LSTM_Chem-25-0.25.hdf5\n",
      "318/318 [==============================] - 1760s 6s/step - loss: 0.3407 - val_loss: 0.2480\n",
      "Epoch 26/42\n",
      "WARNING:tensorflow:multiprocessing can interact badly with TensorFlow, causing nondeterministic deadlocks. For high performance data pipelines tf.data is recommended.\n",
      "317/318 [============================>.] - ETA: 11s - loss: 0.3395WARNING:tensorflow:multiprocessing can interact badly with TensorFlow, causing nondeterministic deadlocks. For high performance data pipelines tf.data is recommended.\n",
      "318/318 [==============================] - ETA: 0s - loss: 0.3395 WARNING:tensorflow:multiprocessing can interact badly with TensorFlow, causing nondeterministic deadlocks. For high performance data pipelines tf.data is recommended.\n",
      "WARNING:tensorflow:multiprocessing can interact badly with TensorFlow, causing nondeterministic deadlocks. For high performance data pipelines tf.data is recommended.\n",
      "\n",
      "Epoch 00026: saving model to experiments/2020-07-13/LSTM_Chem/checkpoints/LSTM_Chem-26-0.25.hdf5\n",
      "318/318 [==============================] - 3860s 12s/step - loss: 0.3395 - val_loss: 0.2469\n",
      "Epoch 27/42\n",
      "WARNING:tensorflow:multiprocessing can interact badly with TensorFlow, causing nondeterministic deadlocks. For high performance data pipelines tf.data is recommended.\n",
      "317/318 [============================>.] - ETA: 15s - loss: 0.3381WARNING:tensorflow:multiprocessing can interact badly with TensorFlow, causing nondeterministic deadlocks. For high performance data pipelines tf.data is recommended.\n",
      "318/318 [==============================] - ETA: 0s - loss: 0.3381 WARNING:tensorflow:multiprocessing can interact badly with TensorFlow, causing nondeterministic deadlocks. For high performance data pipelines tf.data is recommended.\n",
      "WARNING:tensorflow:multiprocessing can interact badly with TensorFlow, causing nondeterministic deadlocks. For high performance data pipelines tf.data is recommended.\n",
      "\n",
      "Epoch 00027: saving model to experiments/2020-07-13/LSTM_Chem/checkpoints/LSTM_Chem-27-0.24.hdf5\n",
      "318/318 [==============================] - 4925s 15s/step - loss: 0.3381 - val_loss: 0.2448\n",
      "Epoch 28/42\n",
      "WARNING:tensorflow:multiprocessing can interact badly with TensorFlow, causing nondeterministic deadlocks. For high performance data pipelines tf.data is recommended.\n",
      "317/318 [============================>.] - ETA: 5s - loss: 0.3370 WARNING:tensorflow:multiprocessing can interact badly with TensorFlow, causing nondeterministic deadlocks. For high performance data pipelines tf.data is recommended.\n",
      "318/318 [==============================] - ETA: 0s - loss: 0.3370WARNING:tensorflow:multiprocessing can interact badly with TensorFlow, causing nondeterministic deadlocks. For high performance data pipelines tf.data is recommended.\n",
      "WARNING:tensorflow:multiprocessing can interact badly with TensorFlow, causing nondeterministic deadlocks. For high performance data pipelines tf.data is recommended.\n",
      "\n",
      "Epoch 00028: saving model to experiments/2020-07-13/LSTM_Chem/checkpoints/LSTM_Chem-28-0.24.hdf5\n",
      "318/318 [==============================] - 1799s 6s/step - loss: 0.3370 - val_loss: 0.2438\n",
      "Epoch 29/42\n",
      "WARNING:tensorflow:multiprocessing can interact badly with TensorFlow, causing nondeterministic deadlocks. For high performance data pipelines tf.data is recommended.\n",
      "317/318 [============================>.] - ETA: 5s - loss: 0.3355 WARNING:tensorflow:multiprocessing can interact badly with TensorFlow, causing nondeterministic deadlocks. For high performance data pipelines tf.data is recommended.\n",
      "318/318 [==============================] - ETA: 0s - loss: 0.3355WARNING:tensorflow:multiprocessing can interact badly with TensorFlow, causing nondeterministic deadlocks. For high performance data pipelines tf.data is recommended.\n",
      "WARNING:tensorflow:multiprocessing can interact badly with TensorFlow, causing nondeterministic deadlocks. For high performance data pipelines tf.data is recommended.\n",
      "\n",
      "Epoch 00029: saving model to experiments/2020-07-13/LSTM_Chem/checkpoints/LSTM_Chem-29-0.24.hdf5\n",
      "318/318 [==============================] - 1707s 5s/step - loss: 0.3355 - val_loss: 0.2425\n",
      "Epoch 30/42\n",
      "WARNING:tensorflow:multiprocessing can interact badly with TensorFlow, causing nondeterministic deadlocks. For high performance data pipelines tf.data is recommended.\n",
      "317/318 [============================>.] - ETA: 5s - loss: 0.3345 WARNING:tensorflow:multiprocessing can interact badly with TensorFlow, causing nondeterministic deadlocks. For high performance data pipelines tf.data is recommended.\n",
      "318/318 [==============================] - ETA: 0s - loss: 0.3345WARNING:tensorflow:multiprocessing can interact badly with TensorFlow, causing nondeterministic deadlocks. For high performance data pipelines tf.data is recommended.\n",
      "WARNING:tensorflow:multiprocessing can interact badly with TensorFlow, causing nondeterministic deadlocks. For high performance data pipelines tf.data is recommended.\n",
      "\n",
      "Epoch 00030: saving model to experiments/2020-07-13/LSTM_Chem/checkpoints/LSTM_Chem-30-0.24.hdf5\n",
      "318/318 [==============================] - 1690s 5s/step - loss: 0.3345 - val_loss: 0.2415\n",
      "Epoch 31/42\n",
      "WARNING:tensorflow:multiprocessing can interact badly with TensorFlow, causing nondeterministic deadlocks. For high performance data pipelines tf.data is recommended.\n",
      "317/318 [============================>.] - ETA: 5s - loss: 0.3336 WARNING:tensorflow:multiprocessing can interact badly with TensorFlow, causing nondeterministic deadlocks. For high performance data pipelines tf.data is recommended.\n",
      "318/318 [==============================] - ETA: 0s - loss: 0.3336WARNING:tensorflow:multiprocessing can interact badly with TensorFlow, causing nondeterministic deadlocks. For high performance data pipelines tf.data is recommended.\n",
      "WARNING:tensorflow:multiprocessing can interact badly with TensorFlow, causing nondeterministic deadlocks. For high performance data pipelines tf.data is recommended.\n",
      "\n",
      "Epoch 00031: saving model to experiments/2020-07-13/LSTM_Chem/checkpoints/LSTM_Chem-31-0.24.hdf5\n",
      "318/318 [==============================] - 1687s 5s/step - loss: 0.3336 - val_loss: 0.2407\n",
      "Epoch 32/42\n",
      "WARNING:tensorflow:multiprocessing can interact badly with TensorFlow, causing nondeterministic deadlocks. For high performance data pipelines tf.data is recommended.\n",
      "317/318 [============================>.] - ETA: 5s - loss: 0.3326 WARNING:tensorflow:multiprocessing can interact badly with TensorFlow, causing nondeterministic deadlocks. For high performance data pipelines tf.data is recommended.\n",
      "318/318 [==============================] - ETA: 0s - loss: 0.3326WARNING:tensorflow:multiprocessing can interact badly with TensorFlow, causing nondeterministic deadlocks. For high performance data pipelines tf.data is recommended.\n",
      "WARNING:tensorflow:multiprocessing can interact badly with TensorFlow, causing nondeterministic deadlocks. For high performance data pipelines tf.data is recommended.\n",
      "\n",
      "Epoch 00032: saving model to experiments/2020-07-13/LSTM_Chem/checkpoints/LSTM_Chem-32-0.24.hdf5\n",
      "318/318 [==============================] - 1682s 5s/step - loss: 0.3326 - val_loss: 0.2399\n",
      "Epoch 33/42\n",
      "WARNING:tensorflow:multiprocessing can interact badly with TensorFlow, causing nondeterministic deadlocks. For high performance data pipelines tf.data is recommended.\n",
      "317/318 [============================>.] - ETA: 5s - loss: 0.3312 WARNING:tensorflow:multiprocessing can interact badly with TensorFlow, causing nondeterministic deadlocks. For high performance data pipelines tf.data is recommended.\n",
      "318/318 [==============================] - ETA: 0s - loss: 0.3312WARNING:tensorflow:multiprocessing can interact badly with TensorFlow, causing nondeterministic deadlocks. For high performance data pipelines tf.data is recommended.\n"
     ]
    },
    {
     "name": "stdout",
     "output_type": "stream",
     "text": [
      "WARNING:tensorflow:multiprocessing can interact badly with TensorFlow, causing nondeterministic deadlocks. For high performance data pipelines tf.data is recommended.\n",
      "\n",
      "Epoch 00033: saving model to experiments/2020-07-13/LSTM_Chem/checkpoints/LSTM_Chem-33-0.24.hdf5\n",
      "318/318 [==============================] - 1681s 5s/step - loss: 0.3312 - val_loss: 0.2389\n",
      "Epoch 34/42\n",
      "WARNING:tensorflow:multiprocessing can interact badly with TensorFlow, causing nondeterministic deadlocks. For high performance data pipelines tf.data is recommended.\n",
      "317/318 [============================>.] - ETA: 5s - loss: 0.3304 WARNING:tensorflow:multiprocessing can interact badly with TensorFlow, causing nondeterministic deadlocks. For high performance data pipelines tf.data is recommended.\n",
      "318/318 [==============================] - ETA: 0s - loss: 0.3303WARNING:tensorflow:multiprocessing can interact badly with TensorFlow, causing nondeterministic deadlocks. For high performance data pipelines tf.data is recommended.\n",
      "WARNING:tensorflow:multiprocessing can interact badly with TensorFlow, causing nondeterministic deadlocks. For high performance data pipelines tf.data is recommended.\n",
      "\n",
      "Epoch 00034: saving model to experiments/2020-07-13/LSTM_Chem/checkpoints/LSTM_Chem-34-0.24.hdf5\n",
      "318/318 [==============================] - 1682s 5s/step - loss: 0.3303 - val_loss: 0.2381\n",
      "Epoch 35/42\n",
      "WARNING:tensorflow:multiprocessing can interact badly with TensorFlow, causing nondeterministic deadlocks. For high performance data pipelines tf.data is recommended.\n",
      "317/318 [============================>.] - ETA: 5s - loss: 0.3297 WARNING:tensorflow:multiprocessing can interact badly with TensorFlow, causing nondeterministic deadlocks. For high performance data pipelines tf.data is recommended.\n",
      "318/318 [==============================] - ETA: 0s - loss: 0.3297WARNING:tensorflow:multiprocessing can interact badly with TensorFlow, causing nondeterministic deadlocks. For high performance data pipelines tf.data is recommended.\n",
      "WARNING:tensorflow:multiprocessing can interact badly with TensorFlow, causing nondeterministic deadlocks. For high performance data pipelines tf.data is recommended.\n",
      "\n",
      "Epoch 00035: saving model to experiments/2020-07-13/LSTM_Chem/checkpoints/LSTM_Chem-35-0.24.hdf5\n",
      "318/318 [==============================] - 1684s 5s/step - loss: 0.3297 - val_loss: 0.2365\n",
      "Epoch 36/42\n",
      "WARNING:tensorflow:multiprocessing can interact badly with TensorFlow, causing nondeterministic deadlocks. For high performance data pipelines tf.data is recommended.\n",
      "317/318 [============================>.] - ETA: 5s - loss: 0.3288 WARNING:tensorflow:multiprocessing can interact badly with TensorFlow, causing nondeterministic deadlocks. For high performance data pipelines tf.data is recommended.\n",
      "318/318 [==============================] - ETA: 0s - loss: 0.3289WARNING:tensorflow:multiprocessing can interact badly with TensorFlow, causing nondeterministic deadlocks. For high performance data pipelines tf.data is recommended.\n",
      "WARNING:tensorflow:multiprocessing can interact badly with TensorFlow, causing nondeterministic deadlocks. For high performance data pipelines tf.data is recommended.\n",
      "\n",
      "Epoch 00036: saving model to experiments/2020-07-13/LSTM_Chem/checkpoints/LSTM_Chem-36-0.24.hdf5\n",
      "318/318 [==============================] - 1708s 5s/step - loss: 0.3289 - val_loss: 0.2365\n",
      "Epoch 37/42\n",
      "WARNING:tensorflow:multiprocessing can interact badly with TensorFlow, causing nondeterministic deadlocks. For high performance data pipelines tf.data is recommended.\n",
      "317/318 [============================>.] - ETA: 5s - loss: 0.3282 WARNING:tensorflow:multiprocessing can interact badly with TensorFlow, causing nondeterministic deadlocks. For high performance data pipelines tf.data is recommended.\n",
      "318/318 [==============================] - ETA: 0s - loss: 0.3282WARNING:tensorflow:multiprocessing can interact badly with TensorFlow, causing nondeterministic deadlocks. For high performance data pipelines tf.data is recommended.\n",
      "WARNING:tensorflow:multiprocessing can interact badly with TensorFlow, causing nondeterministic deadlocks. For high performance data pipelines tf.data is recommended.\n",
      "\n",
      "Epoch 00037: saving model to experiments/2020-07-13/LSTM_Chem/checkpoints/LSTM_Chem-37-0.24.hdf5\n",
      "318/318 [==============================] - 1677s 5s/step - loss: 0.3282 - val_loss: 0.2354\n",
      "Epoch 38/42\n",
      "WARNING:tensorflow:multiprocessing can interact badly with TensorFlow, causing nondeterministic deadlocks. For high performance data pipelines tf.data is recommended.\n",
      "317/318 [============================>.] - ETA: 5s - loss: 0.3272 WARNING:tensorflow:multiprocessing can interact badly with TensorFlow, causing nondeterministic deadlocks. For high performance data pipelines tf.data is recommended.\n",
      "318/318 [==============================] - ETA: 0s - loss: 0.3272WARNING:tensorflow:multiprocessing can interact badly with TensorFlow, causing nondeterministic deadlocks. For high performance data pipelines tf.data is recommended.\n",
      "WARNING:tensorflow:multiprocessing can interact badly with TensorFlow, causing nondeterministic deadlocks. For high performance data pipelines tf.data is recommended.\n",
      "\n",
      "Epoch 00038: saving model to experiments/2020-07-13/LSTM_Chem/checkpoints/LSTM_Chem-38-0.24.hdf5\n",
      "318/318 [==============================] - 1680s 5s/step - loss: 0.3272 - val_loss: 0.2354\n",
      "Epoch 39/42\n",
      "WARNING:tensorflow:multiprocessing can interact badly with TensorFlow, causing nondeterministic deadlocks. For high performance data pipelines tf.data is recommended.\n",
      "317/318 [============================>.] - ETA: 5s - loss: 0.3266 WARNING:tensorflow:multiprocessing can interact badly with TensorFlow, causing nondeterministic deadlocks. For high performance data pipelines tf.data is recommended.\n",
      "318/318 [==============================] - ETA: 0s - loss: 0.3266WARNING:tensorflow:multiprocessing can interact badly with TensorFlow, causing nondeterministic deadlocks. For high performance data pipelines tf.data is recommended.\n",
      "WARNING:tensorflow:multiprocessing can interact badly with TensorFlow, causing nondeterministic deadlocks. For high performance data pipelines tf.data is recommended.\n",
      "\n",
      "Epoch 00039: saving model to experiments/2020-07-13/LSTM_Chem/checkpoints/LSTM_Chem-39-0.23.hdf5\n",
      "318/318 [==============================] - 1677s 5s/step - loss: 0.3266 - val_loss: 0.2339\n",
      "Epoch 40/42\n",
      "WARNING:tensorflow:multiprocessing can interact badly with TensorFlow, causing nondeterministic deadlocks. For high performance data pipelines tf.data is recommended.\n",
      "317/318 [============================>.] - ETA: 5s - loss: 0.3257 WARNING:tensorflow:multiprocessing can interact badly with TensorFlow, causing nondeterministic deadlocks. For high performance data pipelines tf.data is recommended.\n",
      "318/318 [==============================] - ETA: 0s - loss: 0.3257WARNING:tensorflow:multiprocessing can interact badly with TensorFlow, causing nondeterministic deadlocks. For high performance data pipelines tf.data is recommended.\n",
      "WARNING:tensorflow:multiprocessing can interact badly with TensorFlow, causing nondeterministic deadlocks. For high performance data pipelines tf.data is recommended.\n",
      "\n",
      "Epoch 00040: saving model to experiments/2020-07-13/LSTM_Chem/checkpoints/LSTM_Chem-40-0.23.hdf5\n",
      "318/318 [==============================] - 1681s 5s/step - loss: 0.3257 - val_loss: 0.2341\n",
      "Epoch 41/42\n",
      "WARNING:tensorflow:multiprocessing can interact badly with TensorFlow, causing nondeterministic deadlocks. For high performance data pipelines tf.data is recommended.\n",
      "317/318 [============================>.] - ETA: 5s - loss: 0.3254 WARNING:tensorflow:multiprocessing can interact badly with TensorFlow, causing nondeterministic deadlocks. For high performance data pipelines tf.data is recommended.\n",
      "318/318 [==============================] - ETA: 0s - loss: 0.3254WARNING:tensorflow:multiprocessing can interact badly with TensorFlow, causing nondeterministic deadlocks. For high performance data pipelines tf.data is recommended.\n",
      "WARNING:tensorflow:multiprocessing can interact badly with TensorFlow, causing nondeterministic deadlocks. For high performance data pipelines tf.data is recommended.\n",
      "\n",
      "Epoch 00041: saving model to experiments/2020-07-13/LSTM_Chem/checkpoints/LSTM_Chem-41-0.23.hdf5\n",
      "318/318 [==============================] - 1685s 5s/step - loss: 0.3254 - val_loss: 0.2328\n"
     ]
    },
    {
     "name": "stdout",
     "output_type": "stream",
     "text": [
      "Epoch 42/42\n",
      "WARNING:tensorflow:multiprocessing can interact badly with TensorFlow, causing nondeterministic deadlocks. For high performance data pipelines tf.data is recommended.\n",
      "317/318 [============================>.] - ETA: 5s - loss: 0.3244 WARNING:tensorflow:multiprocessing can interact badly with TensorFlow, causing nondeterministic deadlocks. For high performance data pipelines tf.data is recommended.\n",
      "318/318 [==============================] - ETA: 0s - loss: 0.3244WARNING:tensorflow:multiprocessing can interact badly with TensorFlow, causing nondeterministic deadlocks. For high performance data pipelines tf.data is recommended.\n",
      "WARNING:tensorflow:multiprocessing can interact badly with TensorFlow, causing nondeterministic deadlocks. For high performance data pipelines tf.data is recommended.\n",
      "\n",
      "Epoch 00042: saving model to experiments/2020-07-13/LSTM_Chem/checkpoints/LSTM_Chem-42-0.23.hdf5\n",
      "318/318 [==============================] - 1682s 5s/step - loss: 0.3244 - val_loss: 0.2327\n"
     ]
    }
   ],
   "source": [
    "from copy import copy\n",
    "from lstm_chem.utils.config import process_config\n",
    "from lstm_chem.utils.dirs import create_dirs\n",
    "from lstm_chem.data_loader import DataLoader\n",
    "from lstm_chem.model import LSTMChem\n",
    "from lstm_chem.trainer import LSTMChemTrainer\n",
    "\n",
    "CONFIG_FILE = 'experiments/base_experiment/LSTM_Chem/config.json'\n",
    "\n",
    "\n",
    "def main():\n",
    "    config = process_config(CONFIG_FILE)\n",
    "\n",
    "    # create the experiments dirs\n",
    "    create_dirs(\n",
    "        [config.exp_dir, config.tensorboard_log_dir, config.checkpoint_dir])\n",
    "\n",
    "    print('Create the data generator.')\n",
    "    train_dl = DataLoader(config, data_type='train')\n",
    "    valid_dl = copy(train_dl)\n",
    "    valid_dl.data_type = 'valid'\n",
    "\n",
    "    print('Create the model.')\n",
    "    modeler = LSTMChem(config, session='train')\n",
    "\n",
    "    print('Create the trainer')\n",
    "    trainer = LSTMChemTrainer(modeler, train_dl, valid_dl)\n",
    "\n",
    "    print('Start training the model.')\n",
    "    trainer.train()\n",
    "\n",
    "c   \n",
    "if __name__ == '__main__':\n",
    "    main()"
   ]
  },
  {
   "cell_type": "markdown",
   "metadata": {},
   "source": [
    "# 4. Load the model and GENERATE new molecules"
   ]
  },
  {
   "cell_type": "code",
   "execution_count": 17,
   "metadata": {},
   "outputs": [],
   "source": [
    "import numpy as np\n",
    "import matplotlib.pyplot as plt\n",
    "%matplotlib inline\n",
    "\n",
    "from lstm_chem.utils.config import process_config\n",
    "from lstm_chem.model import LSTMChem\n",
    "from lstm_chem.generator import LSTMChemGenerator"
   ]
  },
  {
   "cell_type": "code",
   "execution_count": 18,
   "metadata": {},
   "outputs": [],
   "source": [
    "CONFIG_FILE = 'experiments/base_experiment/LSTM_Chem/config.json'\n",
    "config = process_config(CONFIG_FILE)"
   ]
  },
  {
   "cell_type": "code",
   "execution_count": 19,
   "metadata": {},
   "outputs": [
    {
     "name": "stdout",
     "output_type": "stream",
     "text": [
      "Loading model architecture from experiments/base_experiment/LSTM_Chem/model_arch.json ...\n",
      "Loading model checkpoint from experiments/base_experiment/LSTM_Chem/checkpoints/LSTM_Chem-baseline-model-full.hdf5 ...\n",
      "Loaded the Model.\n",
      "batch_size: 512\n",
      "checkpoint_dir: experiments/2020-07-14/LSTM_Chem/checkpoints/\n",
      "checkpoint_mode: min\n",
      "checkpoint_monitor: val_loss\n",
      "checkpoint_save_best_only: false\n",
      "checkpoint_save_weights_only: true\n",
      "checkpoint_verbose: 1\n",
      "config_file: experiments/base_experiment/LSTM_Chem/config.json\n",
      "data_filename: ./datasets/all_smiles_clean.txt\n",
      "data_length: 0\n",
      "exp_dir: experiments/2020-07-14/LSTM_Chem\n",
      "exp_name: LSTM_Chem\n",
      "finetune_batch_size: 1\n",
      "finetune_data_filename: ./datasets/protease_inhibitors_for_fine-tune.txt\n",
      "finetune_epochs: 12\n",
      "model_arch_filename: experiments/base_experiment/LSTM_Chem/model_arch.json\n",
      "model_weight_filename: experiments/base_experiment/LSTM_Chem/checkpoints/LSTM_Chem-baseline-model-full.hdf5\n",
      "num_epochs: 42\n",
      "optimizer: adam\n",
      "sampling_temp: 0.75\n",
      "seed: 71\n",
      "smiles_max_length: 128\n",
      "tensorboard_log_dir: experiments/2020-07-14/LSTM_Chem/logs/\n",
      "tensorboard_write_graph: true\n",
      "train_smi_max_len: 128\n",
      "units: 256\n",
      "validation_split: 0.1\n",
      "verbose_training: true\n",
      "\n"
     ]
    }
   ],
   "source": [
    "modeler = LSTMChem(config, session='generate')\n",
    "generator = LSTMChemGenerator(modeler)\n",
    "print(config)"
   ]
  },
  {
   "cell_type": "markdown",
   "metadata": {},
   "source": [
    "- Updated the max length of smiles used for training from 74 characters to 128 characters (this made the generative model much more robust)\n",
    "- Changed finetune_data to protease_inhibitors_for_fine-tune.txt"
   ]
  },
  {
   "cell_type": "code",
   "execution_count": 20,
   "metadata": {},
   "outputs": [
    {
     "name": "stderr",
     "output_type": "stream",
     "text": [
      "\r",
      "  0%|          | 0/10000 [00:00<?, ?it/s]"
     ]
    },
    {
     "name": "stdout",
     "output_type": "stream",
     "text": [
      "WARNING:tensorflow:5 out of the last 5 calls to <function Model.make_predict_function.<locals>.predict_function at 0x7fa7b565edc0> triggered tf.function retracing. Tracing is expensive and the excessive number of tracings is likely due to passing python objects instead of tensors. Also, tf.function has experimental_relax_shapes=True option that relaxes argument shapes that can avoid unnecessary retracing. Please refer to https://www.tensorflow.org/tutorials/customization/performance#python_or_tensor_args and https://www.tensorflow.org/api_docs/python/tf/function for more details.\n",
      "WARNING:tensorflow:6 out of the last 6 calls to <function Model.make_predict_function.<locals>.predict_function at 0x7fa7b565edc0> triggered tf.function retracing. Tracing is expensive and the excessive number of tracings is likely due to passing python objects instead of tensors. Also, tf.function has experimental_relax_shapes=True option that relaxes argument shapes that can avoid unnecessary retracing. Please refer to https://www.tensorflow.org/tutorials/customization/performance#python_or_tensor_args and https://www.tensorflow.org/api_docs/python/tf/function for more details.\n",
      "WARNING:tensorflow:7 out of the last 7 calls to <function Model.make_predict_function.<locals>.predict_function at 0x7fa7b565edc0> triggered tf.function retracing. Tracing is expensive and the excessive number of tracings is likely due to passing python objects instead of tensors. Also, tf.function has experimental_relax_shapes=True option that relaxes argument shapes that can avoid unnecessary retracing. Please refer to https://www.tensorflow.org/tutorials/customization/performance#python_or_tensor_args and https://www.tensorflow.org/api_docs/python/tf/function for more details.\n",
      "WARNING:tensorflow:8 out of the last 8 calls to <function Model.make_predict_function.<locals>.predict_function at 0x7fa7b565edc0> triggered tf.function retracing. Tracing is expensive and the excessive number of tracings is likely due to passing python objects instead of tensors. Also, tf.function has experimental_relax_shapes=True option that relaxes argument shapes that can avoid unnecessary retracing. Please refer to https://www.tensorflow.org/tutorials/customization/performance#python_or_tensor_args and https://www.tensorflow.org/api_docs/python/tf/function for more details.\n",
      "WARNING:tensorflow:9 out of the last 9 calls to <function Model.make_predict_function.<locals>.predict_function at 0x7fa7b565edc0> triggered tf.function retracing. Tracing is expensive and the excessive number of tracings is likely due to passing python objects instead of tensors. Also, tf.function has experimental_relax_shapes=True option that relaxes argument shapes that can avoid unnecessary retracing. Please refer to https://www.tensorflow.org/tutorials/customization/performance#python_or_tensor_args and https://www.tensorflow.org/api_docs/python/tf/function for more details.\n",
      "WARNING:tensorflow:10 out of the last 10 calls to <function Model.make_predict_function.<locals>.predict_function at 0x7fa7b565edc0> triggered tf.function retracing. Tracing is expensive and the excessive number of tracings is likely due to passing python objects instead of tensors. Also, tf.function has experimental_relax_shapes=True option that relaxes argument shapes that can avoid unnecessary retracing. Please refer to https://www.tensorflow.org/tutorials/customization/performance#python_or_tensor_args and https://www.tensorflow.org/api_docs/python/tf/function for more details.\n",
      "WARNING:tensorflow:11 out of the last 11 calls to <function Model.make_predict_function.<locals>.predict_function at 0x7fa7b565edc0> triggered tf.function retracing. Tracing is expensive and the excessive number of tracings is likely due to passing python objects instead of tensors. Also, tf.function has experimental_relax_shapes=True option that relaxes argument shapes that can avoid unnecessary retracing. Please refer to https://www.tensorflow.org/tutorials/customization/performance#python_or_tensor_args and https://www.tensorflow.org/api_docs/python/tf/function for more details.\n",
      "WARNING:tensorflow:11 out of the last 11 calls to <function Model.make_predict_function.<locals>.predict_function at 0x7fa7b565edc0> triggered tf.function retracing. Tracing is expensive and the excessive number of tracings is likely due to passing python objects instead of tensors. Also, tf.function has experimental_relax_shapes=True option that relaxes argument shapes that can avoid unnecessary retracing. Please refer to https://www.tensorflow.org/tutorials/customization/performance#python_or_tensor_args and https://www.tensorflow.org/api_docs/python/tf/function for more details.\n",
      "WARNING:tensorflow:11 out of the last 11 calls to <function Model.make_predict_function.<locals>.predict_function at 0x7fa7b565edc0> triggered tf.function retracing. Tracing is expensive and the excessive number of tracings is likely due to passing python objects instead of tensors. Also, tf.function has experimental_relax_shapes=True option that relaxes argument shapes that can avoid unnecessary retracing. Please refer to https://www.tensorflow.org/tutorials/customization/performance#python_or_tensor_args and https://www.tensorflow.org/api_docs/python/tf/function for more details.\n",
      "WARNING:tensorflow:11 out of the last 11 calls to <function Model.make_predict_function.<locals>.predict_function at 0x7fa7b565edc0> triggered tf.function retracing. Tracing is expensive and the excessive number of tracings is likely due to passing python objects instead of tensors. Also, tf.function has experimental_relax_shapes=True option that relaxes argument shapes that can avoid unnecessary retracing. Please refer to https://www.tensorflow.org/tutorials/customization/performance#python_or_tensor_args and https://www.tensorflow.org/api_docs/python/tf/function for more details.\n",
      "WARNING:tensorflow:11 out of the last 11 calls to <function Model.make_predict_function.<locals>.predict_function at 0x7fa7b565edc0> triggered tf.function retracing. Tracing is expensive and the excessive number of tracings is likely due to passing python objects instead of tensors. Also, tf.function has experimental_relax_shapes=True option that relaxes argument shapes that can avoid unnecessary retracing. Please refer to https://www.tensorflow.org/tutorials/customization/performance#python_or_tensor_args and https://www.tensorflow.org/api_docs/python/tf/function for more details.\n",
      "WARNING:tensorflow:11 out of the last 11 calls to <function Model.make_predict_function.<locals>.predict_function at 0x7fa7b565edc0> triggered tf.function retracing. Tracing is expensive and the excessive number of tracings is likely due to passing python objects instead of tensors. Also, tf.function has experimental_relax_shapes=True option that relaxes argument shapes that can avoid unnecessary retracing. Please refer to https://www.tensorflow.org/tutorials/customization/performance#python_or_tensor_args and https://www.tensorflow.org/api_docs/python/tf/function for more details.\n",
      "WARNING:tensorflow:11 out of the last 11 calls to <function Model.make_predict_function.<locals>.predict_function at 0x7fa7b565edc0> triggered tf.function retracing. Tracing is expensive and the excessive number of tracings is likely due to passing python objects instead of tensors. Also, tf.function has experimental_relax_shapes=True option that relaxes argument shapes that can avoid unnecessary retracing. Please refer to https://www.tensorflow.org/tutorials/customization/performance#python_or_tensor_args and https://www.tensorflow.org/api_docs/python/tf/function for more details.\n",
      "WARNING:tensorflow:11 out of the last 11 calls to <function Model.make_predict_function.<locals>.predict_function at 0x7fa7b565edc0> triggered tf.function retracing. Tracing is expensive and the excessive number of tracings is likely due to passing python objects instead of tensors. Also, tf.function has experimental_relax_shapes=True option that relaxes argument shapes that can avoid unnecessary retracing. Please refer to https://www.tensorflow.org/tutorials/customization/performance#python_or_tensor_args and https://www.tensorflow.org/api_docs/python/tf/function for more details.\n"
     ]
    },
    {
     "name": "stdout",
     "output_type": "stream",
     "text": [
      "WARNING:tensorflow:11 out of the last 11 calls to <function Model.make_predict_function.<locals>.predict_function at 0x7fa7b565edc0> triggered tf.function retracing. Tracing is expensive and the excessive number of tracings is likely due to passing python objects instead of tensors. Also, tf.function has experimental_relax_shapes=True option that relaxes argument shapes that can avoid unnecessary retracing. Please refer to https://www.tensorflow.org/tutorials/customization/performance#python_or_tensor_args and https://www.tensorflow.org/api_docs/python/tf/function for more details.\n",
      "WARNING:tensorflow:11 out of the last 11 calls to <function Model.make_predict_function.<locals>.predict_function at 0x7fa7b565edc0> triggered tf.function retracing. Tracing is expensive and the excessive number of tracings is likely due to passing python objects instead of tensors. Also, tf.function has experimental_relax_shapes=True option that relaxes argument shapes that can avoid unnecessary retracing. Please refer to https://www.tensorflow.org/tutorials/customization/performance#python_or_tensor_args and https://www.tensorflow.org/api_docs/python/tf/function for more details.\n",
      "WARNING:tensorflow:11 out of the last 11 calls to <function Model.make_predict_function.<locals>.predict_function at 0x7fa7b565edc0> triggered tf.function retracing. Tracing is expensive and the excessive number of tracings is likely due to passing python objects instead of tensors. Also, tf.function has experimental_relax_shapes=True option that relaxes argument shapes that can avoid unnecessary retracing. Please refer to https://www.tensorflow.org/tutorials/customization/performance#python_or_tensor_args and https://www.tensorflow.org/api_docs/python/tf/function for more details.\n",
      "WARNING:tensorflow:11 out of the last 11 calls to <function Model.make_predict_function.<locals>.predict_function at 0x7fa7b565edc0> triggered tf.function retracing. Tracing is expensive and the excessive number of tracings is likely due to passing python objects instead of tensors. Also, tf.function has experimental_relax_shapes=True option that relaxes argument shapes that can avoid unnecessary retracing. Please refer to https://www.tensorflow.org/tutorials/customization/performance#python_or_tensor_args and https://www.tensorflow.org/api_docs/python/tf/function for more details.\n",
      "WARNING:tensorflow:11 out of the last 11 calls to <function Model.make_predict_function.<locals>.predict_function at 0x7fa7b565edc0> triggered tf.function retracing. Tracing is expensive and the excessive number of tracings is likely due to passing python objects instead of tensors. Also, tf.function has experimental_relax_shapes=True option that relaxes argument shapes that can avoid unnecessary retracing. Please refer to https://www.tensorflow.org/tutorials/customization/performance#python_or_tensor_args and https://www.tensorflow.org/api_docs/python/tf/function for more details.\n",
      "WARNING:tensorflow:11 out of the last 11 calls to <function Model.make_predict_function.<locals>.predict_function at 0x7fa7b565edc0> triggered tf.function retracing. Tracing is expensive and the excessive number of tracings is likely due to passing python objects instead of tensors. Also, tf.function has experimental_relax_shapes=True option that relaxes argument shapes that can avoid unnecessary retracing. Please refer to https://www.tensorflow.org/tutorials/customization/performance#python_or_tensor_args and https://www.tensorflow.org/api_docs/python/tf/function for more details.\n",
      "WARNING:tensorflow:11 out of the last 11 calls to <function Model.make_predict_function.<locals>.predict_function at 0x7fa7b565edc0> triggered tf.function retracing. Tracing is expensive and the excessive number of tracings is likely due to passing python objects instead of tensors. Also, tf.function has experimental_relax_shapes=True option that relaxes argument shapes that can avoid unnecessary retracing. Please refer to https://www.tensorflow.org/tutorials/customization/performance#python_or_tensor_args and https://www.tensorflow.org/api_docs/python/tf/function for more details.\n",
      "WARNING:tensorflow:11 out of the last 11 calls to <function Model.make_predict_function.<locals>.predict_function at 0x7fa7b565edc0> triggered tf.function retracing. Tracing is expensive and the excessive number of tracings is likely due to passing python objects instead of tensors. Also, tf.function has experimental_relax_shapes=True option that relaxes argument shapes that can avoid unnecessary retracing. Please refer to https://www.tensorflow.org/tutorials/customization/performance#python_or_tensor_args and https://www.tensorflow.org/api_docs/python/tf/function for more details.\n",
      "WARNING:tensorflow:11 out of the last 11 calls to <function Model.make_predict_function.<locals>.predict_function at 0x7fa7b565edc0> triggered tf.function retracing. Tracing is expensive and the excessive number of tracings is likely due to passing python objects instead of tensors. Also, tf.function has experimental_relax_shapes=True option that relaxes argument shapes that can avoid unnecessary retracing. Please refer to https://www.tensorflow.org/tutorials/customization/performance#python_or_tensor_args and https://www.tensorflow.org/api_docs/python/tf/function for more details.\n",
      "WARNING:tensorflow:11 out of the last 11 calls to <function Model.make_predict_function.<locals>.predict_function at 0x7fa7b565edc0> triggered tf.function retracing. Tracing is expensive and the excessive number of tracings is likely due to passing python objects instead of tensors. Also, tf.function has experimental_relax_shapes=True option that relaxes argument shapes that can avoid unnecessary retracing. Please refer to https://www.tensorflow.org/tutorials/customization/performance#python_or_tensor_args and https://www.tensorflow.org/api_docs/python/tf/function for more details.\n",
      "WARNING:tensorflow:11 out of the last 11 calls to <function Model.make_predict_function.<locals>.predict_function at 0x7fa7b565edc0> triggered tf.function retracing. Tracing is expensive and the excessive number of tracings is likely due to passing python objects instead of tensors. Also, tf.function has experimental_relax_shapes=True option that relaxes argument shapes that can avoid unnecessary retracing. Please refer to https://www.tensorflow.org/tutorials/customization/performance#python_or_tensor_args and https://www.tensorflow.org/api_docs/python/tf/function for more details.\n",
      "WARNING:tensorflow:11 out of the last 11 calls to <function Model.make_predict_function.<locals>.predict_function at 0x7fa7b565edc0> triggered tf.function retracing. Tracing is expensive and the excessive number of tracings is likely due to passing python objects instead of tensors. Also, tf.function has experimental_relax_shapes=True option that relaxes argument shapes that can avoid unnecessary retracing. Please refer to https://www.tensorflow.org/tutorials/customization/performance#python_or_tensor_args and https://www.tensorflow.org/api_docs/python/tf/function for more details.\n",
      "WARNING:tensorflow:11 out of the last 11 calls to <function Model.make_predict_function.<locals>.predict_function at 0x7fa7b565edc0> triggered tf.function retracing. Tracing is expensive and the excessive number of tracings is likely due to passing python objects instead of tensors. Also, tf.function has experimental_relax_shapes=True option that relaxes argument shapes that can avoid unnecessary retracing. Please refer to https://www.tensorflow.org/tutorials/customization/performance#python_or_tensor_args and https://www.tensorflow.org/api_docs/python/tf/function for more details.\n",
      "WARNING:tensorflow:11 out of the last 11 calls to <function Model.make_predict_function.<locals>.predict_function at 0x7fa7b565edc0> triggered tf.function retracing. Tracing is expensive and the excessive number of tracings is likely due to passing python objects instead of tensors. Also, tf.function has experimental_relax_shapes=True option that relaxes argument shapes that can avoid unnecessary retracing. Please refer to https://www.tensorflow.org/tutorials/customization/performance#python_or_tensor_args and https://www.tensorflow.org/api_docs/python/tf/function for more details.\n"
     ]
    },
    {
     "name": "stdout",
     "output_type": "stream",
     "text": [
      "WARNING:tensorflow:11 out of the last 11 calls to <function Model.make_predict_function.<locals>.predict_function at 0x7fa7b565edc0> triggered tf.function retracing. Tracing is expensive and the excessive number of tracings is likely due to passing python objects instead of tensors. Also, tf.function has experimental_relax_shapes=True option that relaxes argument shapes that can avoid unnecessary retracing. Please refer to https://www.tensorflow.org/tutorials/customization/performance#python_or_tensor_args and https://www.tensorflow.org/api_docs/python/tf/function for more details.\n",
      "WARNING:tensorflow:11 out of the last 11 calls to <function Model.make_predict_function.<locals>.predict_function at 0x7fa7b565edc0> triggered tf.function retracing. Tracing is expensive and the excessive number of tracings is likely due to passing python objects instead of tensors. Also, tf.function has experimental_relax_shapes=True option that relaxes argument shapes that can avoid unnecessary retracing. Please refer to https://www.tensorflow.org/tutorials/customization/performance#python_or_tensor_args and https://www.tensorflow.org/api_docs/python/tf/function for more details.\n",
      "WARNING:tensorflow:11 out of the last 11 calls to <function Model.make_predict_function.<locals>.predict_function at 0x7fa7b565edc0> triggered tf.function retracing. Tracing is expensive and the excessive number of tracings is likely due to passing python objects instead of tensors. Also, tf.function has experimental_relax_shapes=True option that relaxes argument shapes that can avoid unnecessary retracing. Please refer to https://www.tensorflow.org/tutorials/customization/performance#python_or_tensor_args and https://www.tensorflow.org/api_docs/python/tf/function for more details.\n",
      "WARNING:tensorflow:11 out of the last 11 calls to <function Model.make_predict_function.<locals>.predict_function at 0x7fa7b565edc0> triggered tf.function retracing. Tracing is expensive and the excessive number of tracings is likely due to passing python objects instead of tensors. Also, tf.function has experimental_relax_shapes=True option that relaxes argument shapes that can avoid unnecessary retracing. Please refer to https://www.tensorflow.org/tutorials/customization/performance#python_or_tensor_args and https://www.tensorflow.org/api_docs/python/tf/function for more details.\n",
      "WARNING:tensorflow:11 out of the last 11 calls to <function Model.make_predict_function.<locals>.predict_function at 0x7fa7b565edc0> triggered tf.function retracing. Tracing is expensive and the excessive number of tracings is likely due to passing python objects instead of tensors. Also, tf.function has experimental_relax_shapes=True option that relaxes argument shapes that can avoid unnecessary retracing. Please refer to https://www.tensorflow.org/tutorials/customization/performance#python_or_tensor_args and https://www.tensorflow.org/api_docs/python/tf/function for more details.\n",
      "WARNING:tensorflow:11 out of the last 11 calls to <function Model.make_predict_function.<locals>.predict_function at 0x7fa7b565edc0> triggered tf.function retracing. Tracing is expensive and the excessive number of tracings is likely due to passing python objects instead of tensors. Also, tf.function has experimental_relax_shapes=True option that relaxes argument shapes that can avoid unnecessary retracing. Please refer to https://www.tensorflow.org/tutorials/customization/performance#python_or_tensor_args and https://www.tensorflow.org/api_docs/python/tf/function for more details.\n",
      "WARNING:tensorflow:11 out of the last 11 calls to <function Model.make_predict_function.<locals>.predict_function at 0x7fa7b565edc0> triggered tf.function retracing. Tracing is expensive and the excessive number of tracings is likely due to passing python objects instead of tensors. Also, tf.function has experimental_relax_shapes=True option that relaxes argument shapes that can avoid unnecessary retracing. Please refer to https://www.tensorflow.org/tutorials/customization/performance#python_or_tensor_args and https://www.tensorflow.org/api_docs/python/tf/function for more details.\n",
      "WARNING:tensorflow:11 out of the last 11 calls to <function Model.make_predict_function.<locals>.predict_function at 0x7fa7b565edc0> triggered tf.function retracing. Tracing is expensive and the excessive number of tracings is likely due to passing python objects instead of tensors. Also, tf.function has experimental_relax_shapes=True option that relaxes argument shapes that can avoid unnecessary retracing. Please refer to https://www.tensorflow.org/tutorials/customization/performance#python_or_tensor_args and https://www.tensorflow.org/api_docs/python/tf/function for more details.\n",
      "WARNING:tensorflow:11 out of the last 11 calls to <function Model.make_predict_function.<locals>.predict_function at 0x7fa7b565edc0> triggered tf.function retracing. Tracing is expensive and the excessive number of tracings is likely due to passing python objects instead of tensors. Also, tf.function has experimental_relax_shapes=True option that relaxes argument shapes that can avoid unnecessary retracing. Please refer to https://www.tensorflow.org/tutorials/customization/performance#python_or_tensor_args and https://www.tensorflow.org/api_docs/python/tf/function for more details.\n",
      "WARNING:tensorflow:11 out of the last 11 calls to <function Model.make_predict_function.<locals>.predict_function at 0x7fa7b565edc0> triggered tf.function retracing. Tracing is expensive and the excessive number of tracings is likely due to passing python objects instead of tensors. Also, tf.function has experimental_relax_shapes=True option that relaxes argument shapes that can avoid unnecessary retracing. Please refer to https://www.tensorflow.org/tutorials/customization/performance#python_or_tensor_args and https://www.tensorflow.org/api_docs/python/tf/function for more details.\n",
      "WARNING:tensorflow:11 out of the last 11 calls to <function Model.make_predict_function.<locals>.predict_function at 0x7fa7b565edc0> triggered tf.function retracing. Tracing is expensive and the excessive number of tracings is likely due to passing python objects instead of tensors. Also, tf.function has experimental_relax_shapes=True option that relaxes argument shapes that can avoid unnecessary retracing. Please refer to https://www.tensorflow.org/tutorials/customization/performance#python_or_tensor_args and https://www.tensorflow.org/api_docs/python/tf/function for more details.\n",
      "WARNING:tensorflow:11 out of the last 11 calls to <function Model.make_predict_function.<locals>.predict_function at 0x7fa7b565edc0> triggered tf.function retracing. Tracing is expensive and the excessive number of tracings is likely due to passing python objects instead of tensors. Also, tf.function has experimental_relax_shapes=True option that relaxes argument shapes that can avoid unnecessary retracing. Please refer to https://www.tensorflow.org/tutorials/customization/performance#python_or_tensor_args and https://www.tensorflow.org/api_docs/python/tf/function for more details.\n"
     ]
    },
    {
     "name": "stderr",
     "output_type": "stream",
     "text": [
      "\r",
      "  0%|          | 1/10000 [00:21<59:14:01, 21.33s/it]"
     ]
    },
    {
     "name": "stdout",
     "output_type": "stream",
     "text": [
      "WARNING:tensorflow:5 out of the last 49 calls to <function Model.make_predict_function.<locals>.predict_function at 0x7fa7b565edc0> triggered tf.function retracing. Tracing is expensive and the excessive number of tracings is likely due to passing python objects instead of tensors. Also, tf.function has experimental_relax_shapes=True option that relaxes argument shapes that can avoid unnecessary retracing. Please refer to https://www.tensorflow.org/tutorials/customization/performance#python_or_tensor_args and https://www.tensorflow.org/api_docs/python/tf/function for more details.\n",
      "WARNING:tensorflow:6 out of the last 50 calls to <function Model.make_predict_function.<locals>.predict_function at 0x7fa7b565edc0> triggered tf.function retracing. Tracing is expensive and the excessive number of tracings is likely due to passing python objects instead of tensors. Also, tf.function has experimental_relax_shapes=True option that relaxes argument shapes that can avoid unnecessary retracing. Please refer to https://www.tensorflow.org/tutorials/customization/performance#python_or_tensor_args and https://www.tensorflow.org/api_docs/python/tf/function for more details.\n",
      "WARNING:tensorflow:7 out of the last 51 calls to <function Model.make_predict_function.<locals>.predict_function at 0x7fa7b565edc0> triggered tf.function retracing. Tracing is expensive and the excessive number of tracings is likely due to passing python objects instead of tensors. Also, tf.function has experimental_relax_shapes=True option that relaxes argument shapes that can avoid unnecessary retracing. Please refer to https://www.tensorflow.org/tutorials/customization/performance#python_or_tensor_args and https://www.tensorflow.org/api_docs/python/tf/function for more details.\n",
      "WARNING:tensorflow:8 out of the last 52 calls to <function Model.make_predict_function.<locals>.predict_function at 0x7fa7b565edc0> triggered tf.function retracing. Tracing is expensive and the excessive number of tracings is likely due to passing python objects instead of tensors. Also, tf.function has experimental_relax_shapes=True option that relaxes argument shapes that can avoid unnecessary retracing. Please refer to https://www.tensorflow.org/tutorials/customization/performance#python_or_tensor_args and https://www.tensorflow.org/api_docs/python/tf/function for more details.\n",
      "WARNING:tensorflow:9 out of the last 53 calls to <function Model.make_predict_function.<locals>.predict_function at 0x7fa7b565edc0> triggered tf.function retracing. Tracing is expensive and the excessive number of tracings is likely due to passing python objects instead of tensors. Also, tf.function has experimental_relax_shapes=True option that relaxes argument shapes that can avoid unnecessary retracing. Please refer to https://www.tensorflow.org/tutorials/customization/performance#python_or_tensor_args and https://www.tensorflow.org/api_docs/python/tf/function for more details.\n",
      "WARNING:tensorflow:10 out of the last 54 calls to <function Model.make_predict_function.<locals>.predict_function at 0x7fa7b565edc0> triggered tf.function retracing. Tracing is expensive and the excessive number of tracings is likely due to passing python objects instead of tensors. Also, tf.function has experimental_relax_shapes=True option that relaxes argument shapes that can avoid unnecessary retracing. Please refer to https://www.tensorflow.org/tutorials/customization/performance#python_or_tensor_args and https://www.tensorflow.org/api_docs/python/tf/function for more details.\n",
      "WARNING:tensorflow:11 out of the last 55 calls to <function Model.make_predict_function.<locals>.predict_function at 0x7fa7b565edc0> triggered tf.function retracing. Tracing is expensive and the excessive number of tracings is likely due to passing python objects instead of tensors. Also, tf.function has experimental_relax_shapes=True option that relaxes argument shapes that can avoid unnecessary retracing. Please refer to https://www.tensorflow.org/tutorials/customization/performance#python_or_tensor_args and https://www.tensorflow.org/api_docs/python/tf/function for more details.\n",
      "WARNING:tensorflow:11 out of the last 11 calls to <function Model.make_predict_function.<locals>.predict_function at 0x7fa7b565edc0> triggered tf.function retracing. Tracing is expensive and the excessive number of tracings is likely due to passing python objects instead of tensors. Also, tf.function has experimental_relax_shapes=True option that relaxes argument shapes that can avoid unnecessary retracing. Please refer to https://www.tensorflow.org/tutorials/customization/performance#python_or_tensor_args and https://www.tensorflow.org/api_docs/python/tf/function for more details.\n",
      "WARNING:tensorflow:11 out of the last 11 calls to <function Model.make_predict_function.<locals>.predict_function at 0x7fa7b565edc0> triggered tf.function retracing. Tracing is expensive and the excessive number of tracings is likely due to passing python objects instead of tensors. Also, tf.function has experimental_relax_shapes=True option that relaxes argument shapes that can avoid unnecessary retracing. Please refer to https://www.tensorflow.org/tutorials/customization/performance#python_or_tensor_args and https://www.tensorflow.org/api_docs/python/tf/function for more details.\n",
      "WARNING:tensorflow:11 out of the last 11 calls to <function Model.make_predict_function.<locals>.predict_function at 0x7fa7b565edc0> triggered tf.function retracing. Tracing is expensive and the excessive number of tracings is likely due to passing python objects instead of tensors. Also, tf.function has experimental_relax_shapes=True option that relaxes argument shapes that can avoid unnecessary retracing. Please refer to https://www.tensorflow.org/tutorials/customization/performance#python_or_tensor_args and https://www.tensorflow.org/api_docs/python/tf/function for more details.\n",
      "WARNING:tensorflow:11 out of the last 11 calls to <function Model.make_predict_function.<locals>.predict_function at 0x7fa7b565edc0> triggered tf.function retracing. Tracing is expensive and the excessive number of tracings is likely due to passing python objects instead of tensors. Also, tf.function has experimental_relax_shapes=True option that relaxes argument shapes that can avoid unnecessary retracing. Please refer to https://www.tensorflow.org/tutorials/customization/performance#python_or_tensor_args and https://www.tensorflow.org/api_docs/python/tf/function for more details.\n",
      "WARNING:tensorflow:11 out of the last 11 calls to <function Model.make_predict_function.<locals>.predict_function at 0x7fa7b565edc0> triggered tf.function retracing. Tracing is expensive and the excessive number of tracings is likely due to passing python objects instead of tensors. Also, tf.function has experimental_relax_shapes=True option that relaxes argument shapes that can avoid unnecessary retracing. Please refer to https://www.tensorflow.org/tutorials/customization/performance#python_or_tensor_args and https://www.tensorflow.org/api_docs/python/tf/function for more details.\n",
      "WARNING:tensorflow:11 out of the last 11 calls to <function Model.make_predict_function.<locals>.predict_function at 0x7fa7b565edc0> triggered tf.function retracing. Tracing is expensive and the excessive number of tracings is likely due to passing python objects instead of tensors. Also, tf.function has experimental_relax_shapes=True option that relaxes argument shapes that can avoid unnecessary retracing. Please refer to https://www.tensorflow.org/tutorials/customization/performance#python_or_tensor_args and https://www.tensorflow.org/api_docs/python/tf/function for more details.\n",
      "WARNING:tensorflow:11 out of the last 11 calls to <function Model.make_predict_function.<locals>.predict_function at 0x7fa7b565edc0> triggered tf.function retracing. Tracing is expensive and the excessive number of tracings is likely due to passing python objects instead of tensors. Also, tf.function has experimental_relax_shapes=True option that relaxes argument shapes that can avoid unnecessary retracing. Please refer to https://www.tensorflow.org/tutorials/customization/performance#python_or_tensor_args and https://www.tensorflow.org/api_docs/python/tf/function for more details.\n"
     ]
    },
    {
     "name": "stdout",
     "output_type": "stream",
     "text": [
      "WARNING:tensorflow:11 out of the last 11 calls to <function Model.make_predict_function.<locals>.predict_function at 0x7fa7b565edc0> triggered tf.function retracing. Tracing is expensive and the excessive number of tracings is likely due to passing python objects instead of tensors. Also, tf.function has experimental_relax_shapes=True option that relaxes argument shapes that can avoid unnecessary retracing. Please refer to https://www.tensorflow.org/tutorials/customization/performance#python_or_tensor_args and https://www.tensorflow.org/api_docs/python/tf/function for more details.\n",
      "WARNING:tensorflow:11 out of the last 11 calls to <function Model.make_predict_function.<locals>.predict_function at 0x7fa7b565edc0> triggered tf.function retracing. Tracing is expensive and the excessive number of tracings is likely due to passing python objects instead of tensors. Also, tf.function has experimental_relax_shapes=True option that relaxes argument shapes that can avoid unnecessary retracing. Please refer to https://www.tensorflow.org/tutorials/customization/performance#python_or_tensor_args and https://www.tensorflow.org/api_docs/python/tf/function for more details.\n",
      "WARNING:tensorflow:11 out of the last 11 calls to <function Model.make_predict_function.<locals>.predict_function at 0x7fa7b565edc0> triggered tf.function retracing. Tracing is expensive and the excessive number of tracings is likely due to passing python objects instead of tensors. Also, tf.function has experimental_relax_shapes=True option that relaxes argument shapes that can avoid unnecessary retracing. Please refer to https://www.tensorflow.org/tutorials/customization/performance#python_or_tensor_args and https://www.tensorflow.org/api_docs/python/tf/function for more details.\n",
      "WARNING:tensorflow:11 out of the last 11 calls to <function Model.make_predict_function.<locals>.predict_function at 0x7fa7b565edc0> triggered tf.function retracing. Tracing is expensive and the excessive number of tracings is likely due to passing python objects instead of tensors. Also, tf.function has experimental_relax_shapes=True option that relaxes argument shapes that can avoid unnecessary retracing. Please refer to https://www.tensorflow.org/tutorials/customization/performance#python_or_tensor_args and https://www.tensorflow.org/api_docs/python/tf/function for more details.\n",
      "WARNING:tensorflow:11 out of the last 11 calls to <function Model.make_predict_function.<locals>.predict_function at 0x7fa7b565edc0> triggered tf.function retracing. Tracing is expensive and the excessive number of tracings is likely due to passing python objects instead of tensors. Also, tf.function has experimental_relax_shapes=True option that relaxes argument shapes that can avoid unnecessary retracing. Please refer to https://www.tensorflow.org/tutorials/customization/performance#python_or_tensor_args and https://www.tensorflow.org/api_docs/python/tf/function for more details.\n"
     ]
    },
    {
     "name": "stderr",
     "output_type": "stream",
     "text": [
      "  0%|          | 6/10000 [00:38<15:04:17,  5.43s/it]"
     ]
    },
    {
     "name": "stdout",
     "output_type": "stream",
     "text": [
      "WARNING:tensorflow:5 out of the last 227 calls to <function Model.make_predict_function.<locals>.predict_function at 0x7fa7b565edc0> triggered tf.function retracing. Tracing is expensive and the excessive number of tracings is likely due to passing python objects instead of tensors. Also, tf.function has experimental_relax_shapes=True option that relaxes argument shapes that can avoid unnecessary retracing. Please refer to https://www.tensorflow.org/tutorials/customization/performance#python_or_tensor_args and https://www.tensorflow.org/api_docs/python/tf/function for more details.\n",
      "WARNING:tensorflow:6 out of the last 228 calls to <function Model.make_predict_function.<locals>.predict_function at 0x7fa7b565edc0> triggered tf.function retracing. Tracing is expensive and the excessive number of tracings is likely due to passing python objects instead of tensors. Also, tf.function has experimental_relax_shapes=True option that relaxes argument shapes that can avoid unnecessary retracing. Please refer to https://www.tensorflow.org/tutorials/customization/performance#python_or_tensor_args and https://www.tensorflow.org/api_docs/python/tf/function for more details.\n",
      "WARNING:tensorflow:7 out of the last 229 calls to <function Model.make_predict_function.<locals>.predict_function at 0x7fa7b565edc0> triggered tf.function retracing. Tracing is expensive and the excessive number of tracings is likely due to passing python objects instead of tensors. Also, tf.function has experimental_relax_shapes=True option that relaxes argument shapes that can avoid unnecessary retracing. Please refer to https://www.tensorflow.org/tutorials/customization/performance#python_or_tensor_args and https://www.tensorflow.org/api_docs/python/tf/function for more details.\n",
      "WARNING:tensorflow:8 out of the last 230 calls to <function Model.make_predict_function.<locals>.predict_function at 0x7fa7b565edc0> triggered tf.function retracing. Tracing is expensive and the excessive number of tracings is likely due to passing python objects instead of tensors. Also, tf.function has experimental_relax_shapes=True option that relaxes argument shapes that can avoid unnecessary retracing. Please refer to https://www.tensorflow.org/tutorials/customization/performance#python_or_tensor_args and https://www.tensorflow.org/api_docs/python/tf/function for more details.\n",
      "WARNING:tensorflow:9 out of the last 231 calls to <function Model.make_predict_function.<locals>.predict_function at 0x7fa7b565edc0> triggered tf.function retracing. Tracing is expensive and the excessive number of tracings is likely due to passing python objects instead of tensors. Also, tf.function has experimental_relax_shapes=True option that relaxes argument shapes that can avoid unnecessary retracing. Please refer to https://www.tensorflow.org/tutorials/customization/performance#python_or_tensor_args and https://www.tensorflow.org/api_docs/python/tf/function for more details.\n",
      "WARNING:tensorflow:10 out of the last 232 calls to <function Model.make_predict_function.<locals>.predict_function at 0x7fa7b565edc0> triggered tf.function retracing. Tracing is expensive and the excessive number of tracings is likely due to passing python objects instead of tensors. Also, tf.function has experimental_relax_shapes=True option that relaxes argument shapes that can avoid unnecessary retracing. Please refer to https://www.tensorflow.org/tutorials/customization/performance#python_or_tensor_args and https://www.tensorflow.org/api_docs/python/tf/function for more details.\n",
      "WARNING:tensorflow:11 out of the last 233 calls to <function Model.make_predict_function.<locals>.predict_function at 0x7fa7b565edc0> triggered tf.function retracing. Tracing is expensive and the excessive number of tracings is likely due to passing python objects instead of tensors. Also, tf.function has experimental_relax_shapes=True option that relaxes argument shapes that can avoid unnecessary retracing. Please refer to https://www.tensorflow.org/tutorials/customization/performance#python_or_tensor_args and https://www.tensorflow.org/api_docs/python/tf/function for more details.\n",
      "WARNING:tensorflow:11 out of the last 11 calls to <function Model.make_predict_function.<locals>.predict_function at 0x7fa7b565edc0> triggered tf.function retracing. Tracing is expensive and the excessive number of tracings is likely due to passing python objects instead of tensors. Also, tf.function has experimental_relax_shapes=True option that relaxes argument shapes that can avoid unnecessary retracing. Please refer to https://www.tensorflow.org/tutorials/customization/performance#python_or_tensor_args and https://www.tensorflow.org/api_docs/python/tf/function for more details.\n",
      "WARNING:tensorflow:11 out of the last 11 calls to <function Model.make_predict_function.<locals>.predict_function at 0x7fa7b565edc0> triggered tf.function retracing. Tracing is expensive and the excessive number of tracings is likely due to passing python objects instead of tensors. Also, tf.function has experimental_relax_shapes=True option that relaxes argument shapes that can avoid unnecessary retracing. Please refer to https://www.tensorflow.org/tutorials/customization/performance#python_or_tensor_args and https://www.tensorflow.org/api_docs/python/tf/function for more details.\n",
      "WARNING:tensorflow:11 out of the last 11 calls to <function Model.make_predict_function.<locals>.predict_function at 0x7fa7b565edc0> triggered tf.function retracing. Tracing is expensive and the excessive number of tracings is likely due to passing python objects instead of tensors. Also, tf.function has experimental_relax_shapes=True option that relaxes argument shapes that can avoid unnecessary retracing. Please refer to https://www.tensorflow.org/tutorials/customization/performance#python_or_tensor_args and https://www.tensorflow.org/api_docs/python/tf/function for more details.\n",
      "WARNING:tensorflow:11 out of the last 11 calls to <function Model.make_predict_function.<locals>.predict_function at 0x7fa7b565edc0> triggered tf.function retracing. Tracing is expensive and the excessive number of tracings is likely due to passing python objects instead of tensors. Also, tf.function has experimental_relax_shapes=True option that relaxes argument shapes that can avoid unnecessary retracing. Please refer to https://www.tensorflow.org/tutorials/customization/performance#python_or_tensor_args and https://www.tensorflow.org/api_docs/python/tf/function for more details.\n",
      "WARNING:tensorflow:11 out of the last 11 calls to <function Model.make_predict_function.<locals>.predict_function at 0x7fa7b565edc0> triggered tf.function retracing. Tracing is expensive and the excessive number of tracings is likely due to passing python objects instead of tensors. Also, tf.function has experimental_relax_shapes=True option that relaxes argument shapes that can avoid unnecessary retracing. Please refer to https://www.tensorflow.org/tutorials/customization/performance#python_or_tensor_args and https://www.tensorflow.org/api_docs/python/tf/function for more details.\n",
      "WARNING:tensorflow:11 out of the last 11 calls to <function Model.make_predict_function.<locals>.predict_function at 0x7fa7b565edc0> triggered tf.function retracing. Tracing is expensive and the excessive number of tracings is likely due to passing python objects instead of tensors. Also, tf.function has experimental_relax_shapes=True option that relaxes argument shapes that can avoid unnecessary retracing. Please refer to https://www.tensorflow.org/tutorials/customization/performance#python_or_tensor_args and https://www.tensorflow.org/api_docs/python/tf/function for more details.\n",
      "WARNING:tensorflow:11 out of the last 11 calls to <function Model.make_predict_function.<locals>.predict_function at 0x7fa7b565edc0> triggered tf.function retracing. Tracing is expensive and the excessive number of tracings is likely due to passing python objects instead of tensors. Also, tf.function has experimental_relax_shapes=True option that relaxes argument shapes that can avoid unnecessary retracing. Please refer to https://www.tensorflow.org/tutorials/customization/performance#python_or_tensor_args and https://www.tensorflow.org/api_docs/python/tf/function for more details.\n"
     ]
    },
    {
     "name": "stdout",
     "output_type": "stream",
     "text": [
      "WARNING:tensorflow:11 out of the last 11 calls to <function Model.make_predict_function.<locals>.predict_function at 0x7fa7b565edc0> triggered tf.function retracing. Tracing is expensive and the excessive number of tracings is likely due to passing python objects instead of tensors. Also, tf.function has experimental_relax_shapes=True option that relaxes argument shapes that can avoid unnecessary retracing. Please refer to https://www.tensorflow.org/tutorials/customization/performance#python_or_tensor_args and https://www.tensorflow.org/api_docs/python/tf/function for more details.\n",
      "WARNING:tensorflow:11 out of the last 11 calls to <function Model.make_predict_function.<locals>.predict_function at 0x7fa7b565edc0> triggered tf.function retracing. Tracing is expensive and the excessive number of tracings is likely due to passing python objects instead of tensors. Also, tf.function has experimental_relax_shapes=True option that relaxes argument shapes that can avoid unnecessary retracing. Please refer to https://www.tensorflow.org/tutorials/customization/performance#python_or_tensor_args and https://www.tensorflow.org/api_docs/python/tf/function for more details.\n"
     ]
    },
    {
     "name": "stderr",
     "output_type": "stream",
     "text": [
      "  2%|▏         | 174/10000 [04:59<3:17:39,  1.21s/it]"
     ]
    },
    {
     "name": "stdout",
     "output_type": "stream",
     "text": [
      "WARNING:tensorflow:5 out of the last 7582 calls to <function Model.make_predict_function.<locals>.predict_function at 0x7fa7b565edc0> triggered tf.function retracing. Tracing is expensive and the excessive number of tracings is likely due to passing python objects instead of tensors. Also, tf.function has experimental_relax_shapes=True option that relaxes argument shapes that can avoid unnecessary retracing. Please refer to https://www.tensorflow.org/tutorials/customization/performance#python_or_tensor_args and https://www.tensorflow.org/api_docs/python/tf/function for more details.\n",
      "WARNING:tensorflow:6 out of the last 7583 calls to <function Model.make_predict_function.<locals>.predict_function at 0x7fa7b565edc0> triggered tf.function retracing. Tracing is expensive and the excessive number of tracings is likely due to passing python objects instead of tensors. Also, tf.function has experimental_relax_shapes=True option that relaxes argument shapes that can avoid unnecessary retracing. Please refer to https://www.tensorflow.org/tutorials/customization/performance#python_or_tensor_args and https://www.tensorflow.org/api_docs/python/tf/function for more details.\n",
      "WARNING:tensorflow:7 out of the last 7584 calls to <function Model.make_predict_function.<locals>.predict_function at 0x7fa7b565edc0> triggered tf.function retracing. Tracing is expensive and the excessive number of tracings is likely due to passing python objects instead of tensors. Also, tf.function has experimental_relax_shapes=True option that relaxes argument shapes that can avoid unnecessary retracing. Please refer to https://www.tensorflow.org/tutorials/customization/performance#python_or_tensor_args and https://www.tensorflow.org/api_docs/python/tf/function for more details.\n",
      "WARNING:tensorflow:8 out of the last 7585 calls to <function Model.make_predict_function.<locals>.predict_function at 0x7fa7b565edc0> triggered tf.function retracing. Tracing is expensive and the excessive number of tracings is likely due to passing python objects instead of tensors. Also, tf.function has experimental_relax_shapes=True option that relaxes argument shapes that can avoid unnecessary retracing. Please refer to https://www.tensorflow.org/tutorials/customization/performance#python_or_tensor_args and https://www.tensorflow.org/api_docs/python/tf/function for more details.\n",
      "WARNING:tensorflow:9 out of the last 7586 calls to <function Model.make_predict_function.<locals>.predict_function at 0x7fa7b565edc0> triggered tf.function retracing. Tracing is expensive and the excessive number of tracings is likely due to passing python objects instead of tensors. Also, tf.function has experimental_relax_shapes=True option that relaxes argument shapes that can avoid unnecessary retracing. Please refer to https://www.tensorflow.org/tutorials/customization/performance#python_or_tensor_args and https://www.tensorflow.org/api_docs/python/tf/function for more details.\n",
      "WARNING:tensorflow:10 out of the last 7587 calls to <function Model.make_predict_function.<locals>.predict_function at 0x7fa7b565edc0> triggered tf.function retracing. Tracing is expensive and the excessive number of tracings is likely due to passing python objects instead of tensors. Also, tf.function has experimental_relax_shapes=True option that relaxes argument shapes that can avoid unnecessary retracing. Please refer to https://www.tensorflow.org/tutorials/customization/performance#python_or_tensor_args and https://www.tensorflow.org/api_docs/python/tf/function for more details.\n",
      "WARNING:tensorflow:11 out of the last 7588 calls to <function Model.make_predict_function.<locals>.predict_function at 0x7fa7b565edc0> triggered tf.function retracing. Tracing is expensive and the excessive number of tracings is likely due to passing python objects instead of tensors. Also, tf.function has experimental_relax_shapes=True option that relaxes argument shapes that can avoid unnecessary retracing. Please refer to https://www.tensorflow.org/tutorials/customization/performance#python_or_tensor_args and https://www.tensorflow.org/api_docs/python/tf/function for more details.\n",
      "WARNING:tensorflow:11 out of the last 11 calls to <function Model.make_predict_function.<locals>.predict_function at 0x7fa7b565edc0> triggered tf.function retracing. Tracing is expensive and the excessive number of tracings is likely due to passing python objects instead of tensors. Also, tf.function has experimental_relax_shapes=True option that relaxes argument shapes that can avoid unnecessary retracing. Please refer to https://www.tensorflow.org/tutorials/customization/performance#python_or_tensor_args and https://www.tensorflow.org/api_docs/python/tf/function for more details.\n",
      "WARNING:tensorflow:11 out of the last 11 calls to <function Model.make_predict_function.<locals>.predict_function at 0x7fa7b565edc0> triggered tf.function retracing. Tracing is expensive and the excessive number of tracings is likely due to passing python objects instead of tensors. Also, tf.function has experimental_relax_shapes=True option that relaxes argument shapes that can avoid unnecessary retracing. Please refer to https://www.tensorflow.org/tutorials/customization/performance#python_or_tensor_args and https://www.tensorflow.org/api_docs/python/tf/function for more details.\n",
      "WARNING:tensorflow:11 out of the last 11 calls to <function Model.make_predict_function.<locals>.predict_function at 0x7fa7b565edc0> triggered tf.function retracing. Tracing is expensive and the excessive number of tracings is likely due to passing python objects instead of tensors. Also, tf.function has experimental_relax_shapes=True option that relaxes argument shapes that can avoid unnecessary retracing. Please refer to https://www.tensorflow.org/tutorials/customization/performance#python_or_tensor_args and https://www.tensorflow.org/api_docs/python/tf/function for more details.\n",
      "WARNING:tensorflow:11 out of the last 11 calls to <function Model.make_predict_function.<locals>.predict_function at 0x7fa7b565edc0> triggered tf.function retracing. Tracing is expensive and the excessive number of tracings is likely due to passing python objects instead of tensors. Also, tf.function has experimental_relax_shapes=True option that relaxes argument shapes that can avoid unnecessary retracing. Please refer to https://www.tensorflow.org/tutorials/customization/performance#python_or_tensor_args and https://www.tensorflow.org/api_docs/python/tf/function for more details.\n",
      "WARNING:tensorflow:11 out of the last 11 calls to <function Model.make_predict_function.<locals>.predict_function at 0x7fa7b565edc0> triggered tf.function retracing. Tracing is expensive and the excessive number of tracings is likely due to passing python objects instead of tensors. Also, tf.function has experimental_relax_shapes=True option that relaxes argument shapes that can avoid unnecessary retracing. Please refer to https://www.tensorflow.org/tutorials/customization/performance#python_or_tensor_args and https://www.tensorflow.org/api_docs/python/tf/function for more details.\n",
      "WARNING:tensorflow:11 out of the last 11 calls to <function Model.make_predict_function.<locals>.predict_function at 0x7fa7b565edc0> triggered tf.function retracing. Tracing is expensive and the excessive number of tracings is likely due to passing python objects instead of tensors. Also, tf.function has experimental_relax_shapes=True option that relaxes argument shapes that can avoid unnecessary retracing. Please refer to https://www.tensorflow.org/tutorials/customization/performance#python_or_tensor_args and https://www.tensorflow.org/api_docs/python/tf/function for more details.\n",
      "WARNING:tensorflow:11 out of the last 11 calls to <function Model.make_predict_function.<locals>.predict_function at 0x7fa7b565edc0> triggered tf.function retracing. Tracing is expensive and the excessive number of tracings is likely due to passing python objects instead of tensors. Also, tf.function has experimental_relax_shapes=True option that relaxes argument shapes that can avoid unnecessary retracing. Please refer to https://www.tensorflow.org/tutorials/customization/performance#python_or_tensor_args and https://www.tensorflow.org/api_docs/python/tf/function for more details.\n"
     ]
    },
    {
     "name": "stdout",
     "output_type": "stream",
     "text": [
      "WARNING:tensorflow:11 out of the last 11 calls to <function Model.make_predict_function.<locals>.predict_function at 0x7fa7b565edc0> triggered tf.function retracing. Tracing is expensive and the excessive number of tracings is likely due to passing python objects instead of tensors. Also, tf.function has experimental_relax_shapes=True option that relaxes argument shapes that can avoid unnecessary retracing. Please refer to https://www.tensorflow.org/tutorials/customization/performance#python_or_tensor_args and https://www.tensorflow.org/api_docs/python/tf/function for more details.\n",
      "WARNING:tensorflow:11 out of the last 11 calls to <function Model.make_predict_function.<locals>.predict_function at 0x7fa7b565edc0> triggered tf.function retracing. Tracing is expensive and the excessive number of tracings is likely due to passing python objects instead of tensors. Also, tf.function has experimental_relax_shapes=True option that relaxes argument shapes that can avoid unnecessary retracing. Please refer to https://www.tensorflow.org/tutorials/customization/performance#python_or_tensor_args and https://www.tensorflow.org/api_docs/python/tf/function for more details.\n",
      "WARNING:tensorflow:11 out of the last 11 calls to <function Model.make_predict_function.<locals>.predict_function at 0x7fa7b565edc0> triggered tf.function retracing. Tracing is expensive and the excessive number of tracings is likely due to passing python objects instead of tensors. Also, tf.function has experimental_relax_shapes=True option that relaxes argument shapes that can avoid unnecessary retracing. Please refer to https://www.tensorflow.org/tutorials/customization/performance#python_or_tensor_args and https://www.tensorflow.org/api_docs/python/tf/function for more details.\n",
      "WARNING:tensorflow:11 out of the last 11 calls to <function Model.make_predict_function.<locals>.predict_function at 0x7fa7b565edc0> triggered tf.function retracing. Tracing is expensive and the excessive number of tracings is likely due to passing python objects instead of tensors. Also, tf.function has experimental_relax_shapes=True option that relaxes argument shapes that can avoid unnecessary retracing. Please refer to https://www.tensorflow.org/tutorials/customization/performance#python_or_tensor_args and https://www.tensorflow.org/api_docs/python/tf/function for more details.\n",
      "WARNING:tensorflow:11 out of the last 11 calls to <function Model.make_predict_function.<locals>.predict_function at 0x7fa7b565edc0> triggered tf.function retracing. Tracing is expensive and the excessive number of tracings is likely due to passing python objects instead of tensors. Also, tf.function has experimental_relax_shapes=True option that relaxes argument shapes that can avoid unnecessary retracing. Please refer to https://www.tensorflow.org/tutorials/customization/performance#python_or_tensor_args and https://www.tensorflow.org/api_docs/python/tf/function for more details.\n",
      "WARNING:tensorflow:11 out of the last 11 calls to <function Model.make_predict_function.<locals>.predict_function at 0x7fa7b565edc0> triggered tf.function retracing. Tracing is expensive and the excessive number of tracings is likely due to passing python objects instead of tensors. Also, tf.function has experimental_relax_shapes=True option that relaxes argument shapes that can avoid unnecessary retracing. Please refer to https://www.tensorflow.org/tutorials/customization/performance#python_or_tensor_args and https://www.tensorflow.org/api_docs/python/tf/function for more details.\n",
      "WARNING:tensorflow:11 out of the last 11 calls to <function Model.make_predict_function.<locals>.predict_function at 0x7fa7b565edc0> triggered tf.function retracing. Tracing is expensive and the excessive number of tracings is likely due to passing python objects instead of tensors. Also, tf.function has experimental_relax_shapes=True option that relaxes argument shapes that can avoid unnecessary retracing. Please refer to https://www.tensorflow.org/tutorials/customization/performance#python_or_tensor_args and https://www.tensorflow.org/api_docs/python/tf/function for more details.\n",
      "WARNING:tensorflow:11 out of the last 11 calls to <function Model.make_predict_function.<locals>.predict_function at 0x7fa7b565edc0> triggered tf.function retracing. Tracing is expensive and the excessive number of tracings is likely due to passing python objects instead of tensors. Also, tf.function has experimental_relax_shapes=True option that relaxes argument shapes that can avoid unnecessary retracing. Please refer to https://www.tensorflow.org/tutorials/customization/performance#python_or_tensor_args and https://www.tensorflow.org/api_docs/python/tf/function for more details.\n",
      "WARNING:tensorflow:11 out of the last 11 calls to <function Model.make_predict_function.<locals>.predict_function at 0x7fa7b565edc0> triggered tf.function retracing. Tracing is expensive and the excessive number of tracings is likely due to passing python objects instead of tensors. Also, tf.function has experimental_relax_shapes=True option that relaxes argument shapes that can avoid unnecessary retracing. Please refer to https://www.tensorflow.org/tutorials/customization/performance#python_or_tensor_args and https://www.tensorflow.org/api_docs/python/tf/function for more details.\n",
      "WARNING:tensorflow:11 out of the last 11 calls to <function Model.make_predict_function.<locals>.predict_function at 0x7fa7b565edc0> triggered tf.function retracing. Tracing is expensive and the excessive number of tracings is likely due to passing python objects instead of tensors. Also, tf.function has experimental_relax_shapes=True option that relaxes argument shapes that can avoid unnecessary retracing. Please refer to https://www.tensorflow.org/tutorials/customization/performance#python_or_tensor_args and https://www.tensorflow.org/api_docs/python/tf/function for more details.\n",
      "WARNING:tensorflow:11 out of the last 11 calls to <function Model.make_predict_function.<locals>.predict_function at 0x7fa7b565edc0> triggered tf.function retracing. Tracing is expensive and the excessive number of tracings is likely due to passing python objects instead of tensors. Also, tf.function has experimental_relax_shapes=True option that relaxes argument shapes that can avoid unnecessary retracing. Please refer to https://www.tensorflow.org/tutorials/customization/performance#python_or_tensor_args and https://www.tensorflow.org/api_docs/python/tf/function for more details.\n",
      "WARNING:tensorflow:11 out of the last 11 calls to <function Model.make_predict_function.<locals>.predict_function at 0x7fa7b565edc0> triggered tf.function retracing. Tracing is expensive and the excessive number of tracings is likely due to passing python objects instead of tensors. Also, tf.function has experimental_relax_shapes=True option that relaxes argument shapes that can avoid unnecessary retracing. Please refer to https://www.tensorflow.org/tutorials/customization/performance#python_or_tensor_args and https://www.tensorflow.org/api_docs/python/tf/function for more details.\n",
      "WARNING:tensorflow:11 out of the last 11 calls to <function Model.make_predict_function.<locals>.predict_function at 0x7fa7b565edc0> triggered tf.function retracing. Tracing is expensive and the excessive number of tracings is likely due to passing python objects instead of tensors. Also, tf.function has experimental_relax_shapes=True option that relaxes argument shapes that can avoid unnecessary retracing. Please refer to https://www.tensorflow.org/tutorials/customization/performance#python_or_tensor_args and https://www.tensorflow.org/api_docs/python/tf/function for more details.\n",
      "WARNING:tensorflow:11 out of the last 11 calls to <function Model.make_predict_function.<locals>.predict_function at 0x7fa7b565edc0> triggered tf.function retracing. Tracing is expensive and the excessive number of tracings is likely due to passing python objects instead of tensors. Also, tf.function has experimental_relax_shapes=True option that relaxes argument shapes that can avoid unnecessary retracing. Please refer to https://www.tensorflow.org/tutorials/customization/performance#python_or_tensor_args and https://www.tensorflow.org/api_docs/python/tf/function for more details.\n"
     ]
    },
    {
     "name": "stdout",
     "output_type": "stream",
     "text": [
      "WARNING:tensorflow:11 out of the last 11 calls to <function Model.make_predict_function.<locals>.predict_function at 0x7fa7b565edc0> triggered tf.function retracing. Tracing is expensive and the excessive number of tracings is likely due to passing python objects instead of tensors. Also, tf.function has experimental_relax_shapes=True option that relaxes argument shapes that can avoid unnecessary retracing. Please refer to https://www.tensorflow.org/tutorials/customization/performance#python_or_tensor_args and https://www.tensorflow.org/api_docs/python/tf/function for more details.\n",
      "WARNING:tensorflow:11 out of the last 11 calls to <function Model.make_predict_function.<locals>.predict_function at 0x7fa7b565edc0> triggered tf.function retracing. Tracing is expensive and the excessive number of tracings is likely due to passing python objects instead of tensors. Also, tf.function has experimental_relax_shapes=True option that relaxes argument shapes that can avoid unnecessary retracing. Please refer to https://www.tensorflow.org/tutorials/customization/performance#python_or_tensor_args and https://www.tensorflow.org/api_docs/python/tf/function for more details.\n"
     ]
    },
    {
     "name": "stderr",
     "output_type": "stream",
     "text": [
      "  2%|▏         | 192/10000 [05:44<3:46:53,  1.39s/it] "
     ]
    },
    {
     "name": "stdout",
     "output_type": "stream",
     "text": [
      "WARNING:tensorflow:5 out of the last 834 calls to <function Model.make_predict_function.<locals>.predict_function at 0x7fa7b565edc0> triggered tf.function retracing. Tracing is expensive and the excessive number of tracings is likely due to passing python objects instead of tensors. Also, tf.function has experimental_relax_shapes=True option that relaxes argument shapes that can avoid unnecessary retracing. Please refer to https://www.tensorflow.org/tutorials/customization/performance#python_or_tensor_args and https://www.tensorflow.org/api_docs/python/tf/function for more details.\n",
      "WARNING:tensorflow:6 out of the last 835 calls to <function Model.make_predict_function.<locals>.predict_function at 0x7fa7b565edc0> triggered tf.function retracing. Tracing is expensive and the excessive number of tracings is likely due to passing python objects instead of tensors. Also, tf.function has experimental_relax_shapes=True option that relaxes argument shapes that can avoid unnecessary retracing. Please refer to https://www.tensorflow.org/tutorials/customization/performance#python_or_tensor_args and https://www.tensorflow.org/api_docs/python/tf/function for more details.\n",
      "WARNING:tensorflow:7 out of the last 836 calls to <function Model.make_predict_function.<locals>.predict_function at 0x7fa7b565edc0> triggered tf.function retracing. Tracing is expensive and the excessive number of tracings is likely due to passing python objects instead of tensors. Also, tf.function has experimental_relax_shapes=True option that relaxes argument shapes that can avoid unnecessary retracing. Please refer to https://www.tensorflow.org/tutorials/customization/performance#python_or_tensor_args and https://www.tensorflow.org/api_docs/python/tf/function for more details.\n",
      "WARNING:tensorflow:8 out of the last 837 calls to <function Model.make_predict_function.<locals>.predict_function at 0x7fa7b565edc0> triggered tf.function retracing. Tracing is expensive and the excessive number of tracings is likely due to passing python objects instead of tensors. Also, tf.function has experimental_relax_shapes=True option that relaxes argument shapes that can avoid unnecessary retracing. Please refer to https://www.tensorflow.org/tutorials/customization/performance#python_or_tensor_args and https://www.tensorflow.org/api_docs/python/tf/function for more details.\n",
      "WARNING:tensorflow:9 out of the last 838 calls to <function Model.make_predict_function.<locals>.predict_function at 0x7fa7b565edc0> triggered tf.function retracing. Tracing is expensive and the excessive number of tracings is likely due to passing python objects instead of tensors. Also, tf.function has experimental_relax_shapes=True option that relaxes argument shapes that can avoid unnecessary retracing. Please refer to https://www.tensorflow.org/tutorials/customization/performance#python_or_tensor_args and https://www.tensorflow.org/api_docs/python/tf/function for more details.\n",
      "WARNING:tensorflow:10 out of the last 839 calls to <function Model.make_predict_function.<locals>.predict_function at 0x7fa7b565edc0> triggered tf.function retracing. Tracing is expensive and the excessive number of tracings is likely due to passing python objects instead of tensors. Also, tf.function has experimental_relax_shapes=True option that relaxes argument shapes that can avoid unnecessary retracing. Please refer to https://www.tensorflow.org/tutorials/customization/performance#python_or_tensor_args and https://www.tensorflow.org/api_docs/python/tf/function for more details.\n",
      "WARNING:tensorflow:11 out of the last 840 calls to <function Model.make_predict_function.<locals>.predict_function at 0x7fa7b565edc0> triggered tf.function retracing. Tracing is expensive and the excessive number of tracings is likely due to passing python objects instead of tensors. Also, tf.function has experimental_relax_shapes=True option that relaxes argument shapes that can avoid unnecessary retracing. Please refer to https://www.tensorflow.org/tutorials/customization/performance#python_or_tensor_args and https://www.tensorflow.org/api_docs/python/tf/function for more details.\n"
     ]
    },
    {
     "name": "stderr",
     "output_type": "stream",
     "text": [
      "100%|██████████| 10000/10000 [4:31:12<00:00,  1.63s/it] \n"
     ]
    }
   ],
   "source": [
    "sample_number = 10000\n",
    "sampled_smiles = generator.sample(num=sample_number)"
   ]
  },
  {
   "cell_type": "code",
   "execution_count": 21,
   "metadata": {},
   "outputs": [],
   "source": [
    "from rdkit import RDLogger, Chem, DataStructs\n",
    "from rdkit.Chem import AllChem, Draw, Descriptors\n",
    "from rdkit.Chem.Draw import IPythonConsole\n",
    "RDLogger.DisableLog('rdApp.*')"
   ]
  },
  {
   "cell_type": "markdown",
   "metadata": {},
   "source": [
    "The relative performance of model was evaluated:"
   ]
  },
  {
   "cell_type": "code",
   "execution_count": 22,
   "metadata": {},
   "outputs": [
    {
     "name": "stdout",
     "output_type": "stream",
     "text": [
      "Validity:  96.89%\n",
      "Uniqueness:  99.79%\n",
      "Originality:  99.01%\n"
     ]
    }
   ],
   "source": [
    "valid_mols = []\n",
    "for smi in sampled_smiles:\n",
    "    mol = Chem.MolFromSmiles(smi)\n",
    "    if mol is not None:\n",
    "        valid_mols.append(mol)\n",
    "# High validity\n",
    "print('Validity: ', f'{len(valid_mols) / sample_number:.2%}')\n",
    "\n",
    "valid_smiles = [Chem.MolToSmiles(mol) for mol in valid_mols]\n",
    "# high uniqueness\n",
    "print('Uniqueness: ', f'{len(set(valid_smiles)) / len(valid_smiles):.2%}')\n",
    "\n",
    "# Of valid smiles generated, how many are truly original vs ocurring in the training data\n",
    "import pandas as pd\n",
    "training_data = pd.read_csv('./datasets/all_smiles_clean.txt', header=None)\n",
    "training_set = set(list(training_data[0]))\n",
    "original = []\n",
    "for smile in valid_smiles:\n",
    "    if not smile in training_set:\n",
    "        original.append(smile)\n",
    "print('Originality: ', f'{len(set(original)) / len(set(valid_smiles)):.2%}')"
   ]
  },
  {
   "cell_type": "markdown",
   "metadata": {},
   "source": [
    "The relative performance of model was evaluated:\n",
    "\n",
    "**Validity**: of the total number of generated smiles, percentage that are actually valid smiles for molecules\n",
    "\n",
    "**Uniqueness**: of the total valid number of generated smiles, percentage that are not duplicates\n",
    "\n",
    "**Originality**: of the total number of valid generated smiles, percentage that are brand new creations that do not appear in the training data\n"
   ]
  },
  {
   "cell_type": "markdown",
   "metadata": {},
   "source": [
    "### Perform PCA to compare the generated molecules to the original molecules"
   ]
  },
  {
   "cell_type": "code",
   "execution_count": 23,
   "metadata": {},
   "outputs": [],
   "source": [
    "with open('./datasets/all_smiles_clean.txt') as f:\n",
    "    org_smiles = [l.rstrip() for l in f]\n",
    "\n",
    "org_mols = [mol for mol in [Chem.MolFromSmiles(smi) for smi in org_smiles] if mol is not None]"
   ]
  },
  {
   "cell_type": "code",
   "execution_count": 24,
   "metadata": {},
   "outputs": [],
   "source": [
    "Vfps = []\n",
    "for mol in valid_mols:\n",
    "    bv = AllChem.GetMACCSKeysFingerprint(mol)\n",
    "    fp = np.zeros(len(bv))\n",
    "    DataStructs.ConvertToNumpyArray(bv, fp)\n",
    "    Vfps.append(fp)\n",
    "\n",
    "Ofps = []\n",
    "for mol in org_mols:\n",
    "    bv = AllChem.GetMACCSKeysFingerprint(mol)\n",
    "    fp = np.zeros(len(bv))\n",
    "    DataStructs.ConvertToNumpyArray(bv, fp)\n",
    "    Ofps.append(fp)"
   ]
  },
  {
   "cell_type": "code",
   "execution_count": 25,
   "metadata": {},
   "outputs": [],
   "source": [
    "from sklearn.decomposition import PCA\n",
    "Vlen = len(Vfps)\n",
    "x = Vfps + Ofps\n",
    "pca = PCA(n_components=2, random_state=71)\n",
    "X = pca.fit_transform(x)"
   ]
  },
  {
   "cell_type": "code",
   "execution_count": 26,
   "metadata": {
    "scrolled": false
   },
   "outputs": [
    {
     "data": {
      "image/png": "[encoded data removed]",
      "text/plain": [
       "<Figure size 864x648 with 1 Axes>"
      ]
     },
     "metadata": {
      "needs_background": "light"
     },
     "output_type": "display_data"
    }
   ],
   "source": [
    "plt.figure(figsize=(12, 9))\n",
    "plt.scatter(X[Vlen:, 0], X[Vlen:, 1], c='w', edgecolors='k', label='original')\n",
    "plt.scatter(X[:Vlen, 0], X[:Vlen, 1], marker='x',c='r', label='generated')\n",
    "plt.xlabel('PC 1')\n",
    "plt.ylabel('PC 2')\n",
    "plt.legend();"
   ]
  },
  {
   "cell_type": "markdown",
   "metadata": {},
   "source": [
    "**Original and generated molecules are both in similar chemical space**\n",
    "\n",
    "In order to compare the generated molecules to the original molecules used for RNN training, 24 common physiochemical features for the data were calculated. PCA was performed on these 24 generated features from the training molecules, and the first two pricipal components (PC1, PC2) were selected. The coordinates of the generated molecules were transformed accordingly. Figure above shows that there is overlap in the chemical subspace between these two sets of molecules."
   ]
  },
  {
   "cell_type": "code",
   "execution_count": 27,
   "metadata": {},
   "outputs": [],
   "source": [
    "props = {\n",
    "    'MW': {\n",
    "        'generated': [Descriptors.ExactMolWt(mol) for mol in valid_mols],\n",
    "        'original': [Descriptors.ExactMolWt(mol) for mol in org_mols]        \n",
    "    }\n",
    "}"
   ]
  },
  {
   "cell_type": "code",
   "execution_count": 87,
   "metadata": {
    "scrolled": true
   },
   "outputs": [
    {
     "data": {
      "image/png": "[encoded data removed]",
      "text/plain": [
       "<Figure size 648x288 with 1 Axes>"
      ]
     },
     "metadata": {
      "needs_background": "light"
     },
     "output_type": "display_data"
    }
   ],
   "source": [
    "fig = plt.figure(figsize=(9, 4))\n",
    "\n",
    "ax1 = fig.add_subplot(1, 1, 1)\n",
    "ax1.violinplot([props['MW']['original'], props['MW']['generated']])\n",
    "ax1.set_xticks(ticks=[1, 2])\n",
    "ax1.set_xticklabels(labels=['original', 'generated'])\n",
    "ax1.set_title('MW')\n",
    "\n",
    "\n",
    "plt.tight_layout()"
   ]
  },
  {
   "cell_type": "markdown",
   "metadata": {},
   "source": [
    "Violin plots for molecular weight (MW) distributions. Visual inspection reveals a close match of the generated and original molecules.\n",
    "\n",
    "Molecular mass - Mass of a given molecule. Different molecules of the same compound may have different molecular masses because they contain different isotopes of an element.\n",
    "\n",
    "Violin plots are similar to box plots, except that they also show the probability density of the data at different values, usually smoothed by a kernel density estimator."
   ]
  },
  {
   "cell_type": "markdown",
   "metadata": {},
   "source": [
    "# 5. Use transfer learning to fine-tune model"
   ]
  },
  {
   "cell_type": "code",
   "execution_count": 29,
   "metadata": {},
   "outputs": [],
   "source": [
    "import numpy as np\n",
    "from sklearn.decomposition import PCA\n",
    "import matplotlib.pyplot as plt\n",
    "%matplotlib inline\n",
    "\n",
    "from rdkit import Chem, DataStructs\n",
    "from rdkit.Chem import AllChem, Draw\n",
    "from rdkit.Chem.Draw import IPythonConsole\n",
    "\n",
    "from lstm_chem.utils.config import process_config\n",
    "from lstm_chem.model import LSTMChem\n",
    "from lstm_chem.finetuner import LSTMChemFinetuner\n",
    "from lstm_chem.data_loader import DataLoader"
   ]
  },
  {
   "cell_type": "code",
   "execution_count": 30,
   "metadata": {
    "scrolled": true
   },
   "outputs": [
    {
     "name": "stdout",
     "output_type": "stream",
     "text": [
      "Loading model architecture from experiments/base_experiment/LSTM_Chem/model_arch.json ...\n"
     ]
    },
    {
     "name": "stderr",
     "output_type": "stream",
     "text": [
      "100%|██████████| 6/6 [00:00<00:00, 1891.03it/s]"
     ]
    },
    {
     "name": "stdout",
     "output_type": "stream",
     "text": [
      "Loading model checkpoint from experiments/base_experiment/LSTM_Chem/checkpoints/LSTM_Chem-baseline-model-full.hdf5 ...\n",
      "Loaded the Model.\n",
      "loading SMILES...\n",
      "done.\n",
      "tokenizing SMILES...\n",
      "done.\n",
      "Epoch 1/12\n"
     ]
    },
    {
     "name": "stderr",
     "output_type": "stream",
     "text": [
      "\n"
     ]
    },
    {
     "name": "stdout",
     "output_type": "stream",
     "text": [
      "WARNING:tensorflow:multiprocessing can interact badly with TensorFlow, causing nondeterministic deadlocks. For high performance data pipelines tf.data is recommended.\n",
      "5/6 [========================>.....] - ETA: 0s - loss: 1.6007WARNING:tensorflow:multiprocessing can interact badly with TensorFlow, causing nondeterministic deadlocks. For high performance data pipelines tf.data is recommended.\n",
      "6/6 [==============================] - 3s 525ms/step - loss: 1.6315\n",
      "Epoch 2/12\n",
      "WARNING:tensorflow:multiprocessing can interact badly with TensorFlow, causing nondeterministic deadlocks. For high performance data pipelines tf.data is recommended.\n",
      "5/6 [========================>.....] - ETA: 0s - loss: 1.2459WARNING:tensorflow:multiprocessing can interact badly with TensorFlow, causing nondeterministic deadlocks. For high performance data pipelines tf.data is recommended.\n",
      "6/6 [==============================] - 3s 498ms/step - loss: 1.2192\n",
      "Epoch 3/12\n",
      "WARNING:tensorflow:multiprocessing can interact badly with TensorFlow, causing nondeterministic deadlocks. For high performance data pipelines tf.data is recommended.\n",
      "5/6 [========================>.....] - ETA: 0s - loss: 1.0470WARNING:tensorflow:multiprocessing can interact badly with TensorFlow, causing nondeterministic deadlocks. For high performance data pipelines tf.data is recommended.\n",
      "6/6 [==============================] - 3s 506ms/step - loss: 1.0080\n",
      "Epoch 4/12\n",
      "WARNING:tensorflow:multiprocessing can interact badly with TensorFlow, causing nondeterministic deadlocks. For high performance data pipelines tf.data is recommended.\n",
      "5/6 [========================>.....] - ETA: 0s - loss: 0.9182WARNING:tensorflow:multiprocessing can interact badly with TensorFlow, causing nondeterministic deadlocks. For high performance data pipelines tf.data is recommended.\n",
      "6/6 [==============================] - 3s 529ms/step - loss: 0.8961\n",
      "Epoch 5/12\n",
      "WARNING:tensorflow:multiprocessing can interact badly with TensorFlow, causing nondeterministic deadlocks. For high performance data pipelines tf.data is recommended.\n",
      "5/6 [========================>.....] - ETA: 0s - loss: 0.7035WARNING:tensorflow:multiprocessing can interact badly with TensorFlow, causing nondeterministic deadlocks. For high performance data pipelines tf.data is recommended.\n",
      "6/6 [==============================] - 3s 499ms/step - loss: 0.7339\n",
      "Epoch 6/12\n",
      "WARNING:tensorflow:multiprocessing can interact badly with TensorFlow, causing nondeterministic deadlocks. For high performance data pipelines tf.data is recommended.\n",
      "5/6 [========================>.....] - ETA: 0s - loss: 0.6819WARNING:tensorflow:multiprocessing can interact badly with TensorFlow, causing nondeterministic deadlocks. For high performance data pipelines tf.data is recommended.\n",
      "6/6 [==============================] - 3s 476ms/step - loss: 0.6847\n",
      "Epoch 7/12\n",
      "WARNING:tensorflow:multiprocessing can interact badly with TensorFlow, causing nondeterministic deadlocks. For high performance data pipelines tf.data is recommended.\n",
      "5/6 [========================>.....] - ETA: 0s - loss: 0.5921WARNING:tensorflow:multiprocessing can interact badly with TensorFlow, causing nondeterministic deadlocks. For high performance data pipelines tf.data is recommended.\n",
      "6/6 [==============================] - 3s 465ms/step - loss: 0.6361\n",
      "Epoch 8/12\n",
      "WARNING:tensorflow:multiprocessing can interact badly with TensorFlow, causing nondeterministic deadlocks. For high performance data pipelines tf.data is recommended.\n",
      "5/6 [========================>.....] - ETA: 0s - loss: 0.5693WARNING:tensorflow:multiprocessing can interact badly with TensorFlow, causing nondeterministic deadlocks. For high performance data pipelines tf.data is recommended.\n",
      "6/6 [==============================] - 3s 503ms/step - loss: 0.5591\n",
      "Epoch 9/12\n",
      "WARNING:tensorflow:multiprocessing can interact badly with TensorFlow, causing nondeterministic deadlocks. For high performance data pipelines tf.data is recommended.\n",
      "5/6 [========================>.....] - ETA: 0s - loss: 0.5044WARNING:tensorflow:multiprocessing can interact badly with TensorFlow, causing nondeterministic deadlocks. For high performance data pipelines tf.data is recommended.\n",
      "6/6 [==============================] - 3s 548ms/step - loss: 0.4829\n",
      "Epoch 10/12\n",
      "WARNING:tensorflow:multiprocessing can interact badly with TensorFlow, causing nondeterministic deadlocks. For high performance data pipelines tf.data is recommended.\n",
      "5/6 [========================>.....] - ETA: 0s - loss: 0.4151WARNING:tensorflow:multiprocessing can interact badly with TensorFlow, causing nondeterministic deadlocks. For high performance data pipelines tf.data is recommended.\n",
      "6/6 [==============================] - 3s 523ms/step - loss: 0.4048\n",
      "Epoch 11/12\n",
      "WARNING:tensorflow:multiprocessing can interact badly with TensorFlow, causing nondeterministic deadlocks. For high performance data pipelines tf.data is recommended.\n",
      "5/6 [========================>.....] - ETA: 0s - loss: 0.4793WARNING:tensorflow:multiprocessing can interact badly with TensorFlow, causing nondeterministic deadlocks. For high performance data pipelines tf.data is recommended.\n",
      "6/6 [==============================] - 3s 500ms/step - loss: 0.4530\n",
      "Epoch 12/12\n",
      "WARNING:tensorflow:multiprocessing can interact badly with TensorFlow, causing nondeterministic deadlocks. For high performance data pipelines tf.data is recommended.\n",
      "5/6 [========================>.....] - ETA: 0s - loss: 0.3690WARNING:tensorflow:multiprocessing can interact badly with TensorFlow, causing nondeterministic deadlocks. For high performance data pipelines tf.data is recommended.\n",
      "6/6 [==============================] - 3s 487ms/step - loss: 0.3754\n"
     ]
    },
    {
     "data": {
      "text/plain": [
       "<tensorflow.python.keras.callbacks.History at 0x7fa6f3ce15b0>"
      ]
     },
     "execution_count": 30,
     "metadata": {},
     "output_type": "execute_result"
    }
   ],
   "source": [
    "config = process_config('experiments/base_experiment/LSTM_Chem/config.json')\n",
    "\n",
    "modeler = LSTMChem(config, session='finetune')\n",
    "finetune_dl = DataLoader(config, data_type='finetune')\n",
    "\n",
    "finetuner = LSTMChemFinetuner(modeler, finetune_dl)\n",
    "finetuner.finetune()"
   ]
  },
  {
   "cell_type": "code",
   "execution_count": 53,
   "metadata": {},
   "outputs": [],
   "source": [
    "# Generate 100 fine-tuned molecules\n",
    "finetuned_smiles = finetuner.sample(num=100) "
   ]
  },
  {
   "cell_type": "code",
   "execution_count": 64,
   "metadata": {},
   "outputs": [
    {
     "data": {
      "text/plain": [
       "['CCC(C(=O)NC(C)C)C(=O)NC(C)C(=O)NC(C)C(=O)NC(Cc1ccccc1)C(C)OC',\n",
       " 'Cc1cccc(CC(=O)O)c1CC1=COC(=O)C2OCC(OC(=O)NC(C(C)(C)C)C(Cc3ccccc3)NC1=O)C2N=C(N)N',\n",
       " 'CCc1cccc(C)c1C(=O)NC(Cc1ccccc1)C(O)CC(Cc1ccccc1)NC(=O)OC',\n",
       " 'CCC(CC)COC(=O)C(O)C(CCC(C)C)NC(=O)C(O)C(Cc1ccccc1)NC(=O)OC1COC2C(=O)CCC12',\n",
       " 'Cc1ccccc1C(=O)NC(CSc1ccccc1)C(=O)NC(C)C(=O)NC(C)C(=O)NC(CO)C(=O)NC(C(=O)NC(C(C)C)N1CCCCC1C(N)C(C)(C)C)C(C)C',\n",
       " 'CCC(NC(=O)C(O)COCc1ccccc1NC(Cc1ccccc1)NC(=O)OC)C(=O)NC(C)(C)C',\n",
       " 'CC(C)CN(CC(O)C(Cc1ccccc1)NC(=O)C(NC(=O)C(NC(=O)OC1COC2OCCC12)C(C)(C)C)C(C)(C)C)S(=O)(=O)c1ccccc1',\n",
       " 'Cc1cccc(C)c1-c1cnc2nc1N=CC=C2NC(C)(C)C',\n",
       " 'CC(C)c1nc(C(C#N)CC(=O)NC(CCc2ccccc2)C(O)CC(CN(C)C)C(Cc2ccccc2)NC(=O)OCc2ccccc2)cs1',\n",
       " 'Cc1cccc(C)c1CNC(C(=O)NC(O)C(CC(=O)O)NC(=O)OC=C1COC2OC3C1CCC3C2CS(=O)(=O)N1CCC=CC1c1ccccc1)C(C)C',\n",
       " 'CC(C)CN(CC(CS(C)(=O)=O)C(Cc1ccccc1)NC(=O)OC1COC2OOCC12)C(=O)OCC(O)C(C)C',\n",
       " 'COC(=O)NC(CC(CC(C)C)NC(=O)OCc1cccnc1)C(=O)NC1=CC=CC(C)=CC=C1O',\n",
       " 'CC(=O)NC(C)CC(C(=O)NC(CC(=O)O)C(=O)NC(C(=O)NC(Cc1ccccc1)c1ccccc1)C(C)(C)C)C(C)C',\n",
       " 'CC(C)C(=O)NC(OC=CC=CO)C(=O)NC(C(=O)NC(Cc1ccccc1)C(C(=O)NC(O)Cc1cccnc1S)C(C)C)C(C)C(=O)O',\n",
       " 'COC(=O)NC(Cc1ccccc1)C(O)CC(C(=O)NCc1ccccc1)c1ccccc1C',\n",
       " 'CC(C)c1nc(C(NC(=O)C(O)CC(Cc2ccccc2)NC(=O)C(NC(=O)OC2CC3C(CC4CCCCC43)C2=O)C(C)C)C(N)=O)cs1',\n",
       " 'Cc1cccc(C(CNC(Cc2ccccc2)NC(=O)OCC2CC2)Oc2ccccc2)c1NC(=O)NC(CC(C)C)C(O)C(NC(=O)OC(C)(C)C)C(C)(C)C',\n",
       " 'CC(C)C(NC(=O)OC1COC2C(=O)OCC12)C(NC(=O)O)C(=O)NC(Cc1ccccc1)C(CNC(=O)C(C(=O)NC(C)(C)C)C(C)(C)C)C(NC(=O)OCc1ccccc1)C(C)(C)C',\n",
       " 'CC(C)CC(NC(=O)C(NC(=O)OC(C)(C)C)C(C)(C)C)C(=O)NC(CC(Cc1ccccc1)C1CCCCC1)C(=O)O',\n",
       " 'Cc1cccc(C(CN2CCCCC2=O)NC(=O)C(O)C(NC(=O)C(NC(=O)C(O)C(CC2=CC=C=C2)NC(=O)OC2COC3CCCCC3C2=O)C(C)C)C(C)C)c1O',\n",
       " 'CCCCC(=O)NC(O)C(=Cc1ccccc1)NC(=O)C(NC(=O)C(NC(=O)OC)C(C)C)C(Cc1ccccc1)NC(=O)C(NC(=O)OC(C)(C)C)C(C)C',\n",
       " 'Cc1ccc(C(Cc2ccccc2)NC(=O)C(CC(C)C)NC2=CC=C(Sc3ccccc3)C(=O)NC(C(C)C)N2C)c(O)c1C',\n",
       " 'Cc1cccc(C)c1C(O)CN1CC2CCCCC2CC1C(=O)NC(C)(C)C',\n",
       " 'CC(C)CN1C=CC=CNC(=O)C(C)NC(=O)S(=O)(=O)CN(C(=O)C(NC(=O)C2C=CC=CC2)C(C)(C)C)CC1',\n",
       " 'Cc1cccc(C)c1OCC(=O)NC(CCc1ccc(O)nc1)NCC(=O)NC(c1ccccc1)C(C)C',\n",
       " 'Cc1ccccc1C(=O)NC(CC(Cc1ccccc1)NC(=O)OCc1ccccc1)CS(=O)(=O)NP(=O)(O)OCC1CC2CCCCC2CCC1=O',\n",
       " 'CC(C)(C)C(=O)N(CC(N=C(N)N)C(C)(C)C)C(=O)NC(C(=O)O)C(Cc1ccccc1)NC(=O)OCc1ccccc1',\n",
       " 'CCCCCCC(=O)N(C)C(CC(C)(C)C)C(=O)NC(C)C(=O)NC(C(=O)NC(C(=O)NC(CC(C)O)C(O)C(C)O)C(C)C)C(C)C',\n",
       " 'CC(C)c1nc(C(=O)NC(O)CC(Cc2ccccc2)NC(=O)C(NC(=O)C(NC(=O)OC2CC2C(CC2CC2)C(C)N2CCCCC2C)C(C)C)C(C)C)cs1',\n",
       " 'CCC(C(=O)NC(C#N)C(C)(C)c1ccccn1)C(=O)NC(C)(C)C',\n",
       " 'COC(=O)NC(C(=O)NC(C(=O)NC(Cc1ccccc1)C(O)CN(CC(C)C)S(C)(=O)=O)C(C)C)C(Cc1ccccc1)NC(=O)OC1COC2C3CCCCC3C2C1',\n",
       " 'CC(C)C1=NN(CC=C(C#N)C(=O)NC(C)(C)C)OC(=O)NC(C(C)C)C(=O)NC(Cc2ccccc2)C(Cc2ccccc2)NC(=O)C(C(C)C)NC(=O)OC2CC2CC1',\n",
       " 'CCC(C)C(OCC(=O)NC(Cc1ccccc1)C(O)CC(C=Cc1ccccc1)NC(=O)OCC1CCCCC1)C(=O)NC(C)C',\n",
       " 'CC(C)CN(CC(O)C(Cc1ccccc1)NC(=O)C(NC(=O)OC1COC2C(=O)CCC12)C(C)C)S(=O)(=O)c1ccccc1',\n",
       " 'CC1=C(C(O)CC(O)CC(Cc2ccccc2)NC(=O)OCC2CCCCC2)C(=NC#N)NC1=O',\n",
       " 'CCC(=CC(O)C(O)=CC=CC=C1C=Cc2ccccc2NC(C)(C)C(=O)N(O)c2ccccc2O1)CC',\n",
       " 'COC(=O)NC(CN1CCCCC1C(=O)NC(C(=O)OCc1ccccc1)C(C)C)C(Cc1ccccc1)NC(=O)C(O)C(C)(C)C',\n",
       " 'CCC(CC)(OCC(C)C)C(=O)NC(CC(=O)O)C(=O)NC(CC(C)C)C(=O)NC(CC(=O)O)C(=O)NC(C)C(=O)O',\n",
       " 'CC(C)C(NC(=O)OCCO)C(=O)NC(NC(=O)C(C)(C)C)C(=Cc1ccccc1)NC(=O)OCC(O)Cc1ccccc1',\n",
       " 'CC(C)C(=O)NC(O)C(=O)NC(Cc1ccccc1)NC(Cc1ccccc1)C(O)C[SH](=O)(O)OC1CC2CC3CC(CC3C1)O2',\n",
       " 'COC(=O)NC(C(C)C)C(C(C)C)C(Cc1ccccc1)NC(=O)C(NC(=O)C(C)C)C(C)Cc1ccc(CS2(NC(=O)OC)CS(=O)(=O)C2=O)cc1',\n",
       " 'CCC(C(=O)NC(CC(C)C)C(=O)NC(CC(C)C)C(=O)OC)C(=O)NC(C)c1ccccc1',\n",
       " 'COC(NC(=O)[SH]1C(=O)ON2CC(C(C)C)C(=O)OCC(CS)OC(=O)NC(C(C)(C)C)COC(=O)NC(Cc3ccccn3)C2NC(=O)C(C#N)C(=O)C1NC(=O)C(C)(C)C)C(C)(C)C',\n",
       " 'CC1CCC(C(=O)NC(CS(C)(=O)=O)C(=O)NC(Cc2ccccc2)C(O)C(NC(C)C)C(C)C)C(C)C1',\n",
       " 'CC(C)c1cccc(C(NCc2ccccc2)NC(=O)C(NC(=O)C(NC(=O)OC(C)(C)C)C(C)C)C(C)(C)C)n1',\n",
       " 'CC(C)CN(CC(=O)NC(CC(CC1CCCCC1)C(=O)O)C(=O)C(O)C(NC(=O)OC(C)(C)C)C(C)C)NS(=O)(=O)C(O)CC(Cc1ccccc1)NC(=O)OC1COC2CCCCC2C1=O',\n",
       " 'CC(C)(C)C(OCC=CC=CC(O)Nc1ccccc1)C(=O)NC(CC1=CC=C[SH]=C1)C(CC(=O)NC(C[SH](C)(=O)O)C(=O)O)Cc1ccccc1',\n",
       " 'CC(C)c1nc(C(NC(=O)NC(Cc2ccccc2)C(O)CN2CC3CCCCC3CC2C(=O)NC(C)(C)C)C(C)(C)C)csc1=O',\n",
       " 'NC(=O)C(OC(N)C(CC1=CC=C1)NC(=O)OC1COC2C(=O)OCC(c3ccccc3)C12)C(Cc1ccccc1)NC(=O)OC1COC2CCC21',\n",
       " 'CC(C)CN(CC(O)C(NC(=O)OC1COC2CCC21)C1CC1)S(=O)(=O)c1cccnc1',\n",
       " 'CC(NC(C(NC1CN(C(C)C)S(=O)C(=O)O1)C(Cc1ccccc1)NC(=O)C(NC(=O)C(NC(=O)OC(C)(C)C)C(C)C)C(C)(C)C)C(C)(C)C)C(=O)O',\n",
       " 'CC(C)CN(CC1ON=CC(C)(Cc2ccccc2)C(=O)NC1Cc1ccccc1)NC(=O)OC1COC2C(=O)CCC12',\n",
       " 'CC(C)C(NC(=O)C(O)CC(C(C)C)N1CCOCC1C(=O)O)C(=O)NC(C(=O)NC(C(=O)NC1=CCC=C(O)C1(C)C(=O)NC(C)(C)C)C(C)C)C(C)C',\n",
       " 'CC(C)(CO)CN(CC(O)C(Cc1ccccc1)NC(=O)OC1COC2OCCC12)S(=O)(=O)c1ccccc1',\n",
       " 'Cc1cccc(C)c1C(NC(=O)C(NC(=O)C(NC(=O)OC1C=CC=CC=C2CC1CC(C(C)(C)C)O2)C(C)C)C(C)C)C(=O)NC(C)(C)CO',\n",
       " 'CC(C)CN(CC(O)C(Cc1ccccc1)NC(=O)OC1COC2OCCC12)S(=O)(=O)c1ccccc1',\n",
       " 'CC(C)CC(NC(=O)CNC(=O)C(C)NC(=O)C(C(=O)N(CC(=O)NC(C)(C)C)C(=O)C(C)C)C(C)C)C(=O)O',\n",
       " 'CC(C)CN(O)CC(O)C(Cc1ccccc1)NC(=O)C(NC(=O)OC1COC2OCCC12)C(O)CO',\n",
       " 'CC(C)CN(CC(O)C(Cc1ccccc1)NC(=O)OC1COC2OCCC12)S(=O)(=O)c1ccccc1',\n",
       " 'COC(=O)NC(Cc1ccccc1)C(O)C(Cc1ccccc1)NC(=O)OC(C(=O)NC(Cc1ccccc1)C(CO)C(=O)NC(C(=O)O)C(C)C)C(C)(C)C',\n",
       " 'CC(C)CN(CC(NS(=O)(=O)c1ccccc1)C(Cc1ccccc1)NC(=O)OC1COC2OCCC12)c1ccccc1',\n",
       " 'CC(O)C(NC(=O)OC1COC2OCCC12)C(Cc1ccccc1)NC(=O)C(Cc1ccccc1)NC(=O)C(O)C(C)(C)C',\n",
       " 'Cc1cccc(C)c1C(O)CN1CCCCC1C(=O)NC(C)(C)C(=O)NC(C)(C)C',\n",
       " 'CC(C)C(=O)NC(O)C(=O)NC(Cc1ccccc1)C(COc1ccccc1)NCC(=O)OCCO',\n",
       " 'CCC(C)CN(C)C(=O)C(C)C(=O)NC(CC(C)C)C(=O)NC(CC(=O)O)C(=O)NC(CC(C)C)C(=O)O',\n",
       " 'Cc1cccc(C(O)CC(Cc2ccccc2)NC(=O)OC(C)(C)C)c1C(O)C(Cc1ccccc1)NC(=O)C(Cc1ccccc1)NC(=O)OC(C)(C)C',\n",
       " 'Cc1cccc(C)c1OCC(=O)NC(COc1ccccc1)C(NC(=O)C(NC(=O)C(NC(=O)OC1CC2CC=CCN2C1=O)C(C)C)C(C)C)C(N)=O',\n",
       " 'CC(C)CC(NC(=O)N(C)Cc1csc(C(C)C)n1)C(=O)NC(CSc1ccccc1)C(O)C(CC1=CC=C1)NC(=O)C(NC(=O)OC(C)(C)C)C(C)C',\n",
       " 'CC(C)CN(CC(O)C(Cc1ccccn1)NC(=O)OC1COC2C1CCC1C(=O)OC12)C(=O)C(c1ccccc1)C(C)C',\n",
       " 'Cc1cccc(C)c1C(O)C(=O)NC(C(C)C)N(Cc1ccccc1)C(=O)NC(Cc1ccccc1)C(C(C)C)N(C)c1ccccc1',\n",
       " 'CCC(OC(=O)CN=CC(Cc1ccccc1)NC(=O)C(NC(=O)OC)C(C)C)C(C)C',\n",
       " 'CC(C)CN(CC1OOC(=O)C2OCC(OC(=O)NC1Cc1ccccc1)O2)S(C)(=O)=O',\n",
       " 'COC(=O)NC(CCc1ccccc1)C(O)NC(=O)C(NC(=O)OC1COC2OCCC12)C(C)C',\n",
       " 'CC(C)(C)NC(=O)C1CC2CCCCC2CN1CC(O)C(Cc1ccccc1)NC(=O)C(Cc1ccccc1)NC(=O)C(C)(C)C',\n",
       " 'CCCCC(CC(C)C)C(=O)NC(C(=O)NC(C#N)C(C)(C)C(=O)NC(C(C)C)C(N)CN)C(C)C',\n",
       " 'CC(C)CN(CC(O)C(Cc1ccccc1)NC(=O)C(NC(=O)OC1COC2OC3CCCCC3CC2C1=O)C(C)C)S(=O)(=O)c1ccccc1',\n",
       " 'CC(C)CC(NC(=O)N(CC(=O)NC(C)(C)C)C(=O)C(C)C)C(=O)NC(CC(=O)O)C(=O)NC(CC(=O)O)C(=O)NC(CCC(C)(C)C)NC(=O)OCC(C(C)C)N(C)C',\n",
       " 'CC(C)c1nc(CC(=O)NC(CS)C(Cc2ccccc2)NC(=O)C(NC(=O)C(O)C(Cc2ccccc2)NC(=O)C(NC(=O)OC(C)(C)C)C(C)C)C(C)C)cs1',\n",
       " 'Cc1cccc(C(=O)NC(C)(Cc2ccccc2)NC(=O)C(OC(=O)C(NC(=O)N(C)C(=O)NC(C)(C)C)C(C)C)C(C)C)c1O',\n",
       " 'COC1(C)CCCC1(C)COC(=O)NC(C(=O)OCC(C)C)C(Cc1ccccc1)NC(=O)OC1COC2C(C(Cc3ccccc3)NC(=O)OC(C)(C)C)CC12',\n",
       " 'CCCC(CC(CCC1C(=O)C=C1C#N)NC(=O)OC1CCCCC1)C(=O)NC(CS)C(=O)NC(C)(C)C',\n",
       " 'CC(C)c1cccc(C(=O)NC(C)(C)C(=O)NC(CS(C)(=O)=O)C(=O)NC(C(=O)O)C(C)C)n1',\n",
       " 'CC(C)c1nc(CN(C)C(=O)NC(CS(C)(=O)=O)C(=O)NC(Cc2ccccc2)CN(C)C(=O)N(C)C)cs1',\n",
       " 'CNC(=O)C(CC(=O)O)NC(=O)C(CS)NC(=O)C(CC(=O)OCC(=O)NC(C)(C)C)NC(=O)C(NC(=O)C(CC(C)C)NC(=O)C(NC(=O)C(C(=O)C=C(C)C)C(C)C)C(C)C)C(C)C',\n",
       " 'CCC(CC)C(=O)NC(C(=O)NC(C[SH](=O)(OCC1CCCCC1)OC(C)C)OCO)C(C)C',\n",
       " 'CC(=O)N(CC(=O)NC(C)(C)C)C(=O)C(=O)NC(C(=O)NC(CC(C)C)C(=O)NO)C(C)C',\n",
       " 'CC(NC(=O)Cc1csc(C(C)C)n1)C(=O)NC(O)Cc1ccc(C(NC(=O)OCc2ccccc2)C(C)(C)C)nc1',\n",
       " 'CC1=C2NC(=O)C(C(C)C)NC(=O)C(C(C)C)NC(=O)OC(CC3CCC3c3ccccc3)C3=CC=CC=CC(=CC=C2C(=O)NC3CSc2ccccc2)C(C)(C)CCC(C(C)C)C1=O',\n",
       " 'COC(=O)C(NC(=O)C(C(C)C)C(O)NC(=O)C(Cc1ccccc1)NC(=O)c1csc(C(C)C)n1)C(C)C',\n",
       " 'CCC(C(=O)N(C)C)N(C)[SH](=O)(CC(C)(C)C)NC(=O)C(CC(C)C)NC(=O)C(=CO)C(C)C',\n",
       " 'CN1C(=O)OC(C(C)(C)C)C(Cc2ccccc2)NC(=O)OC2C=CC=CC=C(OC2)C1=O',\n",
       " 'CC(=CC1=CC=CC=CC1=COC(OC(C)(C)C)C(N)=O)OC(=O)C(c1ccccc1)C(C)C',\n",
       " 'COC(=O)NN(Cc1ccc(-c2ccccc2)cc1)CC(C)C(Cc1ccc(C(C#N)C(=O)O)ccc1=O)NC(=O)C(C)(C)C',\n",
       " 'CCCCC(C)C(=O)NC(OC(=O)C#CCN(C)C)C(=O)NC(O)C[SH](=O)(CC(C)(C)C=O)NC(=O)OC(C)(C)C',\n",
       " 'Cc1ccccc1NC(=O)C(O)CC(=O)NC(CC(=O)NC(CC(C)C)C(=O)NC(COC(C)C)Cc1ccccc1)Cc1ccccc1',\n",
       " 'Cc1ccccc1[SH](C)(=O)NC(=O)C(OC(=O)N1CC2CCCCC2CC1CC=CC=C1CC2CCCCC2C1=O)C(NC(=O)C1(C)c2ccccc2N1C)C(C)(C)C',\n",
       " 'COC(=O)NC(C(=O)NC(NC(Cc1ccccc1)NC(=O)C(O)NC(=O)C(C)CC(=O)Oc1c(C)cccc1C)C(C)C)C(C)C',\n",
       " 'CCC(=O)NC(CC(C)C)C(=O)NC(CC(C)C)C(=O)NC(C)(C)C(=O)NC(CC(C)C)C(=O)NC(CC(C)C)C(=O)O',\n",
       " 'Cc1c(N)cccc1C(=O)NC(Cc1ccccc1)C(=O)N(CC1=CC=C2CNC=C1C2=O)NCC(=O)NC(C(=O)NC(C)C(C)O)C(C)C',\n",
       " 'CC(C)COC(=O)C(C)NC(=O)C(C(=O)NC(CSC(CC(=O)O)C(=O)N(CCc1ccccc1)CC(C)C)C(CN1CC2CCCCC2CC1C(=O)O)=C(C#N)c1ccccc1)C(C)C']"
      ]
     },
     "execution_count": 64,
     "metadata": {},
     "output_type": "execute_result"
    }
   ],
   "source": [
    "finetuned_smiles"
   ]
  },
  {
   "cell_type": "code",
   "execution_count": 65,
   "metadata": {},
   "outputs": [],
   "source": [
    "# Save fine-tuned smiles\n",
    "with open('./generations/finetuned_smiless.txt', 'w') as f:\n",
    "    for item in finetuned_smiles:\n",
    "        f.write(\"%s\\n\" % item)"
   ]
  },
  {
   "cell_type": "markdown",
   "metadata": {},
   "source": [
    "### Compare generated molecules to the known protease inhibitors using Tanimoto similarity."
   ]
  },
  {
   "cell_type": "code",
   "execution_count": 66,
   "metadata": {},
   "outputs": [],
   "source": [
    "# Selected training molecules\n",
    "\n",
    "with open('./datasets/protease_inhibitors_for_fine-tune.txt') as f:\n",
    "    fsmiles = [l.rstrip() for l in f]\n",
    "fmols = [Chem.MolFromSmiles(smi) for smi in fsmiles]\n",
    "\n",
    "Fbvs = []\n",
    "for mol in fmols:\n",
    "    bv = AllChem.GetMACCSKeysFingerprint(mol)\n",
    "    Fbvs.append(bv)"
   ]
  },
  {
   "cell_type": "code",
   "execution_count": 67,
   "metadata": {},
   "outputs": [],
   "source": [
    "# Fine-tuned SMILES\n",
    "\n",
    "Sbvs, smols = [], []\n",
    "for smi in finetuned_smiles:\n",
    "    mol = Chem.MolFromSmiles(smi)\n",
    "    smols.append(mol)\n",
    "    \n",
    "    bv = AllChem.GetMACCSKeysFingerprint(mol)\n",
    "    Sbvs.append(bv)"
   ]
  },
  {
   "cell_type": "code",
   "execution_count": 68,
   "metadata": {},
   "outputs": [],
   "source": [
    "idxs = []\n",
    "for Fbv in Fbvs:\n",
    "    idx = np.argmax(DataStructs.BulkTanimotoSimilarity(Fbv, Sbvs))\n",
    "    idxs.append(idx)\n",
    "nsmols = [smols[idx] for idx in idxs]"
   ]
  },
  {
   "cell_type": "code",
   "execution_count": 69,
   "metadata": {},
   "outputs": [
    {
     "data": {
      "text/plain": [
       "[51, 73, 24, 8, 55, 36]"
      ]
     },
     "execution_count": 69,
     "metadata": {},
     "output_type": "execute_result"
    }
   ],
   "source": [
    "idxs"
   ]
  },
  {
   "cell_type": "code",
   "execution_count": 70,
   "metadata": {},
   "outputs": [
    {
     "data": {
      "text/plain": [
       "['CC(C)CN(CC1ON=CC(C)(Cc2ccccc2)C(=O)NC1Cc1ccccc1)NC(=O)OC1COC2C(=O)CCC12',\n",
       " 'CC(C)(C)NC(=O)C1CC2CCCCC2CN1CC(O)C(Cc1ccccc1)NC(=O)C(Cc1ccccc1)NC(=O)C(C)(C)C',\n",
       " 'Cc1cccc(C)c1OCC(=O)NC(CCc1ccc(O)nc1)NCC(=O)NC(c1ccccc1)C(C)C',\n",
       " 'CC(C)c1nc(C(C#N)CC(=O)NC(CCc2ccccc2)C(O)CC(CN(C)C)C(Cc2ccccc2)NC(=O)OCc2ccccc2)cs1',\n",
       " 'CC(C)CN(CC(O)C(Cc1ccccc1)NC(=O)OC1COC2OCCC12)S(=O)(=O)c1ccccc1',\n",
       " 'COC(=O)NC(CN1CCCCC1C(=O)NC(C(=O)OCc1ccccc1)C(C)C)C(Cc1ccccc1)NC(=O)C(O)C(C)(C)C']"
      ]
     },
     "execution_count": 70,
     "metadata": {},
     "output_type": "execute_result"
    }
   ],
   "source": [
    "generated_finetuned_smiles = [finetuned_smiles[i] for i in idxs]\n",
    "generated_finetuned_smiles"
   ]
  },
  {
   "cell_type": "code",
   "execution_count": 71,
   "metadata": {},
   "outputs": [],
   "source": [
    "# save generated SMILES\n",
    "\n",
    "with open('./generations/gen0_smiles.txt', 'w') as f:\n",
    "    for item in generated_finetuned_smiles:\n",
    "        f.write(\"%s\\n\" % item)"
   ]
  },
  {
   "cell_type": "code",
   "execution_count": 72,
   "metadata": {},
   "outputs": [],
   "source": [
    "showmols = []\n",
    "for i, j in zip(fmols, nsmols):\n",
    "    showmols.append(i)\n",
    "    showmols.append(j)"
   ]
  },
  {
   "cell_type": "code",
   "execution_count": 73,
   "metadata": {
    "scrolled": false
   },
   "outputs": [
    {
     "data": {
      "image/png": "[encoded data removed]",
      "text/plain": [
       "<PIL.PngImagePlugin.PngImageFile image mode=RGB size=400x1200 at 0x7FA6F2600430>"
      ]
     },
     "execution_count": 73,
     "metadata": {},
     "output_type": "execute_result"
    }
   ],
   "source": [
    "# Labels\n",
    "labelList = ['Remdesivir', 'Generated 1',\n",
    "             'Nelfinavir','Generated 2', \n",
    "             'Lopinavir','Generated 3',\n",
    "             'Ritonavir','Generated 4',\n",
    "             'Darunavir','Generated 5',\n",
    "             'Atazanavir', 'Generated 6']\n",
    "\n",
    "# Display molecules with labels\n",
    "Draw.MolsToGridImage(showmols, molsPerRow=2, legends=[label for label in labelList])"
   ]
  },
  {
   "cell_type": "markdown",
   "metadata": {},
   "source": [
    "Figure above shows the generated structures with highest Tanimoto similarity to the known protease inhibitors.\n",
    "\n",
    "The six potential protease inhibitors of COVID-19 used to fine-tune the RNN model are shown on the left. The respective generated molecule with highest Tanimoto similarity (nearest neighbor) is shown on the right of every reference compound.\n",
    "\n",
    "The Tanimoto coefficient T is the most popular similarity measure for comparing chemical structures represented by means of fingerprints."
   ]
  },
  {
   "cell_type": "markdown",
   "metadata": {},
   "source": [
    "# 6. Use PyRx to get binding scores of molecules with SARS-CoV-2 main protease"
   ]
  },
  {
   "cell_type": "markdown",
   "metadata": {},
   "source": [
    "### Docking procedure with PyRx:\n",
    "Download here: https://pyrx.sourceforge.io\n",
    "\n",
    "PyRX ligand docking tutorial https://www.youtube.com/watch?v=2t12UlI6vuw\n",
    "\n",
    "1. Open the structure of the protein and ligand complex (.cif crystallographic information file) https://www.rcsb.org/3d-view/6LU7\n",
    "2. Select the ligand chain, delete the ligand, and save the file as a .pdb\n",
    "3. Process generated SMILES and save it as .sdf file\n",
    "4. Follow the video tutorial to get binding scores and save it as a csv file"
   ]
  },
  {
   "cell_type": "markdown",
   "metadata": {},
   "source": [
    "## Process SMILES for PyRx Analysis"
   ]
  },
  {
   "cell_type": "code",
   "execution_count": 74,
   "metadata": {},
   "outputs": [],
   "source": [
    "import pandas as pd\n",
    "from rdkit import Chem, DataStructs\n",
    "import random\n",
    "import numpy as np\n",
    "import rdkit.Chem.PropertyMol"
   ]
  },
  {
   "cell_type": "code",
   "execution_count": 75,
   "metadata": {},
   "outputs": [
    {
     "data": {
      "text/plain": [
       "6"
      ]
     },
     "execution_count": 75,
     "metadata": {},
     "output_type": "execute_result"
    }
   ],
   "source": [
    "gen0_table = pd.read_csv('./generations/gen0_smiles.txt',sep=',', header=None)\n",
    "gen0 = list(gen0_table[0])\n",
    "len(gen0)"
   ]
  },
  {
   "cell_type": "code",
   "execution_count": 76,
   "metadata": {},
   "outputs": [],
   "source": [
    "def validate_mols(list_of_smiles):\n",
    "    valid_mols = []\n",
    "    for smi in list_of_smiles:\n",
    "        mol = Chem.MolFromSmiles(smi)\n",
    "        if mol is not None:\n",
    "            valid_mols.append(mol)\n",
    "    return valid_mols\n",
    "\n",
    "def convert_mols_to_smiles(list_of_mols):\n",
    "    valid_smiles = [Chem.MolToSmiles(mol) for mol in list_of_mols]\n",
    "    return valid_smiles"
   ]
  },
  {
   "cell_type": "code",
   "execution_count": 77,
   "metadata": {},
   "outputs": [
    {
     "data": {
      "text/plain": [
       "6"
      ]
     },
     "execution_count": 77,
     "metadata": {},
     "output_type": "execute_result"
    }
   ],
   "source": [
    "gen0_mols = validate_mols(gen0)\n",
    "len(gen0_mols)"
   ]
  },
  {
   "cell_type": "code",
   "execution_count": 78,
   "metadata": {},
   "outputs": [
    {
     "data": {
      "text/html": [
       "<div>\n",
       "<style scoped>\n",
       "    .dataframe tbody tr th:only-of-type {\n",
       "        vertical-align: middle;\n",
       "    }\n",
       "\n",
       "    .dataframe tbody tr th {\n",
       "        vertical-align: top;\n",
       "    }\n",
       "\n",
       "    .dataframe thead th {\n",
       "        text-align: right;\n",
       "    }\n",
       "</style>\n",
       "<table border=\"1\" class=\"dataframe\">\n",
       "  <thead>\n",
       "    <tr style=\"text-align: right;\">\n",
       "      <th></th>\n",
       "      <th>id</th>\n",
       "      <th>gen</th>\n",
       "      <th>smile</th>\n",
       "      <th>source</th>\n",
       "      <th>score</th>\n",
       "    </tr>\n",
       "  </thead>\n",
       "  <tbody>\n",
       "  </tbody>\n",
       "</table>\n",
       "</div>"
      ],
      "text/plain": [
       "Empty DataFrame\n",
       "Columns: [id, gen, smile, source, score]\n",
       "Index: []"
      ]
     },
     "execution_count": 78,
     "metadata": {},
     "output_type": "execute_result"
    }
   ],
   "source": [
    "master_table = pd.read_csv('./generations/master_results_table.csv',sep=',')\n",
    "master_table"
   ]
  },
  {
   "cell_type": "code",
   "execution_count": 79,
   "metadata": {},
   "outputs": [
    {
     "data": {
      "text/plain": [
       "'AAAB'"
      ]
     },
     "execution_count": 79,
     "metadata": {},
     "output_type": "execute_result"
    }
   ],
   "source": [
    "'''Certainly not opimized and not strictly necessary, but in the PyRx GUI\n",
    "molecule names would sort oddly when in any numeric order, so ordering\n",
    "molcules by a four letter code. This function iterates the four letter code.'''\n",
    "def iterate_alpha(alpha_code):\n",
    "    numbers = []\n",
    "    for letter in alpha_code:\n",
    "        number = ord(letter)\n",
    "        numbers.append(number)\n",
    "    \n",
    "    if numbers[3]+1 > 90:\n",
    "        if numbers[2]+1 > 90:\n",
    "            if numbers[1]+1 > 90:\n",
    "                if numbers[0]+1 > 90:\n",
    "                    raise ValueError('Too long for alpha code')\n",
    "                else:\n",
    "                    numbers[3] = 65\n",
    "                    numbers[2] = 65\n",
    "                    numbers[1] = 65\n",
    "                    numbers[0] = numbers[0] + 1\n",
    "            else:\n",
    "                numbers[3] = 65\n",
    "                numbers[2] = 65\n",
    "                numbers[1] = numbers[1] + 1\n",
    "        else:\n",
    "            numbers[3] = 65\n",
    "            numbers[2] = numbers[2] + 1\n",
    "    else:\n",
    "        numbers[3] = numbers[3] + 1\n",
    "    \n",
    "\n",
    "    new_code = \"\"\n",
    "    for number in numbers:\n",
    "        new_code += chr(number)\n",
    "    return new_code\n",
    "iterate_alpha('AAAA')"
   ]
  },
  {
   "cell_type": "code",
   "execution_count": 80,
   "metadata": {},
   "outputs": [],
   "source": [
    "def append_to_tracking_table(master_table,mols_to_append, source, generation):\n",
    "    # Assign IDs for tracking to each mol, and assign a pandas table entry for each\n",
    "    mols_to_export = []\n",
    "    rows_list = []\n",
    "    \n",
    "    master_table_gen = master_table[master_table['gen'] == generation]\n",
    "    if master_table_gen.shape[0] == 0:\n",
    "        id_code = 'AAAA'\n",
    "    else:\n",
    "        master_table_gen_ids = master_table_gen.sort_values('id', ascending=True)\n",
    "        master_table_gen_max_id = master_table_gen_ids.tail(1)\n",
    "        key = master_table_gen_max_id['id'].keys()[0]\n",
    "        id_code = iterate_alpha(str(master_table_gen_max_id['id'][key]))\n",
    "        \n",
    "    \n",
    "    for mol in mols_to_append:\n",
    "        pm = Chem.PropertyMol.PropertyMol(mol)\n",
    "        title = 'id' + str(id_code) + 'gen'+ str(generation)\n",
    "        print(title)\n",
    "        # Enables for tracking which molecule is which in PyRx GUI and PyRx results export\n",
    "        pm.SetProp('Title', title)\n",
    "        mols_to_export.append(pm)\n",
    "\n",
    "        #And track in pandas\n",
    "        mol_dict = {}\n",
    "        mol_dict['id'] = id_code\n",
    "        mol_dict['gen'] = generation\n",
    "        smile = Chem.MolToSmiles(mol)\n",
    "        assert type(smile) == type('string')\n",
    "        mol_dict['smile'] = smile\n",
    "\n",
    "        rows_list.append(mol_dict)\n",
    "        id_code = iterate_alpha(id_code)\n",
    "        \n",
    "    df = pd.DataFrame(rows_list)\n",
    "    return df, mols_to_export"
   ]
  },
  {
   "cell_type": "code",
   "execution_count": 81,
   "metadata": {},
   "outputs": [
    {
     "name": "stdout",
     "output_type": "stream",
     "text": [
      "idAAAAgen0\n",
      "idAAABgen0\n",
      "idAAACgen0\n",
      "idAAADgen0\n",
      "idAAAEgen0\n",
      "idAAAFgen0\n"
     ]
    },
    {
     "data": {
      "text/plain": [
       "6"
      ]
     },
     "execution_count": 81,
     "metadata": {},
     "output_type": "execute_result"
    }
   ],
   "source": [
    "new_mols_to_test = append_to_tracking_table(master_table,gen0_mols, 'generated', 0)\n",
    "mols_for_pd = new_mols_to_test[0]\n",
    "mols_for_export = new_mols_to_test[1]\n",
    "master_table = master_table.append(mols_for_pd)\n",
    "len(mols_for_export)"
   ]
  },
  {
   "cell_type": "code",
   "execution_count": 82,
   "metadata": {},
   "outputs": [],
   "source": [
    "master_table = master_table.reset_index(drop=True)\n",
    "master_table.to_csv(r'./generations/master_results_table.csv', index=False)"
   ]
  },
  {
   "cell_type": "code",
   "execution_count": 83,
   "metadata": {},
   "outputs": [
    {
     "name": "stdout",
     "output_type": "stream",
     "text": [
      "idAAAGgen0\n",
      "idAAAHgen0\n",
      "idAAAIgen0\n",
      "idAAAJgen0\n",
      "idAAAKgen0\n",
      "idAAALgen0\n"
     ]
    }
   ],
   "source": [
    "# Add protease inhibitors into the table\n",
    "hiv_smiles = pd.read_csv('./datasets/protease_inhibitors_for_fine-tune.txt',sep=',', header=None)\n",
    "hiv_smiles = list(hiv_smiles[0])\n",
    "hiv_mols = validate_mols(hiv_smiles)\n",
    "\n",
    "master_table = pd.read_csv('./generations/master_results_table.csv',sep=',')\n",
    "new_mols_to_test = append_to_tracking_table(master_table,hiv_mols, 'hiv', 0)\n",
    "mols_for_pd = new_mols_to_test[0]\n",
    "mols_for_export = mols_for_export + new_mols_to_test[1]\n",
    "\n",
    "master_table = master_table.append(mols_for_pd)\n",
    "master_table = master_table.reset_index(drop=True)\n",
    "master_table.to_csv(r'./generations/master_results_table.csv', index=False)"
   ]
  },
  {
   "cell_type": "code",
   "execution_count": 84,
   "metadata": {},
   "outputs": [],
   "source": [
    "def write_gen_to_sdf(mols_for_export, generation, batch_size):\n",
    "    if len(mols_for_export) > batch_size:\n",
    "        batches = (len(mols_for_export) // 1000)+1\n",
    "        for i in range(0,batches):\n",
    "            batch_to_export = mols_for_export[i*batch_size:(i+1)*batch_size]\n",
    "            w = Chem.SDWriter('./generations/gen' +str(generation) + '_batch_' + str(i+1) + '.sdf')\n",
    "            for m in batch_to_export: w.write(m)\n",
    "    else:\n",
    "        w = Chem.SDWriter('./generations/gen' +str(generation) + '.sdf')\n",
    "        for m in mols_for_export:\n",
    "            w.write(m)\n",
    "    \n",
    "    return mols_for_export"
   ]
  },
  {
   "cell_type": "code",
   "execution_count": 85,
   "metadata": {},
   "outputs": [
    {
     "name": "stdout",
     "output_type": "stream",
     "text": [
      "ok\n"
     ]
    }
   ],
   "source": [
    "write_gen_to_sdf(mols_for_export, 0, 2000)\n",
    "print('ok')"
   ]
  },
  {
   "cell_type": "markdown",
   "metadata": {},
   "source": [
    "Generated molecules and protease inhibitors are saved in a sdf file. Next, go to PyRx to get binding scores of molecules with COVID-19 main protease (6LU7)."
   ]
  },
  {
   "cell_type": "markdown",
   "metadata": {},
   "source": [
    "# 7. PyRx binding scores result"
   ]
  },
  {
   "cell_type": "code",
   "execution_count": 3,
   "metadata": {
    "scrolled": false
   },
   "outputs": [
    {
     "data": {
      "text/html": [
       "<div>\n",
       "<style scoped>\n",
       "    .dataframe tbody tr th:only-of-type {\n",
       "        vertical-align: middle;\n",
       "    }\n",
       "\n",
       "    .dataframe tbody tr th {\n",
       "        vertical-align: top;\n",
       "    }\n",
       "\n",
       "    .dataframe thead th {\n",
       "        text-align: right;\n",
       "    }\n",
       "</style>\n",
       "<table border=\"1\" class=\"dataframe\">\n",
       "  <thead>\n",
       "    <tr style=\"text-align: right;\">\n",
       "      <th></th>\n",
       "      <th>Ligand</th>\n",
       "      <th>Binding Affinity</th>\n",
       "    </tr>\n",
       "  </thead>\n",
       "  <tbody>\n",
       "    <tr>\n",
       "      <th>0</th>\n",
       "      <td>Lopinavir</td>\n",
       "      <td>-6.9</td>\n",
       "    </tr>\n",
       "    <tr>\n",
       "      <th>1</th>\n",
       "      <td>Generated_3</td>\n",
       "      <td>-6.8</td>\n",
       "    </tr>\n",
       "    <tr>\n",
       "      <th>2</th>\n",
       "      <td>Generated_5</td>\n",
       "      <td>-6.3</td>\n",
       "    </tr>\n",
       "    <tr>\n",
       "      <th>3</th>\n",
       "      <td>Darunavir</td>\n",
       "      <td>-6.1</td>\n",
       "    </tr>\n",
       "    <tr>\n",
       "      <th>4</th>\n",
       "      <td>Generated_1</td>\n",
       "      <td>-6.0</td>\n",
       "    </tr>\n",
       "    <tr>\n",
       "      <th>5</th>\n",
       "      <td>Generated_6</td>\n",
       "      <td>-5.7</td>\n",
       "    </tr>\n",
       "    <tr>\n",
       "      <th>6</th>\n",
       "      <td>Generated_2</td>\n",
       "      <td>-5.5</td>\n",
       "    </tr>\n",
       "    <tr>\n",
       "      <th>7</th>\n",
       "      <td>Nelfinavir</td>\n",
       "      <td>-5.5</td>\n",
       "    </tr>\n",
       "    <tr>\n",
       "      <th>8</th>\n",
       "      <td>Atazanavir</td>\n",
       "      <td>-5.4</td>\n",
       "    </tr>\n",
       "    <tr>\n",
       "      <th>9</th>\n",
       "      <td>Remdesivir</td>\n",
       "      <td>-5.3</td>\n",
       "    </tr>\n",
       "    <tr>\n",
       "      <th>10</th>\n",
       "      <td>Ritonavir</td>\n",
       "      <td>-5.3</td>\n",
       "    </tr>\n",
       "    <tr>\n",
       "      <th>11</th>\n",
       "      <td>Generated_4</td>\n",
       "      <td>-5.2</td>\n",
       "    </tr>\n",
       "  </tbody>\n",
       "</table>\n",
       "</div>"
      ],
      "text/plain": [
       "         Ligand  Binding Affinity\n",
       "0     Lopinavir              -6.9\n",
       "1   Generated_3              -6.8\n",
       "2   Generated_5              -6.3\n",
       "3     Darunavir              -6.1\n",
       "4   Generated_1              -6.0\n",
       "5   Generated_6              -5.7\n",
       "6   Generated_2              -5.5\n",
       "7    Nelfinavir              -5.5\n",
       "8    Atazanavir              -5.4\n",
       "9    Remdesivir              -5.3\n",
       "10    Ritonavir              -5.3\n",
       "11  Generated_4              -5.2"
      ]
     },
     "execution_count": 3,
     "metadata": {},
     "output_type": "execute_result"
    }
   ],
   "source": [
    "# Load Binding Scores Result \n",
    "\n",
    "score = pd.read_csv('./pyrx/binding-scores-final.csv')\n",
    "score = score.iloc[:, [0,2]]\n",
    "score = score.sort_values(by='Binding Affinity')\n",
    "score = score.reset_index(drop=True)\n",
    "score"
   ]
  },
  {
   "cell_type": "markdown",
   "metadata": {},
   "source": [
    "Lopinavir shows highest binding affinity of -6.9 kcal/mol with the COVID-19 main protease, followed closely by **Generated_3** molecule with binding affinity of **-6.8 kcal/mol** and Generated_5 molecule with binding affinity of -6.3 kcal/mol. \n",
    "\n",
    "The image below shows the structure of COVID-19 main protease (sky blue color) in complex with Generated_3 molecule (image taken from PyRx during the binding score analysis)."
   ]
  },
  {
   "cell_type": "markdown",
   "metadata": {},
   "source": [
    "![AAAC-generated3.png](pyrx/AAAC-generated3.png)\n",
    "\n",
    "COVID-19 Main Protease (6LU7) in complex with Generated_3 Molecule"
   ]
  },
  {
   "cell_type": "markdown",
   "metadata": {},
   "source": [
    "# Future Work\n",
    "- Select highest binding score candidates to re-train and produce molecules with higher binding affinity\n",
    "- Increase generations\n",
    "- Run in cloud GPU to save time"
   ]
  }
 ],
 "metadata": {
  "kernelspec": {
   "display_name": "Python 3",
   "language": "python",
   "name": "python3"
  },
  "language_info": {
   "codemirror_mode": {
    "name": "ipython",
    "version": 3
   },
   "file_extension": ".py",
   "mimetype": "text/x-python",
   "name": "python",
   "nbconvert_exporter": "python",
   "pygments_lexer": "ipython3",
   "version": "3.7.6"
  }
 },
 "nbformat": 4,
 "nbformat_minor": 4
}
